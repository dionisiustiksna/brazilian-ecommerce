{
  "cells": [
    {
      "cell_type": "markdown",
      "metadata": {
        "id": "H9wADwK78DCz"
      },
      "source": [
        "# Proyek Analisis Data: [Brazilian E-Commerce Public Dataset by Olist]\n",
        "- **Nama:** Dionisius Tiksna Pratito\n",
        "- **Email:** dionisiustiksna@mail.ugm.ac.id\n",
        "- **ID Dicoding:** diontiksna"
      ]
    },
    {
      "cell_type": "markdown",
      "metadata": {
        "id": "eE0raob58DC0"
      },
      "source": [
        "## Menentukan Pertanyaan Bisnis"
      ]
    },
    {
      "cell_type": "markdown",
      "metadata": {
        "id": "GmQeQ5YF8DC0"
      },
      "source": [
        "1. Apa saja lima kota teratas dengan jumlah pelanggan paling banyak?\n",
        "2. Apa saja lima state teratas dengan jumlah pelanggan terbanyak?\n",
        "3. Kategori produk apa yang memiliki rata-rata pendapatan tertinggi?\n",
        "4. Apa kategori produk dengan pendapatan terbesar di tiap state?\n",
        "5. Bagaimana performa penjualan dalam beberapa bulan terakhir?\n",
        "6. Berapa rata-rata harga tiap kategori produk?"
      ]
    },
    {
      "cell_type": "markdown",
      "metadata": {
        "id": "H-z4QGlO8DC1"
      },
      "source": [
        "## Import Semua Packages/Library yang Digunakan"
      ]
    },
    {
      "cell_type": "code",
      "source": [
        "from google.colab import drive\n",
        "drive.mount('/content/drive')"
      ],
      "metadata": {
        "colab": {
          "base_uri": "https://localhost:8080/"
        },
        "id": "rSuSOQzMoRmO",
        "outputId": "a75fea84-a726-438a-ad30-20c4ea61affa"
      },
      "execution_count": 1,
      "outputs": [
        {
          "output_type": "stream",
          "name": "stdout",
          "text": [
            "Mounted at /content/drive\n"
          ]
        }
      ]
    },
    {
      "cell_type": "code",
      "execution_count": 2,
      "metadata": {
        "id": "FVYwaObI8DC1"
      },
      "outputs": [],
      "source": [
        "import numpy as np\n",
        "import pandas as pd\n",
        "import seaborn as sns\n",
        "import matplotlib.pyplot as plt"
      ]
    },
    {
      "cell_type": "markdown",
      "metadata": {
        "id": "h_Sh51Xy8DC1"
      },
      "source": [
        "## Data Wrangling"
      ]
    },
    {
      "cell_type": "markdown",
      "metadata": {
        "id": "sXU2GBYu8DC1"
      },
      "source": [
        "### Gathering Data"
      ]
    },
    {
      "cell_type": "markdown",
      "source": [
        "Membuat DataFrame untuk menampung dan membaca data csv yang diimpor dari Google Drive."
      ],
      "metadata": {
        "id": "FVcElcsArcHj"
      }
    },
    {
      "cell_type": "code",
      "source": [
        "customers_df = pd.read_csv('/content/drive/MyDrive/Olist - Dicoding/olist_customers_dataset.csv')\n",
        "geolocation_df = pd.read_csv('/content/drive/MyDrive/Olist - Dicoding/olist_geolocation_dataset.csv')\n",
        "order_payments_df = pd.read_csv('/content/drive/MyDrive/Olist - Dicoding/olist_order_payments_dataset.csv')\n",
        "order_reviews_df = pd.read_csv('/content/drive/MyDrive/Olist - Dicoding/olist_order_reviews_dataset.csv')\n",
        "orders_df = pd.read_csv('/content/drive/MyDrive/Olist - Dicoding/olist_orders_dataset.csv')\n",
        "product_category_df = pd.read_csv('/content/drive/MyDrive/Olist - Dicoding/product_category_name_translation.csv')\n",
        "products_df = pd.read_csv('/content/drive/MyDrive/Olist - Dicoding/olist_products_dataset.csv')\n",
        "sellers_df = pd.read_csv('/content/drive/MyDrive/Olist - Dicoding/olist_sellers_dataset.csv')\n",
        "order_items_df = pd.read_csv('/content/drive/MyDrive/Olist - Dicoding/olist_order_items_dataset.csv')\n"
      ],
      "metadata": {
        "id": "pY5TOkTAonzI"
      },
      "execution_count": 3,
      "outputs": []
    },
    {
      "cell_type": "markdown",
      "metadata": {
        "id": "FHSiqaZp8DC1"
      },
      "source": [
        "### Assessing Data"
      ]
    },
    {
      "cell_type": "markdown",
      "source": [
        "Data pertama yang akan dinilai adalah customers_df. Tipe data dari tiap kolom diperiksa dengan menggunakan method info()."
      ],
      "metadata": {
        "id": "TPdD0gmf1Kr2"
      }
    },
    {
      "cell_type": "code",
      "source": [
        "customers_df.info()"
      ],
      "metadata": {
        "colab": {
          "base_uri": "https://localhost:8080/"
        },
        "id": "inLgiRJ9q2vo",
        "outputId": "5d288ae9-acd4-47a7-813f-ef9d7ecfa28e"
      },
      "execution_count": 4,
      "outputs": [
        {
          "output_type": "stream",
          "name": "stdout",
          "text": [
            "<class 'pandas.core.frame.DataFrame'>\n",
            "RangeIndex: 99441 entries, 0 to 99440\n",
            "Data columns (total 5 columns):\n",
            " #   Column                    Non-Null Count  Dtype \n",
            "---  ------                    --------------  ----- \n",
            " 0   customer_id               99441 non-null  object\n",
            " 1   customer_unique_id        99441 non-null  object\n",
            " 2   customer_zip_code_prefix  99441 non-null  int64 \n",
            " 3   customer_city             99441 non-null  object\n",
            " 4   customer_state            99441 non-null  object\n",
            "dtypes: int64(1), object(4)\n",
            "memory usage: 3.8+ MB\n"
          ]
        }
      ]
    },
    {
      "cell_type": "code",
      "source": [
        "customers_df.nunique()"
      ],
      "metadata": {
        "colab": {
          "base_uri": "https://localhost:8080/"
        },
        "id": "LDKeDKohDWPC",
        "outputId": "e6bfc422-ce67-4269-ec00-7845f375d197"
      },
      "execution_count": 5,
      "outputs": [
        {
          "output_type": "execute_result",
          "data": {
            "text/plain": [
              "customer_id                 99441\n",
              "customer_unique_id          96096\n",
              "customer_zip_code_prefix    14994\n",
              "customer_city                4119\n",
              "customer_state                 27\n",
              "dtype: int64"
            ]
          },
          "metadata": {},
          "execution_count": 5
        }
      ]
    },
    {
      "cell_type": "markdown",
      "source": [
        "Tampak bahwa tidak terdapat perbedaan jumlah data. Hal ini kemudian diperiksa kembali dengan mengecek apakah ada missing value atau tidak dengan method isna(). Ternyata, hasilnya menunjukkan bahwa tidak ada data yang hilang."
      ],
      "metadata": {
        "id": "pLxNiC4l1YZd"
      }
    },
    {
      "cell_type": "code",
      "source": [
        "customers_df.isna().sum()"
      ],
      "metadata": {
        "id": "ax-3tEjc9Cj1",
        "colab": {
          "base_uri": "https://localhost:8080/"
        },
        "outputId": "45849b0b-31b3-45d7-db56-0c0e0b6b84d6"
      },
      "execution_count": 6,
      "outputs": [
        {
          "output_type": "execute_result",
          "data": {
            "text/plain": [
              "customer_id                 0\n",
              "customer_unique_id          0\n",
              "customer_zip_code_prefix    0\n",
              "customer_city               0\n",
              "customer_state              0\n",
              "dtype: int64"
            ]
          },
          "metadata": {},
          "execution_count": 6
        }
      ]
    },
    {
      "cell_type": "markdown",
      "source": [
        "Kemudian dilakukan pemeriksaan berapa banyak jumlah data yang unik untuk tiap parameter dengan nunique()."
      ],
      "metadata": {
        "id": "h3bfRTnsD99P"
      }
    },
    {
      "cell_type": "code",
      "source": [
        "customers_df.nunique()"
      ],
      "metadata": {
        "id": "jVnYpprE9Evz",
        "colab": {
          "base_uri": "https://localhost:8080/"
        },
        "outputId": "7a09a849-7a58-4d04-ee09-ab0e269d344b"
      },
      "execution_count": 7,
      "outputs": [
        {
          "output_type": "execute_result",
          "data": {
            "text/plain": [
              "customer_id                 99441\n",
              "customer_unique_id          96096\n",
              "customer_zip_code_prefix    14994\n",
              "customer_city                4119\n",
              "customer_state                 27\n",
              "dtype: int64"
            ]
          },
          "metadata": {},
          "execution_count": 7
        }
      ]
    },
    {
      "cell_type": "markdown",
      "source": [
        "Masalah berikutnya yang diperiksa adalah duplikasi data, untuk memeriksa hal ini digunakan method duplicated()."
      ],
      "metadata": {
        "id": "PV0HdTxX1npl"
      }
    },
    {
      "cell_type": "code",
      "source": [
        "print('Jumlah duplikasi: ', customers_df.duplicated().sum())"
      ],
      "metadata": {
        "colab": {
          "base_uri": "https://localhost:8080/"
        },
        "id": "LSDByGFcrSIh",
        "outputId": "721a1bc5-8d65-4209-ebb4-00da54994690"
      },
      "execution_count": 8,
      "outputs": [
        {
          "output_type": "stream",
          "name": "stdout",
          "text": [
            "Jumlah duplikasi:  0\n"
          ]
        }
      ]
    },
    {
      "cell_type": "markdown",
      "source": [
        "### Menilai tabel ***geolocation_df***"
      ],
      "metadata": {
        "id": "BBykdiCWEG3W"
      }
    },
    {
      "cell_type": "code",
      "source": [
        "geolocation_df.info()"
      ],
      "metadata": {
        "colab": {
          "base_uri": "https://localhost:8080/"
        },
        "id": "R-yNKuV3ESEq",
        "outputId": "3c9e0c23-2a27-4c93-dae0-b95c6243ba4e"
      },
      "execution_count": 9,
      "outputs": [
        {
          "output_type": "stream",
          "name": "stdout",
          "text": [
            "<class 'pandas.core.frame.DataFrame'>\n",
            "RangeIndex: 1000163 entries, 0 to 1000162\n",
            "Data columns (total 5 columns):\n",
            " #   Column                       Non-Null Count    Dtype  \n",
            "---  ------                       --------------    -----  \n",
            " 0   geolocation_zip_code_prefix  1000163 non-null  int64  \n",
            " 1   geolocation_lat              1000163 non-null  float64\n",
            " 2   geolocation_lng              1000163 non-null  float64\n",
            " 3   geolocation_city             1000163 non-null  object \n",
            " 4   geolocation_state            1000163 non-null  object \n",
            "dtypes: float64(2), int64(1), object(2)\n",
            "memory usage: 38.2+ MB\n"
          ]
        }
      ]
    },
    {
      "cell_type": "code",
      "source": [
        "geolocation_df.isna().sum()"
      ],
      "metadata": {
        "colab": {
          "base_uri": "https://localhost:8080/"
        },
        "id": "fJfvI1ZHEXjj",
        "outputId": "d15deba0-ec95-4070-dc46-361ee54c0792"
      },
      "execution_count": 10,
      "outputs": [
        {
          "output_type": "execute_result",
          "data": {
            "text/plain": [
              "geolocation_zip_code_prefix    0\n",
              "geolocation_lat                0\n",
              "geolocation_lng                0\n",
              "geolocation_city               0\n",
              "geolocation_state              0\n",
              "dtype: int64"
            ]
          },
          "metadata": {},
          "execution_count": 10
        }
      ]
    },
    {
      "cell_type": "code",
      "source": [
        "geolocation_df.nunique()"
      ],
      "metadata": {
        "colab": {
          "base_uri": "https://localhost:8080/"
        },
        "id": "iJhgfhaTEa5V",
        "outputId": "c9893f72-4dc9-43c9-d82d-ed67e67bd789"
      },
      "execution_count": 11,
      "outputs": [
        {
          "output_type": "execute_result",
          "data": {
            "text/plain": [
              "geolocation_zip_code_prefix     19015\n",
              "geolocation_lat                717360\n",
              "geolocation_lng                717613\n",
              "geolocation_city                 8011\n",
              "geolocation_state                  27\n",
              "dtype: int64"
            ]
          },
          "metadata": {},
          "execution_count": 11
        }
      ]
    },
    {
      "cell_type": "markdown",
      "source": [
        "Dilakukan pengecekan apakah terdapat data yang duplikat atau tidak. Untuk melakukan hal itu, digunakan method duplicated() dan ternyata terdapat 261.831 data yang duplikat."
      ],
      "metadata": {
        "id": "FnQAJlLnEtRH"
      }
    },
    {
      "cell_type": "code",
      "source": [
        "geolocation_df.duplicated().sum()"
      ],
      "metadata": {
        "colab": {
          "base_uri": "https://localhost:8080/"
        },
        "id": "gC1xcgPSEfCd",
        "outputId": "2dc0b523-7c39-4bc2-a773-921f74c11f8f"
      },
      "execution_count": 12,
      "outputs": [
        {
          "output_type": "execute_result",
          "data": {
            "text/plain": [
              "261831"
            ]
          },
          "metadata": {},
          "execution_count": 12
        }
      ]
    },
    {
      "cell_type": "markdown",
      "source": [
        "## Menilai tabel ***order_items_df***"
      ],
      "metadata": {
        "id": "YPqOlfhZFQPP"
      }
    },
    {
      "cell_type": "code",
      "source": [
        "order_items_df.info()"
      ],
      "metadata": {
        "colab": {
          "base_uri": "https://localhost:8080/"
        },
        "id": "pVqxdlH_FV6x",
        "outputId": "b2a4d7f4-dec5-4963-ca12-3961e0472572"
      },
      "execution_count": 13,
      "outputs": [
        {
          "output_type": "stream",
          "name": "stdout",
          "text": [
            "<class 'pandas.core.frame.DataFrame'>\n",
            "RangeIndex: 112650 entries, 0 to 112649\n",
            "Data columns (total 7 columns):\n",
            " #   Column               Non-Null Count   Dtype  \n",
            "---  ------               --------------   -----  \n",
            " 0   order_id             112650 non-null  object \n",
            " 1   order_item_id        112650 non-null  int64  \n",
            " 2   product_id           112650 non-null  object \n",
            " 3   seller_id            112650 non-null  object \n",
            " 4   shipping_limit_date  112650 non-null  object \n",
            " 5   price                112650 non-null  float64\n",
            " 6   freight_value        112650 non-null  float64\n",
            "dtypes: float64(2), int64(1), object(4)\n",
            "memory usage: 6.0+ MB\n"
          ]
        }
      ]
    },
    {
      "cell_type": "code",
      "source": [
        "order_items_df.nunique()"
      ],
      "metadata": {
        "colab": {
          "base_uri": "https://localhost:8080/"
        },
        "id": "-INhU4ctGxYY",
        "outputId": "445c6f0e-177a-4e69-9a91-b1abbbb111ac"
      },
      "execution_count": 14,
      "outputs": [
        {
          "output_type": "execute_result",
          "data": {
            "text/plain": [
              "order_id               98666\n",
              "order_item_id             21\n",
              "product_id             32951\n",
              "seller_id               3095\n",
              "shipping_limit_date    93318\n",
              "price                   5968\n",
              "freight_value           6999\n",
              "dtype: int64"
            ]
          },
          "metadata": {},
          "execution_count": 14
        }
      ]
    },
    {
      "cell_type": "markdown",
      "source": [
        "Diperiksa apakah terdapat data duplikat pada parameter yang seharusnya bernilai unik untuk semua data. Dengan melakukan method duplicated() pada 'order_id' ditemukan terdapat 13.984 data duplikat."
      ],
      "metadata": {
        "id": "EQXLLHqEG3ns"
      }
    },
    {
      "cell_type": "code",
      "source": [
        "order_items_df.duplicated('order_id').sum()"
      ],
      "metadata": {
        "colab": {
          "base_uri": "https://localhost:8080/"
        },
        "id": "TsntgL1rFvY5",
        "outputId": "58a37bac-0e9b-4a3e-e659-aeb0f9156281"
      },
      "execution_count": 15,
      "outputs": [
        {
          "output_type": "execute_result",
          "data": {
            "text/plain": [
              "13984"
            ]
          },
          "metadata": {},
          "execution_count": 15
        }
      ]
    },
    {
      "cell_type": "markdown",
      "source": [
        "### Menilai tabel ***order_payments_df***"
      ],
      "metadata": {
        "id": "Dzn1HTwPHXSK"
      }
    },
    {
      "cell_type": "code",
      "source": [
        "order_payments_df.info()"
      ],
      "metadata": {
        "colab": {
          "base_uri": "https://localhost:8080/"
        },
        "id": "XTt4ID23Hak8",
        "outputId": "48b28fff-621e-49d8-fa01-b7470ca8bd71"
      },
      "execution_count": 16,
      "outputs": [
        {
          "output_type": "stream",
          "name": "stdout",
          "text": [
            "<class 'pandas.core.frame.DataFrame'>\n",
            "RangeIndex: 103886 entries, 0 to 103885\n",
            "Data columns (total 5 columns):\n",
            " #   Column                Non-Null Count   Dtype  \n",
            "---  ------                --------------   -----  \n",
            " 0   order_id              103886 non-null  object \n",
            " 1   payment_sequential    103886 non-null  int64  \n",
            " 2   payment_type          103886 non-null  object \n",
            " 3   payment_installments  103886 non-null  int64  \n",
            " 4   payment_value         103886 non-null  float64\n",
            "dtypes: float64(1), int64(2), object(2)\n",
            "memory usage: 4.0+ MB\n"
          ]
        }
      ]
    },
    {
      "cell_type": "code",
      "source": [
        "order_payments_df.duplicated('order_id').sum()"
      ],
      "metadata": {
        "colab": {
          "base_uri": "https://localhost:8080/"
        },
        "id": "QBtFq5RVHerI",
        "outputId": "e5cc78ef-b61d-4963-edce-7b38ef6ade7f"
      },
      "execution_count": 17,
      "outputs": [
        {
          "output_type": "execute_result",
          "data": {
            "text/plain": [
              "4446"
            ]
          },
          "metadata": {},
          "execution_count": 17
        }
      ]
    },
    {
      "cell_type": "code",
      "source": [
        "order_payments_df.nunique()"
      ],
      "metadata": {
        "colab": {
          "base_uri": "https://localhost:8080/"
        },
        "id": "0LPkvl2mHmEs",
        "outputId": "0c87d4ea-8613-4f0a-ffe1-2e8a7a306492"
      },
      "execution_count": 18,
      "outputs": [
        {
          "output_type": "execute_result",
          "data": {
            "text/plain": [
              "order_id                99440\n",
              "payment_sequential         29\n",
              "payment_type                5\n",
              "payment_installments       24\n",
              "payment_value           29077\n",
              "dtype: int64"
            ]
          },
          "metadata": {},
          "execution_count": 18
        }
      ]
    },
    {
      "cell_type": "markdown",
      "source": [
        "## Menilai tabel ***order_reviews_df***"
      ],
      "metadata": {
        "id": "-Pw580J8HqUa"
      }
    },
    {
      "cell_type": "markdown",
      "source": [
        "Dilakukan pemeriksaan jumlah dan tipe data pada tiap parameter. Terdapat kekeliuran tipe data pada review_answer_timestamp dan review_creation_data yang seharusnya bertipe data datetime serta bukan object."
      ],
      "metadata": {
        "id": "JsCnOQCrInva"
      }
    },
    {
      "cell_type": "code",
      "source": [
        "order_reviews_df.info()"
      ],
      "metadata": {
        "colab": {
          "base_uri": "https://localhost:8080/"
        },
        "id": "eZFRfTcwHprT",
        "outputId": "dcae2bfd-a734-4b61-9fe5-a0f8540b0993"
      },
      "execution_count": 19,
      "outputs": [
        {
          "output_type": "stream",
          "name": "stdout",
          "text": [
            "<class 'pandas.core.frame.DataFrame'>\n",
            "RangeIndex: 99224 entries, 0 to 99223\n",
            "Data columns (total 7 columns):\n",
            " #   Column                   Non-Null Count  Dtype \n",
            "---  ------                   --------------  ----- \n",
            " 0   review_id                99224 non-null  object\n",
            " 1   order_id                 99224 non-null  object\n",
            " 2   review_score             99224 non-null  int64 \n",
            " 3   review_comment_title     11568 non-null  object\n",
            " 4   review_comment_message   40977 non-null  object\n",
            " 5   review_creation_date     99224 non-null  object\n",
            " 6   review_answer_timestamp  99224 non-null  object\n",
            "dtypes: int64(1), object(6)\n",
            "memory usage: 5.3+ MB\n"
          ]
        }
      ]
    },
    {
      "cell_type": "code",
      "source": [
        "order_reviews_df.isna().sum()"
      ],
      "metadata": {
        "colab": {
          "base_uri": "https://localhost:8080/"
        },
        "id": "MAn2CEf8Hydg",
        "outputId": "3f7dc8b9-cb3f-4707-f692-8655de3b1bfe"
      },
      "execution_count": 20,
      "outputs": [
        {
          "output_type": "execute_result",
          "data": {
            "text/plain": [
              "review_id                      0\n",
              "order_id                       0\n",
              "review_score                   0\n",
              "review_comment_title       87656\n",
              "review_comment_message     58247\n",
              "review_creation_date           0\n",
              "review_answer_timestamp        0\n",
              "dtype: int64"
            ]
          },
          "metadata": {},
          "execution_count": 20
        }
      ]
    },
    {
      "cell_type": "code",
      "source": [
        "order_reviews_df.nunique()"
      ],
      "metadata": {
        "colab": {
          "base_uri": "https://localhost:8080/"
        },
        "id": "95wrFIg7H5C_",
        "outputId": "ed57b601-4e1c-4b90-91b4-c1c6230094d4"
      },
      "execution_count": 21,
      "outputs": [
        {
          "output_type": "execute_result",
          "data": {
            "text/plain": [
              "review_id                  98410\n",
              "order_id                   98673\n",
              "review_score                   5\n",
              "review_comment_title        4527\n",
              "review_comment_message     36159\n",
              "review_creation_date         636\n",
              "review_answer_timestamp    98248\n",
              "dtype: int64"
            ]
          },
          "metadata": {},
          "execution_count": 21
        }
      ]
    },
    {
      "cell_type": "code",
      "source": [
        "print(f'Jumlah review_id duplikat: ', order_reviews_df.duplicated('review_id').sum())\n",
        "print(f'Jumlah order_id duplikat: ', order_reviews_df.duplicated('order_id').sum())"
      ],
      "metadata": {
        "colab": {
          "base_uri": "https://localhost:8080/"
        },
        "id": "QL3u49tGH8Bp",
        "outputId": "bde6f7b8-1cfb-4198-8a5f-02f614c5c25d"
      },
      "execution_count": 22,
      "outputs": [
        {
          "output_type": "stream",
          "name": "stdout",
          "text": [
            "Jumlah review_id duplikat:  814\n",
            "Jumlah order_id duplikat:  551\n"
          ]
        }
      ]
    },
    {
      "cell_type": "markdown",
      "source": [
        "## Menilai tabel ***orders_df***"
      ],
      "metadata": {
        "id": "U4riHheLJIPu"
      }
    },
    {
      "cell_type": "markdown",
      "source": [
        "Terdapat kekeliruan yang sama yaitu tipe data yang tidak sesuai pada order_purchase_timestamp, order_delivered_carrier_date, order_delivered_customer_date, dan order_estimated_delivery_date yang seharusnya bertipe data datetime."
      ],
      "metadata": {
        "id": "eOXcsyemJQDQ"
      }
    },
    {
      "cell_type": "code",
      "source": [
        "orders_df.info()"
      ],
      "metadata": {
        "colab": {
          "base_uri": "https://localhost:8080/"
        },
        "id": "YgVvegfgJMyO",
        "outputId": "046326f7-5a6b-41a0-a01d-faf283e2158e"
      },
      "execution_count": 23,
      "outputs": [
        {
          "output_type": "stream",
          "name": "stdout",
          "text": [
            "<class 'pandas.core.frame.DataFrame'>\n",
            "RangeIndex: 99441 entries, 0 to 99440\n",
            "Data columns (total 8 columns):\n",
            " #   Column                         Non-Null Count  Dtype \n",
            "---  ------                         --------------  ----- \n",
            " 0   order_id                       99441 non-null  object\n",
            " 1   customer_id                    99441 non-null  object\n",
            " 2   order_status                   99441 non-null  object\n",
            " 3   order_purchase_timestamp       99441 non-null  object\n",
            " 4   order_approved_at              99281 non-null  object\n",
            " 5   order_delivered_carrier_date   97658 non-null  object\n",
            " 6   order_delivered_customer_date  96476 non-null  object\n",
            " 7   order_estimated_delivery_date  99441 non-null  object\n",
            "dtypes: object(8)\n",
            "memory usage: 6.1+ MB\n"
          ]
        }
      ]
    },
    {
      "cell_type": "markdown",
      "source": [
        "Tampak bahwa terdapat banyak missing value pada beberapa parameter."
      ],
      "metadata": {
        "id": "Wu4iS-eyK_MA"
      }
    },
    {
      "cell_type": "code",
      "source": [
        "orders_df.isna().sum()"
      ],
      "metadata": {
        "colab": {
          "base_uri": "https://localhost:8080/"
        },
        "id": "9Yb9HZi2K7na",
        "outputId": "ba0c6626-4051-449f-d921-c9227d28a50c"
      },
      "execution_count": 24,
      "outputs": [
        {
          "output_type": "execute_result",
          "data": {
            "text/plain": [
              "order_id                            0\n",
              "customer_id                         0\n",
              "order_status                        0\n",
              "order_purchase_timestamp            0\n",
              "order_approved_at                 160\n",
              "order_delivered_carrier_date     1783\n",
              "order_delivered_customer_date    2965\n",
              "order_estimated_delivery_date       0\n",
              "dtype: int64"
            ]
          },
          "metadata": {},
          "execution_count": 24
        }
      ]
    },
    {
      "cell_type": "code",
      "source": [
        "print('Jumlah duplikasi: ', orders_df.duplicated().sum())"
      ],
      "metadata": {
        "colab": {
          "base_uri": "https://localhost:8080/"
        },
        "id": "SqdWu4oHLESW",
        "outputId": "5b3dae04-a7f1-4034-d8f8-97c18411d02a"
      },
      "execution_count": 25,
      "outputs": [
        {
          "output_type": "stream",
          "name": "stdout",
          "text": [
            "Jumlah duplikasi:  0\n"
          ]
        }
      ]
    },
    {
      "cell_type": "markdown",
      "source": [
        "## Menilai tabel ***product_category_df***"
      ],
      "metadata": {
        "id": "Oa3lc3hTNdJT"
      }
    },
    {
      "cell_type": "code",
      "source": [
        "product_category_df.info()"
      ],
      "metadata": {
        "colab": {
          "base_uri": "https://localhost:8080/"
        },
        "id": "DbNH8BftNhHA",
        "outputId": "c80380b9-08e1-40ee-9a10-18fdd6a26ebe"
      },
      "execution_count": 26,
      "outputs": [
        {
          "output_type": "stream",
          "name": "stdout",
          "text": [
            "<class 'pandas.core.frame.DataFrame'>\n",
            "RangeIndex: 71 entries, 0 to 70\n",
            "Data columns (total 2 columns):\n",
            " #   Column                         Non-Null Count  Dtype \n",
            "---  ------                         --------------  ----- \n",
            " 0   product_category_name          71 non-null     object\n",
            " 1   product_category_name_english  71 non-null     object\n",
            "dtypes: object(2)\n",
            "memory usage: 1.2+ KB\n"
          ]
        }
      ]
    },
    {
      "cell_type": "markdown",
      "source": [
        "## Menilai tabel ***products_df***"
      ],
      "metadata": {
        "id": "vdbUcVGcNrP1"
      }
    },
    {
      "cell_type": "markdown",
      "source": [
        "Dengan pemeriksaan menggunakan method info(), terdapat kesalahan tipe data pada product_name_lenght, product_description_lenght, product_photos_qty yang seharusnya bertipe data integer. Terdapat pula typo pada penulisan nama kolom product_name_lenght dan product_description_lenght."
      ],
      "metadata": {
        "id": "RyeuOlPuOCN7"
      }
    },
    {
      "cell_type": "code",
      "source": [
        "products_df.info()"
      ],
      "metadata": {
        "colab": {
          "base_uri": "https://localhost:8080/"
        },
        "id": "tSBBdcP-NmT_",
        "outputId": "eeaa75dd-ad1c-4e07-c27e-7a6d1f02589d"
      },
      "execution_count": 27,
      "outputs": [
        {
          "output_type": "stream",
          "name": "stdout",
          "text": [
            "<class 'pandas.core.frame.DataFrame'>\n",
            "RangeIndex: 32951 entries, 0 to 32950\n",
            "Data columns (total 9 columns):\n",
            " #   Column                      Non-Null Count  Dtype  \n",
            "---  ------                      --------------  -----  \n",
            " 0   product_id                  32951 non-null  object \n",
            " 1   product_category_name       32341 non-null  object \n",
            " 2   product_name_lenght         32341 non-null  float64\n",
            " 3   product_description_lenght  32341 non-null  float64\n",
            " 4   product_photos_qty          32341 non-null  float64\n",
            " 5   product_weight_g            32949 non-null  float64\n",
            " 6   product_length_cm           32949 non-null  float64\n",
            " 7   product_height_cm           32949 non-null  float64\n",
            " 8   product_width_cm            32949 non-null  float64\n",
            "dtypes: float64(7), object(2)\n",
            "memory usage: 2.3+ MB\n"
          ]
        }
      ]
    },
    {
      "cell_type": "code",
      "source": [
        "products_df.isna().sum()"
      ],
      "metadata": {
        "colab": {
          "base_uri": "https://localhost:8080/"
        },
        "id": "I3HW_fGANw39",
        "outputId": "3922913d-61c1-4546-b2ba-c85645c20bad"
      },
      "execution_count": 28,
      "outputs": [
        {
          "output_type": "execute_result",
          "data": {
            "text/plain": [
              "product_id                      0\n",
              "product_category_name         610\n",
              "product_name_lenght           610\n",
              "product_description_lenght    610\n",
              "product_photos_qty            610\n",
              "product_weight_g                2\n",
              "product_length_cm               2\n",
              "product_height_cm               2\n",
              "product_width_cm                2\n",
              "dtype: int64"
            ]
          },
          "metadata": {},
          "execution_count": 28
        }
      ]
    },
    {
      "cell_type": "code",
      "source": [
        "products_df.nunique()"
      ],
      "metadata": {
        "colab": {
          "base_uri": "https://localhost:8080/"
        },
        "id": "p3F9soGCN0Hq",
        "outputId": "ac3ce10d-cdfd-4983-9eaa-336d7a02c22c"
      },
      "execution_count": 29,
      "outputs": [
        {
          "output_type": "execute_result",
          "data": {
            "text/plain": [
              "product_id                    32951\n",
              "product_category_name            73\n",
              "product_name_lenght              66\n",
              "product_description_lenght     2960\n",
              "product_photos_qty               19\n",
              "product_weight_g               2204\n",
              "product_length_cm                99\n",
              "product_height_cm               102\n",
              "product_width_cm                 95\n",
              "dtype: int64"
            ]
          },
          "metadata": {},
          "execution_count": 29
        }
      ]
    },
    {
      "cell_type": "markdown",
      "source": [
        "## Menilai tabel ***sellers_df***"
      ],
      "metadata": {
        "id": "ON-AjwhKOXtY"
      }
    },
    {
      "cell_type": "code",
      "source": [
        "sellers_df.info()"
      ],
      "metadata": {
        "colab": {
          "base_uri": "https://localhost:8080/"
        },
        "id": "r-kplqOvObbe",
        "outputId": "2a67c1ff-39c4-47fb-ccec-72e0a2301a26"
      },
      "execution_count": 30,
      "outputs": [
        {
          "output_type": "stream",
          "name": "stdout",
          "text": [
            "<class 'pandas.core.frame.DataFrame'>\n",
            "RangeIndex: 3095 entries, 0 to 3094\n",
            "Data columns (total 4 columns):\n",
            " #   Column                  Non-Null Count  Dtype \n",
            "---  ------                  --------------  ----- \n",
            " 0   seller_id               3095 non-null   object\n",
            " 1   seller_zip_code_prefix  3095 non-null   int64 \n",
            " 2   seller_city             3095 non-null   object\n",
            " 3   seller_state            3095 non-null   object\n",
            "dtypes: int64(1), object(3)\n",
            "memory usage: 96.8+ KB\n"
          ]
        }
      ]
    },
    {
      "cell_type": "code",
      "source": [
        "sellers_df.nunique()"
      ],
      "metadata": {
        "colab": {
          "base_uri": "https://localhost:8080/"
        },
        "id": "XND8uJcLOfda",
        "outputId": "a169d3a5-6a4f-49ef-e5ad-78711a749cf3"
      },
      "execution_count": 31,
      "outputs": [
        {
          "output_type": "execute_result",
          "data": {
            "text/plain": [
              "seller_id                 3095\n",
              "seller_zip_code_prefix    2246\n",
              "seller_city                611\n",
              "seller_state                23\n",
              "dtype: int64"
            ]
          },
          "metadata": {},
          "execution_count": 31
        }
      ]
    },
    {
      "cell_type": "markdown",
      "metadata": {
        "id": "EhN5R4hr8DC1"
      },
      "source": [
        "### Cleaning Data"
      ]
    },
    {
      "cell_type": "markdown",
      "source": [
        "Menghapus semua data duplikat pada order_id pada tabel order_items_df. Kemudian memeriksa apakah terdapat data duplikat."
      ],
      "metadata": {
        "id": "4CZ84-4BP2BR"
      }
    },
    {
      "cell_type": "code",
      "source": [
        "order_items_df.drop_duplicates(subset = 'order_id', inplace = True)\n",
        "print(f'Jumlah order_id duplikat: ', order_items_df.duplicated('order_id').sum())"
      ],
      "metadata": {
        "colab": {
          "base_uri": "https://localhost:8080/"
        },
        "id": "uXKfU-m2PiqU",
        "outputId": "59749c76-dd10-4cf3-d495-f1bac5b8cbd0"
      },
      "execution_count": 32,
      "outputs": [
        {
          "output_type": "stream",
          "name": "stdout",
          "text": [
            "Jumlah order_id duplikat:  0\n"
          ]
        }
      ]
    },
    {
      "cell_type": "markdown",
      "source": [
        "Mengubah tipe data shipping_limit_date menjadi datetime."
      ],
      "metadata": {
        "id": "caWUHoU3W4OA"
      }
    },
    {
      "cell_type": "code",
      "source": [
        "order_items_df['shipping_limit_date'] = order_items_df['shipping_limit_date'].astype('datetime64[ns]')"
      ],
      "metadata": {
        "id": "0l8gZ0miQXHQ"
      },
      "execution_count": 33,
      "outputs": []
    },
    {
      "cell_type": "markdown",
      "source": [
        "Menghapus data duplikat yang ada di data order_reviews_df pada kolom review_id dan order_id."
      ],
      "metadata": {
        "id": "jwcuDUCnXBf2"
      }
    },
    {
      "cell_type": "code",
      "source": [
        "order_reviews_df.drop_duplicates(subset = 'review_id', inplace = True)"
      ],
      "metadata": {
        "id": "WEGQ76QMXHs5"
      },
      "execution_count": 34,
      "outputs": []
    },
    {
      "cell_type": "code",
      "source": [
        "print(f'Jumlah review_id duplikat: ', order_reviews_df.duplicated('review_id').sum())"
      ],
      "metadata": {
        "colab": {
          "base_uri": "https://localhost:8080/"
        },
        "id": "Mev084c-XMfD",
        "outputId": "a9cbed68-4df9-4830-8850-01b72122ba13"
      },
      "execution_count": 35,
      "outputs": [
        {
          "output_type": "stream",
          "name": "stdout",
          "text": [
            "Jumlah review_id duplikat:  0\n"
          ]
        }
      ]
    },
    {
      "cell_type": "code",
      "source": [
        "order_reviews_df.nunique()"
      ],
      "metadata": {
        "colab": {
          "base_uri": "https://localhost:8080/"
        },
        "id": "q105jI3MXaXg",
        "outputId": "ceea67a0-66db-4294-a051-b8b67efb25be"
      },
      "execution_count": 36,
      "outputs": [
        {
          "output_type": "execute_result",
          "data": {
            "text/plain": [
              "review_id                  98410\n",
              "order_id                   98167\n",
              "review_score                   5\n",
              "review_comment_title        4527\n",
              "review_comment_message     36159\n",
              "review_creation_date         636\n",
              "review_answer_timestamp    98248\n",
              "dtype: int64"
            ]
          },
          "metadata": {},
          "execution_count": 36
        }
      ]
    },
    {
      "cell_type": "markdown",
      "source": [
        "Mengubah tipe data pada kolom review_creation_date dan review_answer_timestamp menjadi datetime."
      ],
      "metadata": {
        "id": "CwVELXz_XeOJ"
      }
    },
    {
      "cell_type": "code",
      "source": [
        "datetime_columns = ['review_creation_date', 'review_answer_timestamp']\n",
        "\n",
        "for column in datetime_columns:\n",
        "  order_reviews_df[column] = pd.to_datetime(order_reviews_df[column])"
      ],
      "metadata": {
        "id": "MqaiO5_fXjal"
      },
      "execution_count": 37,
      "outputs": []
    },
    {
      "cell_type": "code",
      "source": [
        "order_reviews_df.info()"
      ],
      "metadata": {
        "colab": {
          "base_uri": "https://localhost:8080/"
        },
        "id": "i3UxFxBSXvEG",
        "outputId": "fdf46d42-7760-4b0f-8aa3-0e9ef5ac19fd"
      },
      "execution_count": 38,
      "outputs": [
        {
          "output_type": "stream",
          "name": "stdout",
          "text": [
            "<class 'pandas.core.frame.DataFrame'>\n",
            "Int64Index: 98410 entries, 0 to 99223\n",
            "Data columns (total 7 columns):\n",
            " #   Column                   Non-Null Count  Dtype         \n",
            "---  ------                   --------------  -----         \n",
            " 0   review_id                98410 non-null  object        \n",
            " 1   order_id                 98410 non-null  object        \n",
            " 2   review_score             98410 non-null  int64         \n",
            " 3   review_comment_title     11519 non-null  object        \n",
            " 4   review_comment_message   40668 non-null  object        \n",
            " 5   review_creation_date     98410 non-null  datetime64[ns]\n",
            " 6   review_answer_timestamp  98410 non-null  datetime64[ns]\n",
            "dtypes: datetime64[ns](2), int64(1), object(4)\n",
            "memory usage: 6.0+ MB\n"
          ]
        }
      ]
    },
    {
      "cell_type": "markdown",
      "source": [
        "Mengubah tipe data orders_df pada kolom order_purchase_timestamp, order_approved_at, order_delivered_carrier_date, order_delivered_customer_date, order_estimated_delivery_date menjadi datetime."
      ],
      "metadata": {
        "id": "c_fZBdU_X1i3"
      }
    },
    {
      "cell_type": "code",
      "source": [
        "datetime_columns_orders = ['order_purchase_timestamp', 'order_approved_at', 'order_delivered_carrier_date', 'order_delivered_customer_date', 'order_estimated_delivery_date']\n",
        "\n",
        "for column in datetime_columns_orders:\n",
        "  orders_df[column] = pd.to_datetime(orders_df[column])"
      ],
      "metadata": {
        "id": "rE2s9lBDYEl1"
      },
      "execution_count": 39,
      "outputs": []
    },
    {
      "cell_type": "markdown",
      "source": [
        "Memperbaiki kesalahan penulisan pada kolom product_name_lenght dan product_description_lenght menjadi product_name_length dan product_description_length pada products_df."
      ],
      "metadata": {
        "id": "5vjdRUfGYxni"
      }
    },
    {
      "cell_type": "code",
      "source": [
        "products_df.rename(columns = {'product_name_lenght':'product_name_length', 'product_description_lenght':'product_description_length'}, inplace=True)"
      ],
      "metadata": {
        "id": "_2spWJ_vY6y-"
      },
      "execution_count": 40,
      "outputs": []
    },
    {
      "cell_type": "code",
      "source": [
        "products_df.info()"
      ],
      "metadata": {
        "colab": {
          "base_uri": "https://localhost:8080/"
        },
        "id": "tBfXjYvoZLxR",
        "outputId": "3341fa03-2107-4d66-cdf5-c046b45d7d40"
      },
      "execution_count": 41,
      "outputs": [
        {
          "output_type": "stream",
          "name": "stdout",
          "text": [
            "<class 'pandas.core.frame.DataFrame'>\n",
            "RangeIndex: 32951 entries, 0 to 32950\n",
            "Data columns (total 9 columns):\n",
            " #   Column                      Non-Null Count  Dtype  \n",
            "---  ------                      --------------  -----  \n",
            " 0   product_id                  32951 non-null  object \n",
            " 1   product_category_name       32341 non-null  object \n",
            " 2   product_name_length         32341 non-null  float64\n",
            " 3   product_description_length  32341 non-null  float64\n",
            " 4   product_photos_qty          32341 non-null  float64\n",
            " 5   product_weight_g            32949 non-null  float64\n",
            " 6   product_length_cm           32949 non-null  float64\n",
            " 7   product_height_cm           32949 non-null  float64\n",
            " 8   product_width_cm            32949 non-null  float64\n",
            "dtypes: float64(7), object(2)\n",
            "memory usage: 2.3+ MB\n"
          ]
        }
      ]
    },
    {
      "cell_type": "markdown",
      "source": [
        "Untuk menilai distribusi pada beberapa parameter yang memiliki missing values, terlebih dahulu mengamati skewness. Tampak bahwa data mengalami skewed yang cukup kentara."
      ],
      "metadata": {
        "id": "bB74kwb5cS3u"
      }
    },
    {
      "cell_type": "code",
      "source": [
        "products_df.skew(axis = 0, skipna = True)"
      ],
      "metadata": {
        "colab": {
          "base_uri": "https://localhost:8080/"
        },
        "id": "7oMo5Ww3a6Wj",
        "outputId": "45c45cac-eb22-4baa-fc2e-0d59ddc15a9b"
      },
      "execution_count": 42,
      "outputs": [
        {
          "output_type": "stream",
          "name": "stderr",
          "text": [
            "<ipython-input-42-7653cf184727>:1: FutureWarning: The default value of numeric_only in DataFrame.skew is deprecated. In a future version, it will default to False. In addition, specifying 'numeric_only=None' is deprecated. Select only valid columns or specify the value of numeric_only to silence this warning.\n",
            "  products_df.skew(axis = 0, skipna = True)\n"
          ]
        },
        {
          "output_type": "execute_result",
          "data": {
            "text/plain": [
              "product_name_length          -0.903222\n",
              "product_description_length    1.962093\n",
              "product_photos_qty            2.193409\n",
              "product_weight_g              3.604860\n",
              "product_length_cm             1.750460\n",
              "product_height_cm             2.140061\n",
              "product_width_cm              1.670971\n",
              "dtype: float64"
            ]
          },
          "metadata": {},
          "execution_count": 42
        }
      ]
    },
    {
      "cell_type": "markdown",
      "source": [
        "Untuk memberikan ilustrasi, digunakan histplot dalam menjelaskan skewness dari data. Data yang digunakan dalam ilustrasi ini adalah product_name_length."
      ],
      "metadata": {
        "id": "0bl_4TC6ckUN"
      }
    },
    {
      "cell_type": "code",
      "source": [
        "fig, ax = plt.subplots(figsize = (10,8))\n",
        "sns.histplot(products_df['product_name_length'])"
      ],
      "metadata": {
        "colab": {
          "base_uri": "https://localhost:8080/",
          "height": 714
        },
        "id": "BaATzJenbaID",
        "outputId": "faa44b39-e875-4f87-b6ec-e7072f895f1f"
      },
      "execution_count": 43,
      "outputs": [
        {
          "output_type": "execute_result",
          "data": {
            "text/plain": [
              "<Axes: xlabel='product_name_length', ylabel='Count'>"
            ]
          },
          "metadata": {},
          "execution_count": 43
        },
        {
          "output_type": "display_data",
          "data": {
            "text/plain": [
              "<Figure size 1000x800 with 1 Axes>"
            ],
            "image/png": "[encoded data removed]"
          },
          "metadata": {}
        }
      ]
    },
    {
      "cell_type": "code",
      "source": [
        "products_columns = products_df.iloc[:,2:].columns\n",
        "\n",
        "for column in products_columns:\n",
        "  products_df[column].fillna(products_df[column].median(), inplace=True)\n",
        "\n",
        "products_df['product_category_name'].fillna(products_df['product_category_name'])"
      ],
      "metadata": {
        "colab": {
          "base_uri": "https://localhost:8080/"
        },
        "id": "LZ9-soVFZXRi",
        "outputId": "5c22bca1-a506-446a-9088-b4cf89008c27"
      },
      "execution_count": 44,
      "outputs": [
        {
          "output_type": "execute_result",
          "data": {
            "text/plain": [
              "0                               perfumaria\n",
              "1                                    artes\n",
              "2                            esporte_lazer\n",
              "3                                    bebes\n",
              "4                    utilidades_domesticas\n",
              "                       ...                \n",
              "32946                     moveis_decoracao\n",
              "32947    construcao_ferramentas_iluminacao\n",
              "32948                      cama_mesa_banho\n",
              "32949               informatica_acessorios\n",
              "32950                      cama_mesa_banho\n",
              "Name: product_category_name, Length: 32951, dtype: object"
            ]
          },
          "metadata": {},
          "execution_count": 44
        }
      ]
    },
    {
      "cell_type": "code",
      "source": [
        "products_df.isna().sum()"
      ],
      "metadata": {
        "colab": {
          "base_uri": "https://localhost:8080/"
        },
        "id": "19kLKaPFgIMQ",
        "outputId": "84753604-45b1-4f9d-95cc-dc0d8f9c2039"
      },
      "execution_count": 45,
      "outputs": [
        {
          "output_type": "execute_result",
          "data": {
            "text/plain": [
              "product_id                      0\n",
              "product_category_name         610\n",
              "product_name_length             0\n",
              "product_description_length      0\n",
              "product_photos_qty              0\n",
              "product_weight_g                0\n",
              "product_length_cm               0\n",
              "product_height_cm               0\n",
              "product_width_cm                0\n",
              "dtype: int64"
            ]
          },
          "metadata": {},
          "execution_count": 45
        }
      ]
    },
    {
      "cell_type": "markdown",
      "source": [
        "Mengisi missing value pada kolom product_category_name dengan metode interpolate."
      ],
      "metadata": {
        "id": "jx0R9s383oeS"
      }
    },
    {
      "cell_type": "code",
      "source": [
        "products_df['product_category_name'].interpolate(method='pad',axis=0, limit_direction='forward', inplace=True)"
      ],
      "metadata": {
        "id": "mRwyTHIv3tPr"
      },
      "execution_count": 46,
      "outputs": []
    },
    {
      "cell_type": "code",
      "source": [
        "products_df.isna().sum()"
      ],
      "metadata": {
        "colab": {
          "base_uri": "https://localhost:8080/"
        },
        "id": "Xxd2K3oH32R7",
        "outputId": "41792e74-fbaf-427c-a419-021c7215ce53"
      },
      "execution_count": 47,
      "outputs": [
        {
          "output_type": "execute_result",
          "data": {
            "text/plain": [
              "product_id                    0\n",
              "product_category_name         0\n",
              "product_name_length           0\n",
              "product_description_length    0\n",
              "product_photos_qty            0\n",
              "product_weight_g              0\n",
              "product_length_cm             0\n",
              "product_height_cm             0\n",
              "product_width_cm              0\n",
              "dtype: int64"
            ]
          },
          "metadata": {},
          "execution_count": 47
        }
      ]
    },
    {
      "cell_type": "markdown",
      "source": [
        "Mengubah tipe data object menjadi integer untuk beberapa kolom."
      ],
      "metadata": {
        "id": "Oc9J2ljx37n8"
      }
    },
    {
      "cell_type": "code",
      "source": [
        "product_obj = ['product_name_length', 'product_description_length', 'product_photos_qty']\n",
        "\n",
        "for column in product_obj:\n",
        "  products_df[column] = products_df[column].astype(int)"
      ],
      "metadata": {
        "id": "OEUsfG-V4B79"
      },
      "execution_count": 48,
      "outputs": []
    },
    {
      "cell_type": "code",
      "source": [
        "products_df.info()"
      ],
      "metadata": {
        "colab": {
          "base_uri": "https://localhost:8080/"
        },
        "id": "Zmcrb01W4UmH",
        "outputId": "20760a32-f509-49ac-dd15-4005656f88c7"
      },
      "execution_count": 49,
      "outputs": [
        {
          "output_type": "stream",
          "name": "stdout",
          "text": [
            "<class 'pandas.core.frame.DataFrame'>\n",
            "RangeIndex: 32951 entries, 0 to 32950\n",
            "Data columns (total 9 columns):\n",
            " #   Column                      Non-Null Count  Dtype  \n",
            "---  ------                      --------------  -----  \n",
            " 0   product_id                  32951 non-null  object \n",
            " 1   product_category_name       32951 non-null  object \n",
            " 2   product_name_length         32951 non-null  int64  \n",
            " 3   product_description_length  32951 non-null  int64  \n",
            " 4   product_photos_qty          32951 non-null  int64  \n",
            " 5   product_weight_g            32951 non-null  float64\n",
            " 6   product_length_cm           32951 non-null  float64\n",
            " 7   product_height_cm           32951 non-null  float64\n",
            " 8   product_width_cm            32951 non-null  float64\n",
            "dtypes: float64(4), int64(3), object(2)\n",
            "memory usage: 2.3+ MB\n"
          ]
        }
      ]
    },
    {
      "cell_type": "markdown",
      "source": [
        "Menggabungkan data antara products_df dengan product_category_df"
      ],
      "metadata": {
        "id": "IZcxNyLW4Y40"
      }
    },
    {
      "cell_type": "code",
      "source": [
        "products2_df = pd.merge(\n",
        "    left=products_df,\n",
        "    right=product_category_df,\n",
        "    how='outer',\n",
        "    left_on='product_category_name',\n",
        "\n",
        "    right_on='product_category_name'\n",
        ")"
      ],
      "metadata": {
        "id": "Aab4QcrA4c-l"
      },
      "execution_count": 50,
      "outputs": []
    },
    {
      "cell_type": "markdown",
      "source": [
        "Menggabungkan order_items_df dan order_payment_df"
      ],
      "metadata": {
        "id": "mNRsAgJciBvt"
      }
    },
    {
      "cell_type": "code",
      "source": [
        "orders2_df = pd.merge(\n",
        "    left=order_items_df,\n",
        "    right=order_payments_df,\n",
        "    how='outer',\n",
        "    left_on='order_id',\n",
        "    right_on='order_id'\n",
        ")"
      ],
      "metadata": {
        "id": "3AeBFRGJiHgc"
      },
      "execution_count": 51,
      "outputs": []
    },
    {
      "cell_type": "markdown",
      "source": [
        "Menggabungkan orders2_df dan products2_df"
      ],
      "metadata": {
        "id": "sLAzFP9KiTgw"
      }
    },
    {
      "cell_type": "code",
      "source": [
        "gabungan1_df = pd.merge(\n",
        "    left=orders2_df,\n",
        "    right=products2_df,\n",
        "    how='outer',\n",
        "    left_on='product_id',\n",
        "    right_on='product_id'\n",
        ")"
      ],
      "metadata": {
        "id": "irfKHcCTiXCC"
      },
      "execution_count": 52,
      "outputs": []
    },
    {
      "cell_type": "markdown",
      "source": [
        "Menggabungkan orders_df dan customers_df"
      ],
      "metadata": {
        "id": "UqjIs9O4ikrc"
      }
    },
    {
      "cell_type": "code",
      "source": [
        "orders_customers_df = pd.merge(\n",
        "    left=orders_df,\n",
        "    right=customers_df,\n",
        "    how='outer',\n",
        "    left_on='customer_id',\n",
        "    right_on='customer_id'\n",
        ")"
      ],
      "metadata": {
        "id": "aIP6-Zjsiotm"
      },
      "execution_count": 53,
      "outputs": []
    },
    {
      "cell_type": "markdown",
      "source": [
        "Menggabungkan gabungan1_df dan orders_customers_df"
      ],
      "metadata": {
        "id": "AuW-EJWgizqJ"
      }
    },
    {
      "cell_type": "code",
      "source": [
        "all_df = pd.merge(\n",
        "    left=gabungan1_df,\n",
        "    right=orders_customers_df,\n",
        "    how='left',\n",
        "    left_on='order_id',\n",
        "    right_on='order_id'\n",
        ")"
      ],
      "metadata": {
        "id": "wo98al7ki2aQ"
      },
      "execution_count": 54,
      "outputs": []
    },
    {
      "cell_type": "code",
      "source": [
        "all_df = all_df.dropna(subset='customer_zip_code_prefix')"
      ],
      "metadata": {
        "id": "MfUwV1_jjBnL"
      },
      "execution_count": 55,
      "outputs": []
    },
    {
      "cell_type": "code",
      "source": [
        "all_df.head()"
      ],
      "metadata": {
        "colab": {
          "base_uri": "https://localhost:8080/",
          "height": 307
        },
        "id": "OMQWIyklhl0O",
        "outputId": "88c781f7-e5c9-485b-e610-6918661e008b"
      },
      "execution_count": 56,
      "outputs": [
        {
          "output_type": "execute_result",
          "data": {
            "text/plain": [
              "                           order_id  order_item_id  \\\n",
              "0  00010242fe8c5a6d1ba2dd792cb16214            1.0   \n",
              "1  130898c0987d1801452a8ed92a670612            1.0   \n",
              "2  532ed5e14e24ae1f0d735b91524b98b9            1.0   \n",
              "3  6f8c31653edb8c83e1a739408b5ff750            1.0   \n",
              "4  7d19f4ef4d04461989632411b7e588b9            1.0   \n",
              "\n",
              "                         product_id                         seller_id  \\\n",
              "0  4244733e06e7ecb4970a6e2683c13e61  48436dade18ac8b2bce089ec2a041202   \n",
              "1  4244733e06e7ecb4970a6e2683c13e61  48436dade18ac8b2bce089ec2a041202   \n",
              "2  4244733e06e7ecb4970a6e2683c13e61  48436dade18ac8b2bce089ec2a041202   \n",
              "3  4244733e06e7ecb4970a6e2683c13e61  48436dade18ac8b2bce089ec2a041202   \n",
              "4  4244733e06e7ecb4970a6e2683c13e61  48436dade18ac8b2bce089ec2a041202   \n",
              "\n",
              "  shipping_limit_date  price  freight_value  payment_sequential payment_type  \\\n",
              "0 2017-09-19 09:45:35   58.9          13.29                 1.0  credit_card   \n",
              "1 2017-07-05 02:44:11   55.9          17.96                 1.0       boleto   \n",
              "2 2018-05-23 10:56:25   64.9          18.33                 1.0  credit_card   \n",
              "3 2017-08-07 18:55:08   58.9          16.17                 1.0  credit_card   \n",
              "4 2017-08-16 22:05:11   58.9          13.29                 1.0  credit_card   \n",
              "\n",
              "   payment_installments  ...  order_status order_purchase_timestamp  \\\n",
              "0                   2.0  ...     delivered      2017-09-13 08:59:02   \n",
              "1                   1.0  ...     delivered      2017-06-28 11:52:20   \n",
              "2                   2.0  ...     delivered      2018-05-18 10:25:53   \n",
              "3                   3.0  ...     delivered      2017-08-01 18:38:42   \n",
              "4                   4.0  ...     delivered      2017-08-10 21:48:40   \n",
              "\n",
              "    order_approved_at  order_delivered_carrier_date  \\\n",
              "0 2017-09-13 09:45:35           2017-09-19 18:34:16   \n",
              "1 2017-06-29 02:44:11           2017-07-05 12:00:33   \n",
              "2 2018-05-18 12:31:43           2018-05-23 14:05:00   \n",
              "3 2017-08-01 18:55:08           2017-08-02 19:07:36   \n",
              "4 2017-08-10 22:05:11           2017-08-11 19:43:07   \n",
              "\n",
              "   order_delivered_customer_date  order_estimated_delivery_date  \\\n",
              "0            2017-09-20 23:43:48                     2017-09-29   \n",
              "1            2017-07-13 20:39:29                     2017-07-26   \n",
              "2            2018-06-04 18:34:26                     2018-06-07   \n",
              "3            2017-08-09 21:26:33                     2017-08-25   \n",
              "4            2017-08-24 20:04:21                     2017-09-01   \n",
              "\n",
              "                 customer_unique_id  customer_zip_code_prefix  \\\n",
              "0  871766c5855e863f6eccc05f988b23cb                   28013.0   \n",
              "1  0fb8e3eab2d3e79d92bb3fffbb97f188                   75800.0   \n",
              "2  3419052c8c6b45daf79c1e426f9e9bcb                   30720.0   \n",
              "3  e7c828d22c0682c1565252deefbe334d                   83070.0   \n",
              "4  0bb98ba72dcc08e95f9d8cc434e9a2cc                   36400.0   \n",
              "\n",
              "           customer_city customer_state  \n",
              "0  campos dos goytacazes             RJ  \n",
              "1                  jatai             GO  \n",
              "2         belo horizonte             MG  \n",
              "3   sao jose dos pinhais             PR  \n",
              "4   conselheiro lafaiete             MG  \n",
              "\n",
              "[5 rows x 31 columns]"
            ],
            "text/html": [
              "\n",
              "  <div id=\"df-4c416005-ac43-451f-9116-17ac7145a60c\" class=\"colab-df-container\">\n",
              "    <div>\n",
              "<style scoped>\n",
              "    .dataframe tbody tr th:only-of-type {\n",
              "        vertical-align: middle;\n",
              "    }\n",
              "\n",
              "    .dataframe tbody tr th {\n",
              "        vertical-align: top;\n",
              "    }\n",
              "\n",
              "    .dataframe thead th {\n",
              "        text-align: right;\n",
              "    }\n",
              "</style>\n",
              "<table border=\"1\" class=\"dataframe\">\n",
              "  <thead>\n",
              "    <tr style=\"text-align: right;\">\n",
              "      <th></th>\n",
              "      <th>order_id</th>\n",
              "      <th>order_item_id</th>\n",
              "      <th>product_id</th>\n",
              "      <th>seller_id</th>\n",
              "      <th>shipping_limit_date</th>\n",
              "      <th>price</th>\n",
              "      <th>freight_value</th>\n",
              "      <th>payment_sequential</th>\n",
              "      <th>payment_type</th>\n",
              "      <th>payment_installments</th>\n",
              "      <th>...</th>\n",
              "      <th>order_status</th>\n",
              "      <th>order_purchase_timestamp</th>\n",
              "      <th>order_approved_at</th>\n",
              "      <th>order_delivered_carrier_date</th>\n",
              "      <th>order_delivered_customer_date</th>\n",
              "      <th>order_estimated_delivery_date</th>\n",
              "      <th>customer_unique_id</th>\n",
              "      <th>customer_zip_code_prefix</th>\n",
              "      <th>customer_city</th>\n",
              "      <th>customer_state</th>\n",
              "    </tr>\n",
              "  </thead>\n",
              "  <tbody>\n",
              "    <tr>\n",
              "      <th>0</th>\n",
              "      <td>00010242fe8c5a6d1ba2dd792cb16214</td>\n",
              "      <td>1.0</td>\n",
              "      <td>4244733e06e7ecb4970a6e2683c13e61</td>\n",
              "      <td>48436dade18ac8b2bce089ec2a041202</td>\n",
              "      <td>2017-09-19 09:45:35</td>\n",
              "      <td>58.9</td>\n",
              "      <td>13.29</td>\n",
              "      <td>1.0</td>\n",
              "      <td>credit_card</td>\n",
              "      <td>2.0</td>\n",
              "      <td>...</td>\n",
              "      <td>delivered</td>\n",
              "      <td>2017-09-13 08:59:02</td>\n",
              "      <td>2017-09-13 09:45:35</td>\n",
              "      <td>2017-09-19 18:34:16</td>\n",
              "      <td>2017-09-20 23:43:48</td>\n",
              "      <td>2017-09-29</td>\n",
              "      <td>871766c5855e863f6eccc05f988b23cb</td>\n",
              "      <td>28013.0</td>\n",
              "      <td>campos dos goytacazes</td>\n",
              "      <td>RJ</td>\n",
              "    </tr>\n",
              "    <tr>\n",
              "      <th>1</th>\n",
              "      <td>130898c0987d1801452a8ed92a670612</td>\n",
              "      <td>1.0</td>\n",
              "      <td>4244733e06e7ecb4970a6e2683c13e61</td>\n",
              "      <td>48436dade18ac8b2bce089ec2a041202</td>\n",
              "      <td>2017-07-05 02:44:11</td>\n",
              "      <td>55.9</td>\n",
              "      <td>17.96</td>\n",
              "      <td>1.0</td>\n",
              "      <td>boleto</td>\n",
              "      <td>1.0</td>\n",
              "      <td>...</td>\n",
              "      <td>delivered</td>\n",
              "      <td>2017-06-28 11:52:20</td>\n",
              "      <td>2017-06-29 02:44:11</td>\n",
              "      <td>2017-07-05 12:00:33</td>\n",
              "      <td>2017-07-13 20:39:29</td>\n",
              "      <td>2017-07-26</td>\n",
              "      <td>0fb8e3eab2d3e79d92bb3fffbb97f188</td>\n",
              "      <td>75800.0</td>\n",
              "      <td>jatai</td>\n",
              "      <td>GO</td>\n",
              "    </tr>\n",
              "    <tr>\n",
              "      <th>2</th>\n",
              "      <td>532ed5e14e24ae1f0d735b91524b98b9</td>\n",
              "      <td>1.0</td>\n",
              "      <td>4244733e06e7ecb4970a6e2683c13e61</td>\n",
              "      <td>48436dade18ac8b2bce089ec2a041202</td>\n",
              "      <td>2018-05-23 10:56:25</td>\n",
              "      <td>64.9</td>\n",
              "      <td>18.33</td>\n",
              "      <td>1.0</td>\n",
              "      <td>credit_card</td>\n",
              "      <td>2.0</td>\n",
              "      <td>...</td>\n",
              "      <td>delivered</td>\n",
              "      <td>2018-05-18 10:25:53</td>\n",
              "      <td>2018-05-18 12:31:43</td>\n",
              "      <td>2018-05-23 14:05:00</td>\n",
              "      <td>2018-06-04 18:34:26</td>\n",
              "      <td>2018-06-07</td>\n",
              "      <td>3419052c8c6b45daf79c1e426f9e9bcb</td>\n",
              "      <td>30720.0</td>\n",
              "      <td>belo horizonte</td>\n",
              "      <td>MG</td>\n",
              "    </tr>\n",
              "    <tr>\n",
              "      <th>3</th>\n",
              "      <td>6f8c31653edb8c83e1a739408b5ff750</td>\n",
              "      <td>1.0</td>\n",
              "      <td>4244733e06e7ecb4970a6e2683c13e61</td>\n",
              "      <td>48436dade18ac8b2bce089ec2a041202</td>\n",
              "      <td>2017-08-07 18:55:08</td>\n",
              "      <td>58.9</td>\n",
              "      <td>16.17</td>\n",
              "      <td>1.0</td>\n",
              "      <td>credit_card</td>\n",
              "      <td>3.0</td>\n",
              "      <td>...</td>\n",
              "      <td>delivered</td>\n",
              "      <td>2017-08-01 18:38:42</td>\n",
              "      <td>2017-08-01 18:55:08</td>\n",
              "      <td>2017-08-02 19:07:36</td>\n",
              "      <td>2017-08-09 21:26:33</td>\n",
              "      <td>2017-08-25</td>\n",
              "      <td>e7c828d22c0682c1565252deefbe334d</td>\n",
              "      <td>83070.0</td>\n",
              "      <td>sao jose dos pinhais</td>\n",
              "      <td>PR</td>\n",
              "    </tr>\n",
              "    <tr>\n",
              "      <th>4</th>\n",
              "      <td>7d19f4ef4d04461989632411b7e588b9</td>\n",
              "      <td>1.0</td>\n",
              "      <td>4244733e06e7ecb4970a6e2683c13e61</td>\n",
              "      <td>48436dade18ac8b2bce089ec2a041202</td>\n",
              "      <td>2017-08-16 22:05:11</td>\n",
              "      <td>58.9</td>\n",
              "      <td>13.29</td>\n",
              "      <td>1.0</td>\n",
              "      <td>credit_card</td>\n",
              "      <td>4.0</td>\n",
              "      <td>...</td>\n",
              "      <td>delivered</td>\n",
              "      <td>2017-08-10 21:48:40</td>\n",
              "      <td>2017-08-10 22:05:11</td>\n",
              "      <td>2017-08-11 19:43:07</td>\n",
              "      <td>2017-08-24 20:04:21</td>\n",
              "      <td>2017-09-01</td>\n",
              "      <td>0bb98ba72dcc08e95f9d8cc434e9a2cc</td>\n",
              "      <td>36400.0</td>\n",
              "      <td>conselheiro lafaiete</td>\n",
              "      <td>MG</td>\n",
              "    </tr>\n",
              "  </tbody>\n",
              "</table>\n",
              "<p>5 rows × 31 columns</p>\n",
              "</div>\n",
              "    <div class=\"colab-df-buttons\">\n",
              "\n",
              "  <div class=\"colab-df-container\">\n",
              "    <button class=\"colab-df-convert\" onclick=\"convertToInteractive('df-4c416005-ac43-451f-9116-17ac7145a60c')\"\n",
              "            title=\"Convert this dataframe to an interactive table.\"\n",
              "            style=\"display:none;\">\n",
              "\n",
              "  <svg xmlns=\"http://www.w3.org/2000/svg\" height=\"24px\" viewBox=\"0 -960 960 960\">\n",
              "    <path d=\"M120-120v-720h720v720H120Zm60-500h600v-160H180v160Zm220 220h160v-160H400v160Zm0 220h160v-160H400v160ZM180-400h160v-160H180v160Zm440 0h160v-160H620v160ZM180-180h160v-160H180v160Zm440 0h160v-160H620v160Z\"/>\n",
              "  </svg>\n",
              "    </button>\n",
              "\n",
              "  <style>\n",
              "    .colab-df-container {\n",
              "      display:flex;\n",
              "      gap: 12px;\n",
              "    }\n",
              "\n",
              "    .colab-df-convert {\n",
              "      background-color: #E8F0FE;\n",
              "      border: none;\n",
              "      border-radius: 50%;\n",
              "      cursor: pointer;\n",
              "      display: none;\n",
              "      fill: #1967D2;\n",
              "      height: 32px;\n",
              "      padding: 0 0 0 0;\n",
              "      width: 32px;\n",
              "    }\n",
              "\n",
              "    .colab-df-convert:hover {\n",
              "      background-color: #E2EBFA;\n",
              "      box-shadow: 0px 1px 2px rgba(60, 64, 67, 0.3), 0px 1px 3px 1px rgba(60, 64, 67, 0.15);\n",
              "      fill: #174EA6;\n",
              "    }\n",
              "\n",
              "    .colab-df-buttons div {\n",
              "      margin-bottom: 4px;\n",
              "    }\n",
              "\n",
              "    [theme=dark] .colab-df-convert {\n",
              "      background-color: #3B4455;\n",
              "      fill: #D2E3FC;\n",
              "    }\n",
              "\n",
              "    [theme=dark] .colab-df-convert:hover {\n",
              "      background-color: #434B5C;\n",
              "      box-shadow: 0px 1px 3px 1px rgba(0, 0, 0, 0.15);\n",
              "      filter: drop-shadow(0px 1px 2px rgba(0, 0, 0, 0.3));\n",
              "      fill: #FFFFFF;\n",
              "    }\n",
              "  </style>\n",
              "\n",
              "    <script>\n",
              "      const buttonEl =\n",
              "        document.querySelector('#df-4c416005-ac43-451f-9116-17ac7145a60c button.colab-df-convert');\n",
              "      buttonEl.style.display =\n",
              "        google.colab.kernel.accessAllowed ? 'block' : 'none';\n",
              "\n",
              "      async function convertToInteractive(key) {\n",
              "        const element = document.querySelector('#df-4c416005-ac43-451f-9116-17ac7145a60c');\n",
              "        const dataTable =\n",
              "          await google.colab.kernel.invokeFunction('convertToInteractive',\n",
              "                                                    [key], {});\n",
              "        if (!dataTable) return;\n",
              "\n",
              "        const docLinkHtml = 'Like what you see? Visit the ' +\n",
              "          '<a target=\"_blank\" href=https://colab.research.google.com/notebooks/data_table.ipynb>data table notebook</a>'\n",
              "          + ' to learn more about interactive tables.';\n",
              "        element.innerHTML = '';\n",
              "        dataTable['output_type'] = 'display_data';\n",
              "        await google.colab.output.renderOutput(dataTable, element);\n",
              "        const docLink = document.createElement('div');\n",
              "        docLink.innerHTML = docLinkHtml;\n",
              "        element.appendChild(docLink);\n",
              "      }\n",
              "    </script>\n",
              "  </div>\n",
              "\n",
              "\n",
              "<div id=\"df-ebb0f633-191e-49d7-b06a-d459d4e2ade4\">\n",
              "  <button class=\"colab-df-quickchart\" onclick=\"quickchart('df-ebb0f633-191e-49d7-b06a-d459d4e2ade4')\"\n",
              "            title=\"Suggest charts\"\n",
              "            style=\"display:none;\">\n",
              "\n",
              "<svg xmlns=\"http://www.w3.org/2000/svg\" height=\"24px\"viewBox=\"0 0 24 24\"\n",
              "     width=\"24px\">\n",
              "    <g>\n",
              "        <path d=\"M19 3H5c-1.1 0-2 .9-2 2v14c0 1.1.9 2 2 2h14c1.1 0 2-.9 2-2V5c0-1.1-.9-2-2-2zM9 17H7v-7h2v7zm4 0h-2V7h2v10zm4 0h-2v-4h2v4z\"/>\n",
              "    </g>\n",
              "</svg>\n",
              "  </button>\n",
              "\n",
              "<style>\n",
              "  .colab-df-quickchart {\n",
              "      --bg-color: #E8F0FE;\n",
              "      --fill-color: #1967D2;\n",
              "      --hover-bg-color: #E2EBFA;\n",
              "      --hover-fill-color: #174EA6;\n",
              "      --disabled-fill-color: #AAA;\n",
              "      --disabled-bg-color: #DDD;\n",
              "  }\n",
              "\n",
              "  [theme=dark] .colab-df-quickchart {\n",
              "      --bg-color: #3B4455;\n",
              "      --fill-color: #D2E3FC;\n",
              "      --hover-bg-color: #434B5C;\n",
              "      --hover-fill-color: #FFFFFF;\n",
              "      --disabled-bg-color: #3B4455;\n",
              "      --disabled-fill-color: #666;\n",
              "  }\n",
              "\n",
              "  .colab-df-quickchart {\n",
              "    background-color: var(--bg-color);\n",
              "    border: none;\n",
              "    border-radius: 50%;\n",
              "    cursor: pointer;\n",
              "    display: none;\n",
              "    fill: var(--fill-color);\n",
              "    height: 32px;\n",
              "    padding: 0;\n",
              "    width: 32px;\n",
              "  }\n",
              "\n",
              "  .colab-df-quickchart:hover {\n",
              "    background-color: var(--hover-bg-color);\n",
              "    box-shadow: 0 1px 2px rgba(60, 64, 67, 0.3), 0 1px 3px 1px rgba(60, 64, 67, 0.15);\n",
              "    fill: var(--button-hover-fill-color);\n",
              "  }\n",
              "\n",
              "  .colab-df-quickchart-complete:disabled,\n",
              "  .colab-df-quickchart-complete:disabled:hover {\n",
              "    background-color: var(--disabled-bg-color);\n",
              "    fill: var(--disabled-fill-color);\n",
              "    box-shadow: none;\n",
              "  }\n",
              "\n",
              "  .colab-df-spinner {\n",
              "    border: 2px solid var(--fill-color);\n",
              "    border-color: transparent;\n",
              "    border-bottom-color: var(--fill-color);\n",
              "    animation:\n",
              "      spin 1s steps(1) infinite;\n",
              "  }\n",
              "\n",
              "  @keyframes spin {\n",
              "    0% {\n",
              "      border-color: transparent;\n",
              "      border-bottom-color: var(--fill-color);\n",
              "      border-left-color: var(--fill-color);\n",
              "    }\n",
              "    20% {\n",
              "      border-color: transparent;\n",
              "      border-left-color: var(--fill-color);\n",
              "      border-top-color: var(--fill-color);\n",
              "    }\n",
              "    30% {\n",
              "      border-color: transparent;\n",
              "      border-left-color: var(--fill-color);\n",
              "      border-top-color: var(--fill-color);\n",
              "      border-right-color: var(--fill-color);\n",
              "    }\n",
              "    40% {\n",
              "      border-color: transparent;\n",
              "      border-right-color: var(--fill-color);\n",
              "      border-top-color: var(--fill-color);\n",
              "    }\n",
              "    60% {\n",
              "      border-color: transparent;\n",
              "      border-right-color: var(--fill-color);\n",
              "    }\n",
              "    80% {\n",
              "      border-color: transparent;\n",
              "      border-right-color: var(--fill-color);\n",
              "      border-bottom-color: var(--fill-color);\n",
              "    }\n",
              "    90% {\n",
              "      border-color: transparent;\n",
              "      border-bottom-color: var(--fill-color);\n",
              "    }\n",
              "  }\n",
              "</style>\n",
              "\n",
              "  <script>\n",
              "    async function quickchart(key) {\n",
              "      const quickchartButtonEl =\n",
              "        document.querySelector('#' + key + ' button');\n",
              "      quickchartButtonEl.disabled = true;  // To prevent multiple clicks.\n",
              "      quickchartButtonEl.classList.add('colab-df-spinner');\n",
              "      try {\n",
              "        const charts = await google.colab.kernel.invokeFunction(\n",
              "            'suggestCharts', [key], {});\n",
              "      } catch (error) {\n",
              "        console.error('Error during call to suggestCharts:', error);\n",
              "      }\n",
              "      quickchartButtonEl.classList.remove('colab-df-spinner');\n",
              "      quickchartButtonEl.classList.add('colab-df-quickchart-complete');\n",
              "    }\n",
              "    (() => {\n",
              "      let quickchartButtonEl =\n",
              "        document.querySelector('#df-ebb0f633-191e-49d7-b06a-d459d4e2ade4 button');\n",
              "      quickchartButtonEl.style.display =\n",
              "        google.colab.kernel.accessAllowed ? 'block' : 'none';\n",
              "    })();\n",
              "  </script>\n",
              "</div>\n",
              "    </div>\n",
              "  </div>\n"
            ],
            "application/vnd.google.colaboratory.intrinsic+json": {
              "type": "dataframe",
              "variable_name": "all_df"
            }
          },
          "metadata": {},
          "execution_count": 56
        }
      ]
    },
    {
      "cell_type": "code",
      "source": [
        "all_df['customer_zip_code_prefix'] = all_df['customer_zip_code_prefix'].astype(int)"
      ],
      "metadata": {
        "id": "vxO2jZM1jHMv",
        "colab": {
          "base_uri": "https://localhost:8080/"
        },
        "outputId": "fa8ae926-45a8-4628-f0bf-8794978b4b92"
      },
      "execution_count": 57,
      "outputs": [
        {
          "output_type": "stream",
          "name": "stderr",
          "text": [
            "<ipython-input-57-bb3bd2403e9d>:1: SettingWithCopyWarning: \n",
            "A value is trying to be set on a copy of a slice from a DataFrame.\n",
            "Try using .loc[row_indexer,col_indexer] = value instead\n",
            "\n",
            "See the caveats in the documentation: https://pandas.pydata.org/pandas-docs/stable/user_guide/indexing.html#returning-a-view-versus-a-copy\n",
            "  all_df['customer_zip_code_prefix'] = all_df['customer_zip_code_prefix'].astype(int)\n"
          ]
        }
      ]
    },
    {
      "cell_type": "markdown",
      "metadata": {
        "id": "gp-Y6wU38DC1"
      },
      "source": [
        "## Exploratory Data Analysis (EDA)"
      ]
    },
    {
      "cell_type": "markdown",
      "source": [
        "Menghilangkan missing values pada tabel orders_customers_df."
      ],
      "metadata": {
        "id": "jLgLsjPS_Lk2"
      }
    },
    {
      "cell_type": "code",
      "source": [
        "orders_customers_df.dropna(axis=0, inplace=True)"
      ],
      "metadata": {
        "id": "TrXIDytijimN"
      },
      "execution_count": 58,
      "outputs": []
    },
    {
      "cell_type": "markdown",
      "source": [
        "Melakukan perhitungan berapa lama waktu pengiriman pesanan."
      ],
      "metadata": {
        "id": "1F-VUchC_RJg"
      }
    },
    {
      "cell_type": "code",
      "source": [
        "delivery_time = orders_customers_df['order_delivered_customer_date'] - orders_customers_df['order_approved_at']\n",
        "delivery_time = delivery_time.apply(lambda x: x.total_seconds())\n",
        "orders_customers_df['delivery_time'] = round(delivery_time/60)"
      ],
      "metadata": {
        "id": "iyB4uEHmjmPd"
      },
      "execution_count": 59,
      "outputs": []
    },
    {
      "cell_type": "code",
      "source": [
        "orders_customers_df['delivery_time'].describe()"
      ],
      "metadata": {
        "colab": {
          "base_uri": "https://localhost:8080/"
        },
        "id": "x9e0kn9Yj5UG",
        "outputId": "c6c5c100-c263-4c99-e9c0-46e88ab872c6"
      },
      "execution_count": 60,
      "outputs": [
        {
          "output_type": "execute_result",
          "data": {
            "text/plain": [
              "count     96461.000000\n",
              "mean      17467.105462\n",
              "std       13703.078631\n",
              "min      -10065.000000\n",
              "25%        9086.000000\n",
              "50%       14187.000000\n",
              "75%       21803.000000\n",
              "max      300241.000000\n",
              "Name: delivery_time, dtype: float64"
            ]
          },
          "metadata": {},
          "execution_count": 60
        }
      ]
    },
    {
      "cell_type": "code",
      "source": [
        "orders_customers_df = orders_customers_df.drop(orders_customers_df[orders_customers_df['delivery_time']<1].index)"
      ],
      "metadata": {
        "id": "G957VfmFj-zi"
      },
      "execution_count": 61,
      "outputs": []
    },
    {
      "cell_type": "markdown",
      "source": [
        "Tampak pada data deskriptif dari delivery time terdapat data yang bernilai negatif. Untuk itu, dilakukan penghapusan data yang bernilai invalid dengan asumsi pengiriman memakan waktu lebih atau sama dengan 1 menit."
      ],
      "metadata": {
        "id": "OvpJBxae_5vA"
      }
    },
    {
      "cell_type": "code",
      "source": [
        "orders_customers_df.sort_values(by='delivery_time', ascending=True)"
      ],
      "metadata": {
        "colab": {
          "base_uri": "https://localhost:8080/",
          "height": 443
        },
        "id": "N7uMX7HKkQ7t",
        "outputId": "bf3fed8c-32c0-47c0-b406-b5988dd307c1"
      },
      "execution_count": 62,
      "outputs": [
        {
          "output_type": "execute_result",
          "data": {
            "text/plain": [
              "                               order_id                       customer_id  \\\n",
              "25702  9bccdd3552c2a68af6d166dfd82be6ba  b4e1d5fdf13905222b7a571b9edad9ef   \n",
              "4061   26449e55a87a5c565d60238999c380ff  3ebd7c64f990c7558321fb5af7a547b9   \n",
              "98710  1378f9601350615613cc8832d6789c5d  988126b4ddf725d9724e4318872ea2ae   \n",
              "23566  fe857b5ac310b06adabd0e18af932cc5  3a5e6f873f45644fdfea652076839de0   \n",
              "80928  339063a819f93e6e25102c3bb66ab667  73e1e70b645c6ef82dda64348a5c2391   \n",
              "...                                 ...                               ...   \n",
              "61610  440d0d17af552815d15a9e41abe49359  7815125148cfa1e8c7fee1ff7974f16c   \n",
              "89130  285ab9426d6982034523a855f55a885e  9cf2c3fa2632cee748e1a59ca9d09b21   \n",
              "70307  2fb597c2f772eca01b1f5c561bf6cc7b  217906bc11a32c1e470eb7e08584894b   \n",
              "55619  1b3190b2dfa9d789e1f14c05b647a14a  d306426abe5fca15e54b645e4462dc7b   \n",
              "19590  ca07593549f1816d26a572e06dc1eab6  75683a92331068e2d281b11a7866ba44   \n",
              "\n",
              "      order_status order_purchase_timestamp   order_approved_at  \\\n",
              "25702    delivered      2018-04-21 13:03:33 2018-04-24 18:05:57   \n",
              "4061     delivered      2018-04-22 18:05:20 2018-04-24 18:55:14   \n",
              "98710    delivered      2017-09-01 20:28:02 2017-09-13 22:03:51   \n",
              "23566    delivered      2018-04-22 23:12:46 2018-04-24 18:53:22   \n",
              "80928    delivered      2018-04-20 13:46:38 2018-04-24 19:18:43   \n",
              "...            ...                      ...                 ...   \n",
              "61610    delivered      2017-03-07 23:59:51 2017-03-09 01:11:33   \n",
              "89130    delivered      2017-03-08 22:47:40 2017-03-08 22:47:40   \n",
              "70307    delivered      2017-03-08 18:09:02 2017-03-08 18:09:02   \n",
              "55619    delivered      2018-02-23 14:57:35 2018-02-23 15:16:14   \n",
              "19590    delivered      2017-02-21 23:31:27 2017-02-23 02:35:15   \n",
              "\n",
              "      order_delivered_carrier_date order_delivered_customer_date  \\\n",
              "25702          2018-04-23 18:16:54           2018-04-24 18:16:59   \n",
              "4061           2018-04-23 10:42:46           2018-04-24 19:11:46   \n",
              "98710          2017-09-04 18:07:55           2017-09-13 22:24:46   \n",
              "23566          2018-04-23 18:37:43           2018-04-24 19:17:28   \n",
              "80928          2018-04-23 19:26:40           2018-04-24 19:51:47   \n",
              "...                            ...                           ...   \n",
              "61610          2017-03-15 13:00:08           2017-09-19 15:12:50   \n",
              "89130          2017-03-09 08:53:20           2017-09-19 14:00:04   \n",
              "70307          2017-03-13 08:54:02           2017-09-19 14:33:17   \n",
              "55619          2018-02-26 18:49:07           2018-09-19 23:24:07   \n",
              "19590          2017-03-08 13:47:46           2017-09-19 14:36:39   \n",
              "\n",
              "      order_estimated_delivery_date                customer_unique_id  \\\n",
              "25702                    2018-05-08  9eb5dbe2b5f217e8a10c5b7e14b90346   \n",
              "4061                     2018-05-04  67e01e8409e5b0735a24e54759195613   \n",
              "98710                    2017-09-29  507dc9becd4fc65635d90682dfa9d3a3   \n",
              "23566                    2018-05-10  a853fbe4c65c24952022a30655adb74f   \n",
              "80928                    2018-05-09  b88d7e07a1508ee88d1ca350f201a2a1   \n",
              "...                             ...                               ...   \n",
              "61610                    2017-04-07  f0785d41d416fa827f24c4b95d066b69   \n",
              "89130                    2017-04-06  3c2564d42f7ddd8b7576f0dd9cb1b4c5   \n",
              "70307                    2017-04-17  c6c0b794d3e4eb69cd85d1438a0db26e   \n",
              "55619                    2018-03-15  eb21169c3153a2b507fc7e76d561ff14   \n",
              "19590                    2017-03-22  4a2519b6991378f6f2ce5ed22d308f03   \n",
              "\n",
              "       customer_zip_code_prefix    customer_city customer_state  delivery_time  \n",
              "25702                      8290        sao paulo             SP           11.0  \n",
              "4061                      12307          jacarei             SP           17.0  \n",
              "98710                     98900       santa rosa             RS           21.0  \n",
              "23566                     18090         sorocaba             SP           24.0  \n",
              "80928                      8596  itaquaquecetuba             SP           33.0  \n",
              "...                         ...              ...            ...            ...  \n",
              "61610                     66813            belem             PA       280201.0  \n",
              "89130                     49400          lagarto             SE       280272.0  \n",
              "70307                     64023         teresina             PI       280584.0  \n",
              "55619                     22723   rio de janeiro             RJ       300008.0  \n",
              "19590                     29890         montanha             ES       300241.0  \n",
              "\n",
              "[96400 rows x 13 columns]"
            ],
            "text/html": [
              "\n",
              "  <div id=\"df-06305aa0-fcae-41b2-abb3-89641f657b83\" class=\"colab-df-container\">\n",
              "    <div>\n",
              "<style scoped>\n",
              "    .dataframe tbody tr th:only-of-type {\n",
              "        vertical-align: middle;\n",
              "    }\n",
              "\n",
              "    .dataframe tbody tr th {\n",
              "        vertical-align: top;\n",
              "    }\n",
              "\n",
              "    .dataframe thead th {\n",
              "        text-align: right;\n",
              "    }\n",
              "</style>\n",
              "<table border=\"1\" class=\"dataframe\">\n",
              "  <thead>\n",
              "    <tr style=\"text-align: right;\">\n",
              "      <th></th>\n",
              "      <th>order_id</th>\n",
              "      <th>customer_id</th>\n",
              "      <th>order_status</th>\n",
              "      <th>order_purchase_timestamp</th>\n",
              "      <th>order_approved_at</th>\n",
              "      <th>order_delivered_carrier_date</th>\n",
              "      <th>order_delivered_customer_date</th>\n",
              "      <th>order_estimated_delivery_date</th>\n",
              "      <th>customer_unique_id</th>\n",
              "      <th>customer_zip_code_prefix</th>\n",
              "      <th>customer_city</th>\n",
              "      <th>customer_state</th>\n",
              "      <th>delivery_time</th>\n",
              "    </tr>\n",
              "  </thead>\n",
              "  <tbody>\n",
              "    <tr>\n",
              "      <th>25702</th>\n",
              "      <td>9bccdd3552c2a68af6d166dfd82be6ba</td>\n",
              "      <td>b4e1d5fdf13905222b7a571b9edad9ef</td>\n",
              "      <td>delivered</td>\n",
              "      <td>2018-04-21 13:03:33</td>\n",
              "      <td>2018-04-24 18:05:57</td>\n",
              "      <td>2018-04-23 18:16:54</td>\n",
              "      <td>2018-04-24 18:16:59</td>\n",
              "      <td>2018-05-08</td>\n",
              "      <td>9eb5dbe2b5f217e8a10c5b7e14b90346</td>\n",
              "      <td>8290</td>\n",
              "      <td>sao paulo</td>\n",
              "      <td>SP</td>\n",
              "      <td>11.0</td>\n",
              "    </tr>\n",
              "    <tr>\n",
              "      <th>4061</th>\n",
              "      <td>26449e55a87a5c565d60238999c380ff</td>\n",
              "      <td>3ebd7c64f990c7558321fb5af7a547b9</td>\n",
              "      <td>delivered</td>\n",
              "      <td>2018-04-22 18:05:20</td>\n",
              "      <td>2018-04-24 18:55:14</td>\n",
              "      <td>2018-04-23 10:42:46</td>\n",
              "      <td>2018-04-24 19:11:46</td>\n",
              "      <td>2018-05-04</td>\n",
              "      <td>67e01e8409e5b0735a24e54759195613</td>\n",
              "      <td>12307</td>\n",
              "      <td>jacarei</td>\n",
              "      <td>SP</td>\n",
              "      <td>17.0</td>\n",
              "    </tr>\n",
              "    <tr>\n",
              "      <th>98710</th>\n",
              "      <td>1378f9601350615613cc8832d6789c5d</td>\n",
              "      <td>988126b4ddf725d9724e4318872ea2ae</td>\n",
              "      <td>delivered</td>\n",
              "      <td>2017-09-01 20:28:02</td>\n",
              "      <td>2017-09-13 22:03:51</td>\n",
              "      <td>2017-09-04 18:07:55</td>\n",
              "      <td>2017-09-13 22:24:46</td>\n",
              "      <td>2017-09-29</td>\n",
              "      <td>507dc9becd4fc65635d90682dfa9d3a3</td>\n",
              "      <td>98900</td>\n",
              "      <td>santa rosa</td>\n",
              "      <td>RS</td>\n",
              "      <td>21.0</td>\n",
              "    </tr>\n",
              "    <tr>\n",
              "      <th>23566</th>\n",
              "      <td>fe857b5ac310b06adabd0e18af932cc5</td>\n",
              "      <td>3a5e6f873f45644fdfea652076839de0</td>\n",
              "      <td>delivered</td>\n",
              "      <td>2018-04-22 23:12:46</td>\n",
              "      <td>2018-04-24 18:53:22</td>\n",
              "      <td>2018-04-23 18:37:43</td>\n",
              "      <td>2018-04-24 19:17:28</td>\n",
              "      <td>2018-05-10</td>\n",
              "      <td>a853fbe4c65c24952022a30655adb74f</td>\n",
              "      <td>18090</td>\n",
              "      <td>sorocaba</td>\n",
              "      <td>SP</td>\n",
              "      <td>24.0</td>\n",
              "    </tr>\n",
              "    <tr>\n",
              "      <th>80928</th>\n",
              "      <td>339063a819f93e6e25102c3bb66ab667</td>\n",
              "      <td>73e1e70b645c6ef82dda64348a5c2391</td>\n",
              "      <td>delivered</td>\n",
              "      <td>2018-04-20 13:46:38</td>\n",
              "      <td>2018-04-24 19:18:43</td>\n",
              "      <td>2018-04-23 19:26:40</td>\n",
              "      <td>2018-04-24 19:51:47</td>\n",
              "      <td>2018-05-09</td>\n",
              "      <td>b88d7e07a1508ee88d1ca350f201a2a1</td>\n",
              "      <td>8596</td>\n",
              "      <td>itaquaquecetuba</td>\n",
              "      <td>SP</td>\n",
              "      <td>33.0</td>\n",
              "    </tr>\n",
              "    <tr>\n",
              "      <th>...</th>\n",
              "      <td>...</td>\n",
              "      <td>...</td>\n",
              "      <td>...</td>\n",
              "      <td>...</td>\n",
              "      <td>...</td>\n",
              "      <td>...</td>\n",
              "      <td>...</td>\n",
              "      <td>...</td>\n",
              "      <td>...</td>\n",
              "      <td>...</td>\n",
              "      <td>...</td>\n",
              "      <td>...</td>\n",
              "      <td>...</td>\n",
              "    </tr>\n",
              "    <tr>\n",
              "      <th>61610</th>\n",
              "      <td>440d0d17af552815d15a9e41abe49359</td>\n",
              "      <td>7815125148cfa1e8c7fee1ff7974f16c</td>\n",
              "      <td>delivered</td>\n",
              "      <td>2017-03-07 23:59:51</td>\n",
              "      <td>2017-03-09 01:11:33</td>\n",
              "      <td>2017-03-15 13:00:08</td>\n",
              "      <td>2017-09-19 15:12:50</td>\n",
              "      <td>2017-04-07</td>\n",
              "      <td>f0785d41d416fa827f24c4b95d066b69</td>\n",
              "      <td>66813</td>\n",
              "      <td>belem</td>\n",
              "      <td>PA</td>\n",
              "      <td>280201.0</td>\n",
              "    </tr>\n",
              "    <tr>\n",
              "      <th>89130</th>\n",
              "      <td>285ab9426d6982034523a855f55a885e</td>\n",
              "      <td>9cf2c3fa2632cee748e1a59ca9d09b21</td>\n",
              "      <td>delivered</td>\n",
              "      <td>2017-03-08 22:47:40</td>\n",
              "      <td>2017-03-08 22:47:40</td>\n",
              "      <td>2017-03-09 08:53:20</td>\n",
              "      <td>2017-09-19 14:00:04</td>\n",
              "      <td>2017-04-06</td>\n",
              "      <td>3c2564d42f7ddd8b7576f0dd9cb1b4c5</td>\n",
              "      <td>49400</td>\n",
              "      <td>lagarto</td>\n",
              "      <td>SE</td>\n",
              "      <td>280272.0</td>\n",
              "    </tr>\n",
              "    <tr>\n",
              "      <th>70307</th>\n",
              "      <td>2fb597c2f772eca01b1f5c561bf6cc7b</td>\n",
              "      <td>217906bc11a32c1e470eb7e08584894b</td>\n",
              "      <td>delivered</td>\n",
              "      <td>2017-03-08 18:09:02</td>\n",
              "      <td>2017-03-08 18:09:02</td>\n",
              "      <td>2017-03-13 08:54:02</td>\n",
              "      <td>2017-09-19 14:33:17</td>\n",
              "      <td>2017-04-17</td>\n",
              "      <td>c6c0b794d3e4eb69cd85d1438a0db26e</td>\n",
              "      <td>64023</td>\n",
              "      <td>teresina</td>\n",
              "      <td>PI</td>\n",
              "      <td>280584.0</td>\n",
              "    </tr>\n",
              "    <tr>\n",
              "      <th>55619</th>\n",
              "      <td>1b3190b2dfa9d789e1f14c05b647a14a</td>\n",
              "      <td>d306426abe5fca15e54b645e4462dc7b</td>\n",
              "      <td>delivered</td>\n",
              "      <td>2018-02-23 14:57:35</td>\n",
              "      <td>2018-02-23 15:16:14</td>\n",
              "      <td>2018-02-26 18:49:07</td>\n",
              "      <td>2018-09-19 23:24:07</td>\n",
              "      <td>2018-03-15</td>\n",
              "      <td>eb21169c3153a2b507fc7e76d561ff14</td>\n",
              "      <td>22723</td>\n",
              "      <td>rio de janeiro</td>\n",
              "      <td>RJ</td>\n",
              "      <td>300008.0</td>\n",
              "    </tr>\n",
              "    <tr>\n",
              "      <th>19590</th>\n",
              "      <td>ca07593549f1816d26a572e06dc1eab6</td>\n",
              "      <td>75683a92331068e2d281b11a7866ba44</td>\n",
              "      <td>delivered</td>\n",
              "      <td>2017-02-21 23:31:27</td>\n",
              "      <td>2017-02-23 02:35:15</td>\n",
              "      <td>2017-03-08 13:47:46</td>\n",
              "      <td>2017-09-19 14:36:39</td>\n",
              "      <td>2017-03-22</td>\n",
              "      <td>4a2519b6991378f6f2ce5ed22d308f03</td>\n",
              "      <td>29890</td>\n",
              "      <td>montanha</td>\n",
              "      <td>ES</td>\n",
              "      <td>300241.0</td>\n",
              "    </tr>\n",
              "  </tbody>\n",
              "</table>\n",
              "<p>96400 rows × 13 columns</p>\n",
              "</div>\n",
              "    <div class=\"colab-df-buttons\">\n",
              "\n",
              "  <div class=\"colab-df-container\">\n",
              "    <button class=\"colab-df-convert\" onclick=\"convertToInteractive('df-06305aa0-fcae-41b2-abb3-89641f657b83')\"\n",
              "            title=\"Convert this dataframe to an interactive table.\"\n",
              "            style=\"display:none;\">\n",
              "\n",
              "  <svg xmlns=\"http://www.w3.org/2000/svg\" height=\"24px\" viewBox=\"0 -960 960 960\">\n",
              "    <path d=\"M120-120v-720h720v720H120Zm60-500h600v-160H180v160Zm220 220h160v-160H400v160Zm0 220h160v-160H400v160ZM180-400h160v-160H180v160Zm440 0h160v-160H620v160ZM180-180h160v-160H180v160Zm440 0h160v-160H620v160Z\"/>\n",
              "  </svg>\n",
              "    </button>\n",
              "\n",
              "  <style>\n",
              "    .colab-df-container {\n",
              "      display:flex;\n",
              "      gap: 12px;\n",
              "    }\n",
              "\n",
              "    .colab-df-convert {\n",
              "      background-color: #E8F0FE;\n",
              "      border: none;\n",
              "      border-radius: 50%;\n",
              "      cursor: pointer;\n",
              "      display: none;\n",
              "      fill: #1967D2;\n",
              "      height: 32px;\n",
              "      padding: 0 0 0 0;\n",
              "      width: 32px;\n",
              "    }\n",
              "\n",
              "    .colab-df-convert:hover {\n",
              "      background-color: #E2EBFA;\n",
              "      box-shadow: 0px 1px 2px rgba(60, 64, 67, 0.3), 0px 1px 3px 1px rgba(60, 64, 67, 0.15);\n",
              "      fill: #174EA6;\n",
              "    }\n",
              "\n",
              "    .colab-df-buttons div {\n",
              "      margin-bottom: 4px;\n",
              "    }\n",
              "\n",
              "    [theme=dark] .colab-df-convert {\n",
              "      background-color: #3B4455;\n",
              "      fill: #D2E3FC;\n",
              "    }\n",
              "\n",
              "    [theme=dark] .colab-df-convert:hover {\n",
              "      background-color: #434B5C;\n",
              "      box-shadow: 0px 1px 3px 1px rgba(0, 0, 0, 0.15);\n",
              "      filter: drop-shadow(0px 1px 2px rgba(0, 0, 0, 0.3));\n",
              "      fill: #FFFFFF;\n",
              "    }\n",
              "  </style>\n",
              "\n",
              "    <script>\n",
              "      const buttonEl =\n",
              "        document.querySelector('#df-06305aa0-fcae-41b2-abb3-89641f657b83 button.colab-df-convert');\n",
              "      buttonEl.style.display =\n",
              "        google.colab.kernel.accessAllowed ? 'block' : 'none';\n",
              "\n",
              "      async function convertToInteractive(key) {\n",
              "        const element = document.querySelector('#df-06305aa0-fcae-41b2-abb3-89641f657b83');\n",
              "        const dataTable =\n",
              "          await google.colab.kernel.invokeFunction('convertToInteractive',\n",
              "                                                    [key], {});\n",
              "        if (!dataTable) return;\n",
              "\n",
              "        const docLinkHtml = 'Like what you see? Visit the ' +\n",
              "          '<a target=\"_blank\" href=https://colab.research.google.com/notebooks/data_table.ipynb>data table notebook</a>'\n",
              "          + ' to learn more about interactive tables.';\n",
              "        element.innerHTML = '';\n",
              "        dataTable['output_type'] = 'display_data';\n",
              "        await google.colab.output.renderOutput(dataTable, element);\n",
              "        const docLink = document.createElement('div');\n",
              "        docLink.innerHTML = docLinkHtml;\n",
              "        element.appendChild(docLink);\n",
              "      }\n",
              "    </script>\n",
              "  </div>\n",
              "\n",
              "\n",
              "<div id=\"df-2e5f51f6-2f3b-4763-8a00-d4d96a954d93\">\n",
              "  <button class=\"colab-df-quickchart\" onclick=\"quickchart('df-2e5f51f6-2f3b-4763-8a00-d4d96a954d93')\"\n",
              "            title=\"Suggest charts\"\n",
              "            style=\"display:none;\">\n",
              "\n",
              "<svg xmlns=\"http://www.w3.org/2000/svg\" height=\"24px\"viewBox=\"0 0 24 24\"\n",
              "     width=\"24px\">\n",
              "    <g>\n",
              "        <path d=\"M19 3H5c-1.1 0-2 .9-2 2v14c0 1.1.9 2 2 2h14c1.1 0 2-.9 2-2V5c0-1.1-.9-2-2-2zM9 17H7v-7h2v7zm4 0h-2V7h2v10zm4 0h-2v-4h2v4z\"/>\n",
              "    </g>\n",
              "</svg>\n",
              "  </button>\n",
              "\n",
              "<style>\n",
              "  .colab-df-quickchart {\n",
              "      --bg-color: #E8F0FE;\n",
              "      --fill-color: #1967D2;\n",
              "      --hover-bg-color: #E2EBFA;\n",
              "      --hover-fill-color: #174EA6;\n",
              "      --disabled-fill-color: #AAA;\n",
              "      --disabled-bg-color: #DDD;\n",
              "  }\n",
              "\n",
              "  [theme=dark] .colab-df-quickchart {\n",
              "      --bg-color: #3B4455;\n",
              "      --fill-color: #D2E3FC;\n",
              "      --hover-bg-color: #434B5C;\n",
              "      --hover-fill-color: #FFFFFF;\n",
              "      --disabled-bg-color: #3B4455;\n",
              "      --disabled-fill-color: #666;\n",
              "  }\n",
              "\n",
              "  .colab-df-quickchart {\n",
              "    background-color: var(--bg-color);\n",
              "    border: none;\n",
              "    border-radius: 50%;\n",
              "    cursor: pointer;\n",
              "    display: none;\n",
              "    fill: var(--fill-color);\n",
              "    height: 32px;\n",
              "    padding: 0;\n",
              "    width: 32px;\n",
              "  }\n",
              "\n",
              "  .colab-df-quickchart:hover {\n",
              "    background-color: var(--hover-bg-color);\n",
              "    box-shadow: 0 1px 2px rgba(60, 64, 67, 0.3), 0 1px 3px 1px rgba(60, 64, 67, 0.15);\n",
              "    fill: var(--button-hover-fill-color);\n",
              "  }\n",
              "\n",
              "  .colab-df-quickchart-complete:disabled,\n",
              "  .colab-df-quickchart-complete:disabled:hover {\n",
              "    background-color: var(--disabled-bg-color);\n",
              "    fill: var(--disabled-fill-color);\n",
              "    box-shadow: none;\n",
              "  }\n",
              "\n",
              "  .colab-df-spinner {\n",
              "    border: 2px solid var(--fill-color);\n",
              "    border-color: transparent;\n",
              "    border-bottom-color: var(--fill-color);\n",
              "    animation:\n",
              "      spin 1s steps(1) infinite;\n",
              "  }\n",
              "\n",
              "  @keyframes spin {\n",
              "    0% {\n",
              "      border-color: transparent;\n",
              "      border-bottom-color: var(--fill-color);\n",
              "      border-left-color: var(--fill-color);\n",
              "    }\n",
              "    20% {\n",
              "      border-color: transparent;\n",
              "      border-left-color: var(--fill-color);\n",
              "      border-top-color: var(--fill-color);\n",
              "    }\n",
              "    30% {\n",
              "      border-color: transparent;\n",
              "      border-left-color: var(--fill-color);\n",
              "      border-top-color: var(--fill-color);\n",
              "      border-right-color: var(--fill-color);\n",
              "    }\n",
              "    40% {\n",
              "      border-color: transparent;\n",
              "      border-right-color: var(--fill-color);\n",
              "      border-top-color: var(--fill-color);\n",
              "    }\n",
              "    60% {\n",
              "      border-color: transparent;\n",
              "      border-right-color: var(--fill-color);\n",
              "    }\n",
              "    80% {\n",
              "      border-color: transparent;\n",
              "      border-right-color: var(--fill-color);\n",
              "      border-bottom-color: var(--fill-color);\n",
              "    }\n",
              "    90% {\n",
              "      border-color: transparent;\n",
              "      border-bottom-color: var(--fill-color);\n",
              "    }\n",
              "  }\n",
              "</style>\n",
              "\n",
              "  <script>\n",
              "    async function quickchart(key) {\n",
              "      const quickchartButtonEl =\n",
              "        document.querySelector('#' + key + ' button');\n",
              "      quickchartButtonEl.disabled = true;  // To prevent multiple clicks.\n",
              "      quickchartButtonEl.classList.add('colab-df-spinner');\n",
              "      try {\n",
              "        const charts = await google.colab.kernel.invokeFunction(\n",
              "            'suggestCharts', [key], {});\n",
              "      } catch (error) {\n",
              "        console.error('Error during call to suggestCharts:', error);\n",
              "      }\n",
              "      quickchartButtonEl.classList.remove('colab-df-spinner');\n",
              "      quickchartButtonEl.classList.add('colab-df-quickchart-complete');\n",
              "    }\n",
              "    (() => {\n",
              "      let quickchartButtonEl =\n",
              "        document.querySelector('#df-2e5f51f6-2f3b-4763-8a00-d4d96a954d93 button');\n",
              "      quickchartButtonEl.style.display =\n",
              "        google.colab.kernel.accessAllowed ? 'block' : 'none';\n",
              "    })();\n",
              "  </script>\n",
              "</div>\n",
              "    </div>\n",
              "  </div>\n"
            ],
            "application/vnd.google.colaboratory.intrinsic+json": {
              "type": "dataframe",
              "summary": "{\n  \"name\": \"orders_customers_df\",\n  \"rows\": 96400,\n  \"fields\": [\n    {\n      \"column\": \"order_id\",\n      \"properties\": {\n        \"dtype\": \"string\",\n        \"num_unique_values\": 96400,\n        \"samples\": [\n          \"7f539983cfeeeb17fa4a9bb2df43d4db\",\n          \"9aee4ebad2ec4e0ac243cfd62de682e7\",\n          \"f9a5ad74c3deced30894f938bb3ffd31\"\n        ],\n        \"semantic_type\": \"\",\n        \"description\": \"\"\n      }\n    },\n    {\n      \"column\": \"customer_id\",\n      \"properties\": {\n        \"dtype\": \"string\",\n        \"num_unique_values\": 96400,\n        \"samples\": [\n          \"9f7bcb19d79216545a88e5e6aa85262a\",\n          \"cc17e813b63c679d370ab359fc852e26\",\n          \"aeb21ed20c0292f90900c640ab96970c\"\n        ],\n        \"semantic_type\": \"\",\n        \"description\": \"\"\n      }\n    },\n    {\n      \"column\": \"order_status\",\n      \"properties\": {\n        \"dtype\": \"category\",\n        \"num_unique_values\": 2,\n        \"samples\": [\n          \"canceled\",\n          \"delivered\"\n        ],\n        \"semantic_type\": \"\",\n        \"description\": \"\"\n      }\n    },\n    {\n      \"column\": \"order_purchase_timestamp\",\n      \"properties\": {\n        \"dtype\": \"date\",\n        \"min\": \"2016-09-15 12:16:38\",\n        \"max\": \"2018-08-29 15:00:37\",\n        \"num_unique_values\": 95878,\n        \"samples\": [\n          \"2018-08-18 08:22:36\",\n          \"2018-07-18 11:01:57\"\n        ],\n        \"semantic_type\": \"\",\n        \"description\": \"\"\n      }\n    },\n    {\n      \"column\": \"order_approved_at\",\n      \"properties\": {\n        \"dtype\": \"date\",\n        \"min\": \"2016-09-15 12:16:38\",\n        \"max\": \"2018-08-29 15:10:26\",\n        \"num_unique_values\": 88224,\n        \"samples\": [\n          \"2018-01-16 07:49:54\",\n          \"2017-06-06 13:30:46\"\n        ],\n        \"semantic_type\": \"\",\n        \"description\": \"\"\n      }\n    },\n    {\n      \"column\": \"order_delivered_carrier_date\",\n      \"properties\": {\n        \"dtype\": \"date\",\n        \"min\": \"2016-10-08 10:34:01\",\n        \"max\": \"2018-09-11 19:48:28\",\n        \"num_unique_values\": 80065,\n        \"samples\": [\n          \"2017-11-28 20:34:38\",\n          \"2017-05-18 10:35:26\"\n        ],\n        \"semantic_type\": \"\",\n        \"description\": \"\"\n      }\n    },\n    {\n      \"column\": \"order_delivered_customer_date\",\n      \"properties\": {\n        \"dtype\": \"date\",\n        \"min\": \"2016-10-11 13:46:32\",\n        \"max\": \"2018-10-17 13:22:46\",\n        \"num_unique_values\": 95589,\n        \"samples\": [\n          \"2018-04-30 21:04:35\",\n          \"2017-10-10 20:08:03\"\n        ],\n        \"semantic_type\": \"\",\n        \"description\": \"\"\n      }\n    },\n    {\n      \"column\": \"order_estimated_delivery_date\",\n      \"properties\": {\n        \"dtype\": \"date\",\n        \"min\": \"2016-10-04 00:00:00\",\n        \"max\": \"2018-10-25 00:00:00\",\n        \"num_unique_values\": 445,\n        \"samples\": [\n          \"2017-10-27 00:00:00\",\n          \"2017-07-06 00:00:00\"\n        ],\n        \"semantic_type\": \"\",\n        \"description\": \"\"\n      }\n    },\n    {\n      \"column\": \"customer_unique_id\",\n      \"properties\": {\n        \"dtype\": \"string\",\n        \"num_unique_values\": 93283,\n        \"samples\": [\n          \"68730a178e52aab1ceb8e4e58267eb1b\",\n          \"22767c6709304dff7c3810b370a46392\"\n        ],\n        \"semantic_type\": \"\",\n        \"description\": \"\"\n      }\n    },\n    {\n      \"column\": \"customer_zip_code_prefix\",\n      \"properties\": {\n        \"dtype\": \"number\",\n        \"std\": 29840,\n        \"min\": 1003,\n        \"max\": 99980,\n        \"num_unique_values\": 14886,\n        \"samples\": [\n          9336,\n          65398\n        ],\n        \"semantic_type\": \"\",\n        \"description\": \"\"\n      }\n    },\n    {\n      \"column\": \"customer_city\",\n      \"properties\": {\n        \"dtype\": \"category\",\n        \"num_unique_values\": 4085,\n        \"samples\": [\n          \"sobral\",\n          \"rio negro\"\n        ],\n        \"semantic_type\": \"\",\n        \"description\": \"\"\n      }\n    },\n    {\n      \"column\": \"customer_state\",\n      \"properties\": {\n        \"dtype\": \"category\",\n        \"num_unique_values\": 27,\n        \"samples\": [\n          \"MA\",\n          \"ES\"\n        ],\n        \"semantic_type\": \"\",\n        \"description\": \"\"\n      }\n    },\n    {\n      \"column\": \"delivery_time\",\n      \"properties\": {\n        \"dtype\": \"number\",\n        \"std\": 13698.195224500565,\n        \"min\": 11.0,\n        \"max\": 300241.0,\n        \"num_unique_values\": 35401,\n        \"samples\": [\n          40242.0,\n          42090.0\n        ],\n        \"semantic_type\": \"\",\n        \"description\": \"\"\n      }\n    }\n  ]\n}"
            }
          },
          "metadata": {},
          "execution_count": 62
        }
      ]
    },
    {
      "cell_type": "markdown",
      "source": [
        "Tampak bahwa waktu pengiriman berkisar dari 0 hari (dikirim dalam hari yang sama) hingga 209 hari. Rata-rata waktu pengiriman yaitu 12 hari dengan standar deviasi 9,5 hari."
      ],
      "metadata": {
        "id": "nH0TV20aAMUM"
      }
    },
    {
      "cell_type": "code",
      "source": [
        "orders_customers_df['delivery_time'] = round(delivery_time/86400)\n",
        "orders_customers_df['delivery_time'].describe()"
      ],
      "metadata": {
        "id": "zqvCiPhGkXYY",
        "colab": {
          "base_uri": "https://localhost:8080/"
        },
        "outputId": "1a335307-5718-495c-ed77-b523e1572b85"
      },
      "execution_count": 63,
      "outputs": [
        {
          "output_type": "execute_result",
          "data": {
            "text/plain": [
              "count    96400.000000\n",
              "mean        12.128122\n",
              "std          9.516826\n",
              "min          0.000000\n",
              "25%          6.000000\n",
              "50%         10.000000\n",
              "75%         15.000000\n",
              "max        209.000000\n",
              "Name: delivery_time, dtype: float64"
            ]
          },
          "metadata": {},
          "execution_count": 63
        }
      ]
    },
    {
      "cell_type": "code",
      "source": [
        "orders_customers_df = orders_customers_df.dropna(subset=['delivery_time'])\n",
        "orders_customers_df['delivery_time'] = orders_customers_df['delivery_time'].astype(int)"
      ],
      "metadata": {
        "id": "jvURb8c0lidM"
      },
      "execution_count": 64,
      "outputs": []
    },
    {
      "cell_type": "code",
      "source": [
        "orders_customers_df.info()"
      ],
      "metadata": {
        "colab": {
          "base_uri": "https://localhost:8080/"
        },
        "id": "n5LGf0ZTlwnb",
        "outputId": "fe076d34-a9d0-4342-887b-920de500bda3"
      },
      "execution_count": 65,
      "outputs": [
        {
          "output_type": "stream",
          "name": "stdout",
          "text": [
            "<class 'pandas.core.frame.DataFrame'>\n",
            "Int64Index: 96400 entries, 0 to 99440\n",
            "Data columns (total 13 columns):\n",
            " #   Column                         Non-Null Count  Dtype         \n",
            "---  ------                         --------------  -----         \n",
            " 0   order_id                       96400 non-null  object        \n",
            " 1   customer_id                    96400 non-null  object        \n",
            " 2   order_status                   96400 non-null  object        \n",
            " 3   order_purchase_timestamp       96400 non-null  datetime64[ns]\n",
            " 4   order_approved_at              96400 non-null  datetime64[ns]\n",
            " 5   order_delivered_carrier_date   96400 non-null  datetime64[ns]\n",
            " 6   order_delivered_customer_date  96400 non-null  datetime64[ns]\n",
            " 7   order_estimated_delivery_date  96400 non-null  datetime64[ns]\n",
            " 8   customer_unique_id             96400 non-null  object        \n",
            " 9   customer_zip_code_prefix       96400 non-null  int64         \n",
            " 10  customer_city                  96400 non-null  object        \n",
            " 11  customer_state                 96400 non-null  object        \n",
            " 12  delivery_time                  96400 non-null  int64         \n",
            "dtypes: datetime64[ns](5), int64(2), object(6)\n",
            "memory usage: 10.3+ MB\n"
          ]
        }
      ]
    },
    {
      "cell_type": "markdown",
      "source": [
        "Jumlah customer berdasarkan kota"
      ],
      "metadata": {
        "id": "rLftgNDhl3Wr"
      }
    },
    {
      "cell_type": "code",
      "source": [
        "sorted_city = orders_customers_df.groupby(by='customer_city').customer_id.nunique().reset_index().sort_values(by='customer_id', ascending=False).head()\n",
        "sorted_city"
      ],
      "metadata": {
        "colab": {
          "base_uri": "https://localhost:8080/",
          "height": 206
        },
        "id": "huOaFRWdl6I2",
        "outputId": "2b326581-8ca2-4d0d-ee2c-d6b35d85ef0b"
      },
      "execution_count": 66,
      "outputs": [
        {
          "output_type": "execute_result",
          "data": {
            "text/plain": [
              "       customer_city  customer_id\n",
              "3563       sao paulo        15019\n",
              "3126  rio de janeiro         6602\n",
              "449   belo horizonte         2697\n",
              "553         brasilia         2071\n",
              "1135        curitiba         1486"
            ],
            "text/html": [
              "\n",
              "  <div id=\"df-61aff9e7-33fb-4124-ada4-114129c488e2\" class=\"colab-df-container\">\n",
              "    <div>\n",
              "<style scoped>\n",
              "    .dataframe tbody tr th:only-of-type {\n",
              "        vertical-align: middle;\n",
              "    }\n",
              "\n",
              "    .dataframe tbody tr th {\n",
              "        vertical-align: top;\n",
              "    }\n",
              "\n",
              "    .dataframe thead th {\n",
              "        text-align: right;\n",
              "    }\n",
              "</style>\n",
              "<table border=\"1\" class=\"dataframe\">\n",
              "  <thead>\n",
              "    <tr style=\"text-align: right;\">\n",
              "      <th></th>\n",
              "      <th>customer_city</th>\n",
              "      <th>customer_id</th>\n",
              "    </tr>\n",
              "  </thead>\n",
              "  <tbody>\n",
              "    <tr>\n",
              "      <th>3563</th>\n",
              "      <td>sao paulo</td>\n",
              "      <td>15019</td>\n",
              "    </tr>\n",
              "    <tr>\n",
              "      <th>3126</th>\n",
              "      <td>rio de janeiro</td>\n",
              "      <td>6602</td>\n",
              "    </tr>\n",
              "    <tr>\n",
              "      <th>449</th>\n",
              "      <td>belo horizonte</td>\n",
              "      <td>2697</td>\n",
              "    </tr>\n",
              "    <tr>\n",
              "      <th>553</th>\n",
              "      <td>brasilia</td>\n",
              "      <td>2071</td>\n",
              "    </tr>\n",
              "    <tr>\n",
              "      <th>1135</th>\n",
              "      <td>curitiba</td>\n",
              "      <td>1486</td>\n",
              "    </tr>\n",
              "  </tbody>\n",
              "</table>\n",
              "</div>\n",
              "    <div class=\"colab-df-buttons\">\n",
              "\n",
              "  <div class=\"colab-df-container\">\n",
              "    <button class=\"colab-df-convert\" onclick=\"convertToInteractive('df-61aff9e7-33fb-4124-ada4-114129c488e2')\"\n",
              "            title=\"Convert this dataframe to an interactive table.\"\n",
              "            style=\"display:none;\">\n",
              "\n",
              "  <svg xmlns=\"http://www.w3.org/2000/svg\" height=\"24px\" viewBox=\"0 -960 960 960\">\n",
              "    <path d=\"M120-120v-720h720v720H120Zm60-500h600v-160H180v160Zm220 220h160v-160H400v160Zm0 220h160v-160H400v160ZM180-400h160v-160H180v160Zm440 0h160v-160H620v160ZM180-180h160v-160H180v160Zm440 0h160v-160H620v160Z\"/>\n",
              "  </svg>\n",
              "    </button>\n",
              "\n",
              "  <style>\n",
              "    .colab-df-container {\n",
              "      display:flex;\n",
              "      gap: 12px;\n",
              "    }\n",
              "\n",
              "    .colab-df-convert {\n",
              "      background-color: #E8F0FE;\n",
              "      border: none;\n",
              "      border-radius: 50%;\n",
              "      cursor: pointer;\n",
              "      display: none;\n",
              "      fill: #1967D2;\n",
              "      height: 32px;\n",
              "      padding: 0 0 0 0;\n",
              "      width: 32px;\n",
              "    }\n",
              "\n",
              "    .colab-df-convert:hover {\n",
              "      background-color: #E2EBFA;\n",
              "      box-shadow: 0px 1px 2px rgba(60, 64, 67, 0.3), 0px 1px 3px 1px rgba(60, 64, 67, 0.15);\n",
              "      fill: #174EA6;\n",
              "    }\n",
              "\n",
              "    .colab-df-buttons div {\n",
              "      margin-bottom: 4px;\n",
              "    }\n",
              "\n",
              "    [theme=dark] .colab-df-convert {\n",
              "      background-color: #3B4455;\n",
              "      fill: #D2E3FC;\n",
              "    }\n",
              "\n",
              "    [theme=dark] .colab-df-convert:hover {\n",
              "      background-color: #434B5C;\n",
              "      box-shadow: 0px 1px 3px 1px rgba(0, 0, 0, 0.15);\n",
              "      filter: drop-shadow(0px 1px 2px rgba(0, 0, 0, 0.3));\n",
              "      fill: #FFFFFF;\n",
              "    }\n",
              "  </style>\n",
              "\n",
              "    <script>\n",
              "      const buttonEl =\n",
              "        document.querySelector('#df-61aff9e7-33fb-4124-ada4-114129c488e2 button.colab-df-convert');\n",
              "      buttonEl.style.display =\n",
              "        google.colab.kernel.accessAllowed ? 'block' : 'none';\n",
              "\n",
              "      async function convertToInteractive(key) {\n",
              "        const element = document.querySelector('#df-61aff9e7-33fb-4124-ada4-114129c488e2');\n",
              "        const dataTable =\n",
              "          await google.colab.kernel.invokeFunction('convertToInteractive',\n",
              "                                                    [key], {});\n",
              "        if (!dataTable) return;\n",
              "\n",
              "        const docLinkHtml = 'Like what you see? Visit the ' +\n",
              "          '<a target=\"_blank\" href=https://colab.research.google.com/notebooks/data_table.ipynb>data table notebook</a>'\n",
              "          + ' to learn more about interactive tables.';\n",
              "        element.innerHTML = '';\n",
              "        dataTable['output_type'] = 'display_data';\n",
              "        await google.colab.output.renderOutput(dataTable, element);\n",
              "        const docLink = document.createElement('div');\n",
              "        docLink.innerHTML = docLinkHtml;\n",
              "        element.appendChild(docLink);\n",
              "      }\n",
              "    </script>\n",
              "  </div>\n",
              "\n",
              "\n",
              "<div id=\"df-8045d357-322d-47a8-9757-993c8fc02cf8\">\n",
              "  <button class=\"colab-df-quickchart\" onclick=\"quickchart('df-8045d357-322d-47a8-9757-993c8fc02cf8')\"\n",
              "            title=\"Suggest charts\"\n",
              "            style=\"display:none;\">\n",
              "\n",
              "<svg xmlns=\"http://www.w3.org/2000/svg\" height=\"24px\"viewBox=\"0 0 24 24\"\n",
              "     width=\"24px\">\n",
              "    <g>\n",
              "        <path d=\"M19 3H5c-1.1 0-2 .9-2 2v14c0 1.1.9 2 2 2h14c1.1 0 2-.9 2-2V5c0-1.1-.9-2-2-2zM9 17H7v-7h2v7zm4 0h-2V7h2v10zm4 0h-2v-4h2v4z\"/>\n",
              "    </g>\n",
              "</svg>\n",
              "  </button>\n",
              "\n",
              "<style>\n",
              "  .colab-df-quickchart {\n",
              "      --bg-color: #E8F0FE;\n",
              "      --fill-color: #1967D2;\n",
              "      --hover-bg-color: #E2EBFA;\n",
              "      --hover-fill-color: #174EA6;\n",
              "      --disabled-fill-color: #AAA;\n",
              "      --disabled-bg-color: #DDD;\n",
              "  }\n",
              "\n",
              "  [theme=dark] .colab-df-quickchart {\n",
              "      --bg-color: #3B4455;\n",
              "      --fill-color: #D2E3FC;\n",
              "      --hover-bg-color: #434B5C;\n",
              "      --hover-fill-color: #FFFFFF;\n",
              "      --disabled-bg-color: #3B4455;\n",
              "      --disabled-fill-color: #666;\n",
              "  }\n",
              "\n",
              "  .colab-df-quickchart {\n",
              "    background-color: var(--bg-color);\n",
              "    border: none;\n",
              "    border-radius: 50%;\n",
              "    cursor: pointer;\n",
              "    display: none;\n",
              "    fill: var(--fill-color);\n",
              "    height: 32px;\n",
              "    padding: 0;\n",
              "    width: 32px;\n",
              "  }\n",
              "\n",
              "  .colab-df-quickchart:hover {\n",
              "    background-color: var(--hover-bg-color);\n",
              "    box-shadow: 0 1px 2px rgba(60, 64, 67, 0.3), 0 1px 3px 1px rgba(60, 64, 67, 0.15);\n",
              "    fill: var(--button-hover-fill-color);\n",
              "  }\n",
              "\n",
              "  .colab-df-quickchart-complete:disabled,\n",
              "  .colab-df-quickchart-complete:disabled:hover {\n",
              "    background-color: var(--disabled-bg-color);\n",
              "    fill: var(--disabled-fill-color);\n",
              "    box-shadow: none;\n",
              "  }\n",
              "\n",
              "  .colab-df-spinner {\n",
              "    border: 2px solid var(--fill-color);\n",
              "    border-color: transparent;\n",
              "    border-bottom-color: var(--fill-color);\n",
              "    animation:\n",
              "      spin 1s steps(1) infinite;\n",
              "  }\n",
              "\n",
              "  @keyframes spin {\n",
              "    0% {\n",
              "      border-color: transparent;\n",
              "      border-bottom-color: var(--fill-color);\n",
              "      border-left-color: var(--fill-color);\n",
              "    }\n",
              "    20% {\n",
              "      border-color: transparent;\n",
              "      border-left-color: var(--fill-color);\n",
              "      border-top-color: var(--fill-color);\n",
              "    }\n",
              "    30% {\n",
              "      border-color: transparent;\n",
              "      border-left-color: var(--fill-color);\n",
              "      border-top-color: var(--fill-color);\n",
              "      border-right-color: var(--fill-color);\n",
              "    }\n",
              "    40% {\n",
              "      border-color: transparent;\n",
              "      border-right-color: var(--fill-color);\n",
              "      border-top-color: var(--fill-color);\n",
              "    }\n",
              "    60% {\n",
              "      border-color: transparent;\n",
              "      border-right-color: var(--fill-color);\n",
              "    }\n",
              "    80% {\n",
              "      border-color: transparent;\n",
              "      border-right-color: var(--fill-color);\n",
              "      border-bottom-color: var(--fill-color);\n",
              "    }\n",
              "    90% {\n",
              "      border-color: transparent;\n",
              "      border-bottom-color: var(--fill-color);\n",
              "    }\n",
              "  }\n",
              "</style>\n",
              "\n",
              "  <script>\n",
              "    async function quickchart(key) {\n",
              "      const quickchartButtonEl =\n",
              "        document.querySelector('#' + key + ' button');\n",
              "      quickchartButtonEl.disabled = true;  // To prevent multiple clicks.\n",
              "      quickchartButtonEl.classList.add('colab-df-spinner');\n",
              "      try {\n",
              "        const charts = await google.colab.kernel.invokeFunction(\n",
              "            'suggestCharts', [key], {});\n",
              "      } catch (error) {\n",
              "        console.error('Error during call to suggestCharts:', error);\n",
              "      }\n",
              "      quickchartButtonEl.classList.remove('colab-df-spinner');\n",
              "      quickchartButtonEl.classList.add('colab-df-quickchart-complete');\n",
              "    }\n",
              "    (() => {\n",
              "      let quickchartButtonEl =\n",
              "        document.querySelector('#df-8045d357-322d-47a8-9757-993c8fc02cf8 button');\n",
              "      quickchartButtonEl.style.display =\n",
              "        google.colab.kernel.accessAllowed ? 'block' : 'none';\n",
              "    })();\n",
              "  </script>\n",
              "</div>\n",
              "    </div>\n",
              "  </div>\n"
            ],
            "application/vnd.google.colaboratory.intrinsic+json": {
              "type": "dataframe",
              "variable_name": "sorted_city",
              "summary": "{\n  \"name\": \"sorted_city\",\n  \"rows\": 5,\n  \"fields\": [\n    {\n      \"column\": \"customer_city\",\n      \"properties\": {\n        \"dtype\": \"string\",\n        \"num_unique_values\": 5,\n        \"samples\": [\n          \"rio de janeiro\",\n          \"curitiba\",\n          \"belo horizonte\"\n        ],\n        \"semantic_type\": \"\",\n        \"description\": \"\"\n      }\n    },\n    {\n      \"column\": \"customer_id\",\n      \"properties\": {\n        \"dtype\": \"number\",\n        \"std\": 5646,\n        \"min\": 1486,\n        \"max\": 15019,\n        \"num_unique_values\": 5,\n        \"samples\": [\n          6602,\n          1486,\n          2697\n        ],\n        \"semantic_type\": \"\",\n        \"description\": \"\"\n      }\n    }\n  ]\n}"
            }
          },
          "metadata": {},
          "execution_count": 66
        }
      ]
    },
    {
      "cell_type": "markdown",
      "source": [
        "Jumlah customer berdasarkan state"
      ],
      "metadata": {
        "id": "r40PT039mFjd"
      }
    },
    {
      "cell_type": "code",
      "source": [
        "sorted_state = orders_customers_df.groupby(by='customer_state').customer_id.nunique().reset_index().sort_values(by='customer_id', ascending=False).head()\n",
        "sorted_state"
      ],
      "metadata": {
        "colab": {
          "base_uri": "https://localhost:8080/",
          "height": 206
        },
        "id": "lPkcrWvdmFBb",
        "outputId": "716d39d0-ff8d-481c-b537-8e87da0fb155"
      },
      "execution_count": 67,
      "outputs": [
        {
          "output_type": "execute_result",
          "data": {
            "text/plain": [
              "   customer_state  customer_id\n",
              "25             SP        40436\n",
              "18             RJ        12349\n",
              "10             MG        11350\n",
              "22             RS         5342\n",
              "17             PR         4920"
            ],
            "text/html": [
              "\n",
              "  <div id=\"df-17349303-3b95-4402-9768-484fb56f676b\" class=\"colab-df-container\">\n",
              "    <div>\n",
              "<style scoped>\n",
              "    .dataframe tbody tr th:only-of-type {\n",
              "        vertical-align: middle;\n",
              "    }\n",
              "\n",
              "    .dataframe tbody tr th {\n",
              "        vertical-align: top;\n",
              "    }\n",
              "\n",
              "    .dataframe thead th {\n",
              "        text-align: right;\n",
              "    }\n",
              "</style>\n",
              "<table border=\"1\" class=\"dataframe\">\n",
              "  <thead>\n",
              "    <tr style=\"text-align: right;\">\n",
              "      <th></th>\n",
              "      <th>customer_state</th>\n",
              "      <th>customer_id</th>\n",
              "    </tr>\n",
              "  </thead>\n",
              "  <tbody>\n",
              "    <tr>\n",
              "      <th>25</th>\n",
              "      <td>SP</td>\n",
              "      <td>40436</td>\n",
              "    </tr>\n",
              "    <tr>\n",
              "      <th>18</th>\n",
              "      <td>RJ</td>\n",
              "      <td>12349</td>\n",
              "    </tr>\n",
              "    <tr>\n",
              "      <th>10</th>\n",
              "      <td>MG</td>\n",
              "      <td>11350</td>\n",
              "    </tr>\n",
              "    <tr>\n",
              "      <th>22</th>\n",
              "      <td>RS</td>\n",
              "      <td>5342</td>\n",
              "    </tr>\n",
              "    <tr>\n",
              "      <th>17</th>\n",
              "      <td>PR</td>\n",
              "      <td>4920</td>\n",
              "    </tr>\n",
              "  </tbody>\n",
              "</table>\n",
              "</div>\n",
              "    <div class=\"colab-df-buttons\">\n",
              "\n",
              "  <div class=\"colab-df-container\">\n",
              "    <button class=\"colab-df-convert\" onclick=\"convertToInteractive('df-17349303-3b95-4402-9768-484fb56f676b')\"\n",
              "            title=\"Convert this dataframe to an interactive table.\"\n",
              "            style=\"display:none;\">\n",
              "\n",
              "  <svg xmlns=\"http://www.w3.org/2000/svg\" height=\"24px\" viewBox=\"0 -960 960 960\">\n",
              "    <path d=\"M120-120v-720h720v720H120Zm60-500h600v-160H180v160Zm220 220h160v-160H400v160Zm0 220h160v-160H400v160ZM180-400h160v-160H180v160Zm440 0h160v-160H620v160ZM180-180h160v-160H180v160Zm440 0h160v-160H620v160Z\"/>\n",
              "  </svg>\n",
              "    </button>\n",
              "\n",
              "  <style>\n",
              "    .colab-df-container {\n",
              "      display:flex;\n",
              "      gap: 12px;\n",
              "    }\n",
              "\n",
              "    .colab-df-convert {\n",
              "      background-color: #E8F0FE;\n",
              "      border: none;\n",
              "      border-radius: 50%;\n",
              "      cursor: pointer;\n",
              "      display: none;\n",
              "      fill: #1967D2;\n",
              "      height: 32px;\n",
              "      padding: 0 0 0 0;\n",
              "      width: 32px;\n",
              "    }\n",
              "\n",
              "    .colab-df-convert:hover {\n",
              "      background-color: #E2EBFA;\n",
              "      box-shadow: 0px 1px 2px rgba(60, 64, 67, 0.3), 0px 1px 3px 1px rgba(60, 64, 67, 0.15);\n",
              "      fill: #174EA6;\n",
              "    }\n",
              "\n",
              "    .colab-df-buttons div {\n",
              "      margin-bottom: 4px;\n",
              "    }\n",
              "\n",
              "    [theme=dark] .colab-df-convert {\n",
              "      background-color: #3B4455;\n",
              "      fill: #D2E3FC;\n",
              "    }\n",
              "\n",
              "    [theme=dark] .colab-df-convert:hover {\n",
              "      background-color: #434B5C;\n",
              "      box-shadow: 0px 1px 3px 1px rgba(0, 0, 0, 0.15);\n",
              "      filter: drop-shadow(0px 1px 2px rgba(0, 0, 0, 0.3));\n",
              "      fill: #FFFFFF;\n",
              "    }\n",
              "  </style>\n",
              "\n",
              "    <script>\n",
              "      const buttonEl =\n",
              "        document.querySelector('#df-17349303-3b95-4402-9768-484fb56f676b button.colab-df-convert');\n",
              "      buttonEl.style.display =\n",
              "        google.colab.kernel.accessAllowed ? 'block' : 'none';\n",
              "\n",
              "      async function convertToInteractive(key) {\n",
              "        const element = document.querySelector('#df-17349303-3b95-4402-9768-484fb56f676b');\n",
              "        const dataTable =\n",
              "          await google.colab.kernel.invokeFunction('convertToInteractive',\n",
              "                                                    [key], {});\n",
              "        if (!dataTable) return;\n",
              "\n",
              "        const docLinkHtml = 'Like what you see? Visit the ' +\n",
              "          '<a target=\"_blank\" href=https://colab.research.google.com/notebooks/data_table.ipynb>data table notebook</a>'\n",
              "          + ' to learn more about interactive tables.';\n",
              "        element.innerHTML = '';\n",
              "        dataTable['output_type'] = 'display_data';\n",
              "        await google.colab.output.renderOutput(dataTable, element);\n",
              "        const docLink = document.createElement('div');\n",
              "        docLink.innerHTML = docLinkHtml;\n",
              "        element.appendChild(docLink);\n",
              "      }\n",
              "    </script>\n",
              "  </div>\n",
              "\n",
              "\n",
              "<div id=\"df-3bae856b-3a40-4bc9-a12b-501170df7dc6\">\n",
              "  <button class=\"colab-df-quickchart\" onclick=\"quickchart('df-3bae856b-3a40-4bc9-a12b-501170df7dc6')\"\n",
              "            title=\"Suggest charts\"\n",
              "            style=\"display:none;\">\n",
              "\n",
              "<svg xmlns=\"http://www.w3.org/2000/svg\" height=\"24px\"viewBox=\"0 0 24 24\"\n",
              "     width=\"24px\">\n",
              "    <g>\n",
              "        <path d=\"M19 3H5c-1.1 0-2 .9-2 2v14c0 1.1.9 2 2 2h14c1.1 0 2-.9 2-2V5c0-1.1-.9-2-2-2zM9 17H7v-7h2v7zm4 0h-2V7h2v10zm4 0h-2v-4h2v4z\"/>\n",
              "    </g>\n",
              "</svg>\n",
              "  </button>\n",
              "\n",
              "<style>\n",
              "  .colab-df-quickchart {\n",
              "      --bg-color: #E8F0FE;\n",
              "      --fill-color: #1967D2;\n",
              "      --hover-bg-color: #E2EBFA;\n",
              "      --hover-fill-color: #174EA6;\n",
              "      --disabled-fill-color: #AAA;\n",
              "      --disabled-bg-color: #DDD;\n",
              "  }\n",
              "\n",
              "  [theme=dark] .colab-df-quickchart {\n",
              "      --bg-color: #3B4455;\n",
              "      --fill-color: #D2E3FC;\n",
              "      --hover-bg-color: #434B5C;\n",
              "      --hover-fill-color: #FFFFFF;\n",
              "      --disabled-bg-color: #3B4455;\n",
              "      --disabled-fill-color: #666;\n",
              "  }\n",
              "\n",
              "  .colab-df-quickchart {\n",
              "    background-color: var(--bg-color);\n",
              "    border: none;\n",
              "    border-radius: 50%;\n",
              "    cursor: pointer;\n",
              "    display: none;\n",
              "    fill: var(--fill-color);\n",
              "    height: 32px;\n",
              "    padding: 0;\n",
              "    width: 32px;\n",
              "  }\n",
              "\n",
              "  .colab-df-quickchart:hover {\n",
              "    background-color: var(--hover-bg-color);\n",
              "    box-shadow: 0 1px 2px rgba(60, 64, 67, 0.3), 0 1px 3px 1px rgba(60, 64, 67, 0.15);\n",
              "    fill: var(--button-hover-fill-color);\n",
              "  }\n",
              "\n",
              "  .colab-df-quickchart-complete:disabled,\n",
              "  .colab-df-quickchart-complete:disabled:hover {\n",
              "    background-color: var(--disabled-bg-color);\n",
              "    fill: var(--disabled-fill-color);\n",
              "    box-shadow: none;\n",
              "  }\n",
              "\n",
              "  .colab-df-spinner {\n",
              "    border: 2px solid var(--fill-color);\n",
              "    border-color: transparent;\n",
              "    border-bottom-color: var(--fill-color);\n",
              "    animation:\n",
              "      spin 1s steps(1) infinite;\n",
              "  }\n",
              "\n",
              "  @keyframes spin {\n",
              "    0% {\n",
              "      border-color: transparent;\n",
              "      border-bottom-color: var(--fill-color);\n",
              "      border-left-color: var(--fill-color);\n",
              "    }\n",
              "    20% {\n",
              "      border-color: transparent;\n",
              "      border-left-color: var(--fill-color);\n",
              "      border-top-color: var(--fill-color);\n",
              "    }\n",
              "    30% {\n",
              "      border-color: transparent;\n",
              "      border-left-color: var(--fill-color);\n",
              "      border-top-color: var(--fill-color);\n",
              "      border-right-color: var(--fill-color);\n",
              "    }\n",
              "    40% {\n",
              "      border-color: transparent;\n",
              "      border-right-color: var(--fill-color);\n",
              "      border-top-color: var(--fill-color);\n",
              "    }\n",
              "    60% {\n",
              "      border-color: transparent;\n",
              "      border-right-color: var(--fill-color);\n",
              "    }\n",
              "    80% {\n",
              "      border-color: transparent;\n",
              "      border-right-color: var(--fill-color);\n",
              "      border-bottom-color: var(--fill-color);\n",
              "    }\n",
              "    90% {\n",
              "      border-color: transparent;\n",
              "      border-bottom-color: var(--fill-color);\n",
              "    }\n",
              "  }\n",
              "</style>\n",
              "\n",
              "  <script>\n",
              "    async function quickchart(key) {\n",
              "      const quickchartButtonEl =\n",
              "        document.querySelector('#' + key + ' button');\n",
              "      quickchartButtonEl.disabled = true;  // To prevent multiple clicks.\n",
              "      quickchartButtonEl.classList.add('colab-df-spinner');\n",
              "      try {\n",
              "        const charts = await google.colab.kernel.invokeFunction(\n",
              "            'suggestCharts', [key], {});\n",
              "      } catch (error) {\n",
              "        console.error('Error during call to suggestCharts:', error);\n",
              "      }\n",
              "      quickchartButtonEl.classList.remove('colab-df-spinner');\n",
              "      quickchartButtonEl.classList.add('colab-df-quickchart-complete');\n",
              "    }\n",
              "    (() => {\n",
              "      let quickchartButtonEl =\n",
              "        document.querySelector('#df-3bae856b-3a40-4bc9-a12b-501170df7dc6 button');\n",
              "      quickchartButtonEl.style.display =\n",
              "        google.colab.kernel.accessAllowed ? 'block' : 'none';\n",
              "    })();\n",
              "  </script>\n",
              "</div>\n",
              "    </div>\n",
              "  </div>\n"
            ],
            "application/vnd.google.colaboratory.intrinsic+json": {
              "type": "dataframe",
              "variable_name": "sorted_state",
              "summary": "{\n  \"name\": \"sorted_state\",\n  \"rows\": 5,\n  \"fields\": [\n    {\n      \"column\": \"customer_state\",\n      \"properties\": {\n        \"dtype\": \"string\",\n        \"num_unique_values\": 5,\n        \"samples\": [\n          \"RJ\",\n          \"PR\",\n          \"MG\"\n        ],\n        \"semantic_type\": \"\",\n        \"description\": \"\"\n      }\n    },\n    {\n      \"column\": \"customer_id\",\n      \"properties\": {\n        \"dtype\": \"number\",\n        \"std\": 14681,\n        \"min\": 4920,\n        \"max\": 40436,\n        \"num_unique_values\": 5,\n        \"samples\": [\n          12349,\n          4920,\n          11350\n        ],\n        \"semantic_type\": \"\",\n        \"description\": \"\"\n      }\n    }\n  ]\n}"
            }
          },
          "metadata": {},
          "execution_count": 67
        }
      ]
    },
    {
      "cell_type": "markdown",
      "source": [
        "Pivot table untuk revenue dan quantity berdasarkan kategori produk."
      ],
      "metadata": {
        "id": "ThWw7I3Pmpr3"
      }
    },
    {
      "cell_type": "code",
      "source": [
        "revenue_bycategory_df = gabungan1_df.groupby(by='product_category_name_english').agg({\n",
        "    'payment_value':['sum','min','max','mean'],\n",
        "    'order_item_id':'sum'\n",
        "})\n",
        "\n",
        "revenue_bycategory_df.rename(columns={\n",
        "    'payment_value':'revenue',\n",
        "    'order_item_id':'quantity'\n",
        "}, inplace=True)\n",
        "revenue_bycategory_df.sort_values(by=[('revenue','mean')], ascending=False).head()"
      ],
      "metadata": {
        "colab": {
          "base_uri": "https://localhost:8080/",
          "height": 269
        },
        "id": "cSChh60ExO9I",
        "outputId": "9f5af759-a566-465d-e02a-11d7bbe68d16"
      },
      "execution_count": 68,
      "outputs": [
        {
          "output_type": "execute_result",
          "data": {
            "text/plain": [
              "                                         revenue                               \\\n",
              "                                             sum    min      max         mean   \n",
              "product_category_name_english                                                   \n",
              "computers                              231394.32  50.00  6922.21  1180.583265   \n",
              "small_appliances_home_oven_and_coffee   52526.66  18.06  2960.05   509.967573   \n",
              "home_appliances_2                      124298.64   5.56  2455.12   467.288120   \n",
              "agro_industry_and_commerce              78844.99   2.35  6081.54   365.023102   \n",
              "small_appliances                       206909.75   0.27  4950.34   314.452508   \n",
              "\n",
              "                                      quantity  \n",
              "                                           sum  \n",
              "product_category_name_english                   \n",
              "computers                                196.0  \n",
              "small_appliances_home_oven_and_coffee    103.0  \n",
              "home_appliances_2                        266.0  \n",
              "agro_industry_and_commerce               216.0  \n",
              "small_appliances                         658.0  "
            ],
            "text/html": [
              "\n",
              "  <div id=\"df-d533dc6d-869a-4b78-a7d9-efb41ef71e29\" class=\"colab-df-container\">\n",
              "    <div>\n",
              "<style scoped>\n",
              "    .dataframe tbody tr th:only-of-type {\n",
              "        vertical-align: middle;\n",
              "    }\n",
              "\n",
              "    .dataframe tbody tr th {\n",
              "        vertical-align: top;\n",
              "    }\n",
              "\n",
              "    .dataframe thead tr th {\n",
              "        text-align: left;\n",
              "    }\n",
              "\n",
              "    .dataframe thead tr:last-of-type th {\n",
              "        text-align: right;\n",
              "    }\n",
              "</style>\n",
              "<table border=\"1\" class=\"dataframe\">\n",
              "  <thead>\n",
              "    <tr>\n",
              "      <th></th>\n",
              "      <th colspan=\"4\" halign=\"left\">revenue</th>\n",
              "      <th>quantity</th>\n",
              "    </tr>\n",
              "    <tr>\n",
              "      <th></th>\n",
              "      <th>sum</th>\n",
              "      <th>min</th>\n",
              "      <th>max</th>\n",
              "      <th>mean</th>\n",
              "      <th>sum</th>\n",
              "    </tr>\n",
              "    <tr>\n",
              "      <th>product_category_name_english</th>\n",
              "      <th></th>\n",
              "      <th></th>\n",
              "      <th></th>\n",
              "      <th></th>\n",
              "      <th></th>\n",
              "    </tr>\n",
              "  </thead>\n",
              "  <tbody>\n",
              "    <tr>\n",
              "      <th>computers</th>\n",
              "      <td>231394.32</td>\n",
              "      <td>50.00</td>\n",
              "      <td>6922.21</td>\n",
              "      <td>1180.583265</td>\n",
              "      <td>196.0</td>\n",
              "    </tr>\n",
              "    <tr>\n",
              "      <th>small_appliances_home_oven_and_coffee</th>\n",
              "      <td>52526.66</td>\n",
              "      <td>18.06</td>\n",
              "      <td>2960.05</td>\n",
              "      <td>509.967573</td>\n",
              "      <td>103.0</td>\n",
              "    </tr>\n",
              "    <tr>\n",
              "      <th>home_appliances_2</th>\n",
              "      <td>124298.64</td>\n",
              "      <td>5.56</td>\n",
              "      <td>2455.12</td>\n",
              "      <td>467.288120</td>\n",
              "      <td>266.0</td>\n",
              "    </tr>\n",
              "    <tr>\n",
              "      <th>agro_industry_and_commerce</th>\n",
              "      <td>78844.99</td>\n",
              "      <td>2.35</td>\n",
              "      <td>6081.54</td>\n",
              "      <td>365.023102</td>\n",
              "      <td>216.0</td>\n",
              "    </tr>\n",
              "    <tr>\n",
              "      <th>small_appliances</th>\n",
              "      <td>206909.75</td>\n",
              "      <td>0.27</td>\n",
              "      <td>4950.34</td>\n",
              "      <td>314.452508</td>\n",
              "      <td>658.0</td>\n",
              "    </tr>\n",
              "  </tbody>\n",
              "</table>\n",
              "</div>\n",
              "    <div class=\"colab-df-buttons\">\n",
              "\n",
              "  <div class=\"colab-df-container\">\n",
              "    <button class=\"colab-df-convert\" onclick=\"convertToInteractive('df-d533dc6d-869a-4b78-a7d9-efb41ef71e29')\"\n",
              "            title=\"Convert this dataframe to an interactive table.\"\n",
              "            style=\"display:none;\">\n",
              "\n",
              "  <svg xmlns=\"http://www.w3.org/2000/svg\" height=\"24px\" viewBox=\"0 -960 960 960\">\n",
              "    <path d=\"M120-120v-720h720v720H120Zm60-500h600v-160H180v160Zm220 220h160v-160H400v160Zm0 220h160v-160H400v160ZM180-400h160v-160H180v160Zm440 0h160v-160H620v160ZM180-180h160v-160H180v160Zm440 0h160v-160H620v160Z\"/>\n",
              "  </svg>\n",
              "    </button>\n",
              "\n",
              "  <style>\n",
              "    .colab-df-container {\n",
              "      display:flex;\n",
              "      gap: 12px;\n",
              "    }\n",
              "\n",
              "    .colab-df-convert {\n",
              "      background-color: #E8F0FE;\n",
              "      border: none;\n",
              "      border-radius: 50%;\n",
              "      cursor: pointer;\n",
              "      display: none;\n",
              "      fill: #1967D2;\n",
              "      height: 32px;\n",
              "      padding: 0 0 0 0;\n",
              "      width: 32px;\n",
              "    }\n",
              "\n",
              "    .colab-df-convert:hover {\n",
              "      background-color: #E2EBFA;\n",
              "      box-shadow: 0px 1px 2px rgba(60, 64, 67, 0.3), 0px 1px 3px 1px rgba(60, 64, 67, 0.15);\n",
              "      fill: #174EA6;\n",
              "    }\n",
              "\n",
              "    .colab-df-buttons div {\n",
              "      margin-bottom: 4px;\n",
              "    }\n",
              "\n",
              "    [theme=dark] .colab-df-convert {\n",
              "      background-color: #3B4455;\n",
              "      fill: #D2E3FC;\n",
              "    }\n",
              "\n",
              "    [theme=dark] .colab-df-convert:hover {\n",
              "      background-color: #434B5C;\n",
              "      box-shadow: 0px 1px 3px 1px rgba(0, 0, 0, 0.15);\n",
              "      filter: drop-shadow(0px 1px 2px rgba(0, 0, 0, 0.3));\n",
              "      fill: #FFFFFF;\n",
              "    }\n",
              "  </style>\n",
              "\n",
              "    <script>\n",
              "      const buttonEl =\n",
              "        document.querySelector('#df-d533dc6d-869a-4b78-a7d9-efb41ef71e29 button.colab-df-convert');\n",
              "      buttonEl.style.display =\n",
              "        google.colab.kernel.accessAllowed ? 'block' : 'none';\n",
              "\n",
              "      async function convertToInteractive(key) {\n",
              "        const element = document.querySelector('#df-d533dc6d-869a-4b78-a7d9-efb41ef71e29');\n",
              "        const dataTable =\n",
              "          await google.colab.kernel.invokeFunction('convertToInteractive',\n",
              "                                                    [key], {});\n",
              "        if (!dataTable) return;\n",
              "\n",
              "        const docLinkHtml = 'Like what you see? Visit the ' +\n",
              "          '<a target=\"_blank\" href=https://colab.research.google.com/notebooks/data_table.ipynb>data table notebook</a>'\n",
              "          + ' to learn more about interactive tables.';\n",
              "        element.innerHTML = '';\n",
              "        dataTable['output_type'] = 'display_data';\n",
              "        await google.colab.output.renderOutput(dataTable, element);\n",
              "        const docLink = document.createElement('div');\n",
              "        docLink.innerHTML = docLinkHtml;\n",
              "        element.appendChild(docLink);\n",
              "      }\n",
              "    </script>\n",
              "  </div>\n",
              "\n",
              "\n",
              "<div id=\"df-973c123f-525d-4669-aa20-00e640dbc3f9\">\n",
              "  <button class=\"colab-df-quickchart\" onclick=\"quickchart('df-973c123f-525d-4669-aa20-00e640dbc3f9')\"\n",
              "            title=\"Suggest charts\"\n",
              "            style=\"display:none;\">\n",
              "\n",
              "<svg xmlns=\"http://www.w3.org/2000/svg\" height=\"24px\"viewBox=\"0 0 24 24\"\n",
              "     width=\"24px\">\n",
              "    <g>\n",
              "        <path d=\"M19 3H5c-1.1 0-2 .9-2 2v14c0 1.1.9 2 2 2h14c1.1 0 2-.9 2-2V5c0-1.1-.9-2-2-2zM9 17H7v-7h2v7zm4 0h-2V7h2v10zm4 0h-2v-4h2v4z\"/>\n",
              "    </g>\n",
              "</svg>\n",
              "  </button>\n",
              "\n",
              "<style>\n",
              "  .colab-df-quickchart {\n",
              "      --bg-color: #E8F0FE;\n",
              "      --fill-color: #1967D2;\n",
              "      --hover-bg-color: #E2EBFA;\n",
              "      --hover-fill-color: #174EA6;\n",
              "      --disabled-fill-color: #AAA;\n",
              "      --disabled-bg-color: #DDD;\n",
              "  }\n",
              "\n",
              "  [theme=dark] .colab-df-quickchart {\n",
              "      --bg-color: #3B4455;\n",
              "      --fill-color: #D2E3FC;\n",
              "      --hover-bg-color: #434B5C;\n",
              "      --hover-fill-color: #FFFFFF;\n",
              "      --disabled-bg-color: #3B4455;\n",
              "      --disabled-fill-color: #666;\n",
              "  }\n",
              "\n",
              "  .colab-df-quickchart {\n",
              "    background-color: var(--bg-color);\n",
              "    border: none;\n",
              "    border-radius: 50%;\n",
              "    cursor: pointer;\n",
              "    display: none;\n",
              "    fill: var(--fill-color);\n",
              "    height: 32px;\n",
              "    padding: 0;\n",
              "    width: 32px;\n",
              "  }\n",
              "\n",
              "  .colab-df-quickchart:hover {\n",
              "    background-color: var(--hover-bg-color);\n",
              "    box-shadow: 0 1px 2px rgba(60, 64, 67, 0.3), 0 1px 3px 1px rgba(60, 64, 67, 0.15);\n",
              "    fill: var(--button-hover-fill-color);\n",
              "  }\n",
              "\n",
              "  .colab-df-quickchart-complete:disabled,\n",
              "  .colab-df-quickchart-complete:disabled:hover {\n",
              "    background-color: var(--disabled-bg-color);\n",
              "    fill: var(--disabled-fill-color);\n",
              "    box-shadow: none;\n",
              "  }\n",
              "\n",
              "  .colab-df-spinner {\n",
              "    border: 2px solid var(--fill-color);\n",
              "    border-color: transparent;\n",
              "    border-bottom-color: var(--fill-color);\n",
              "    animation:\n",
              "      spin 1s steps(1) infinite;\n",
              "  }\n",
              "\n",
              "  @keyframes spin {\n",
              "    0% {\n",
              "      border-color: transparent;\n",
              "      border-bottom-color: var(--fill-color);\n",
              "      border-left-color: var(--fill-color);\n",
              "    }\n",
              "    20% {\n",
              "      border-color: transparent;\n",
              "      border-left-color: var(--fill-color);\n",
              "      border-top-color: var(--fill-color);\n",
              "    }\n",
              "    30% {\n",
              "      border-color: transparent;\n",
              "      border-left-color: var(--fill-color);\n",
              "      border-top-color: var(--fill-color);\n",
              "      border-right-color: var(--fill-color);\n",
              "    }\n",
              "    40% {\n",
              "      border-color: transparent;\n",
              "      border-right-color: var(--fill-color);\n",
              "      border-top-color: var(--fill-color);\n",
              "    }\n",
              "    60% {\n",
              "      border-color: transparent;\n",
              "      border-right-color: var(--fill-color);\n",
              "    }\n",
              "    80% {\n",
              "      border-color: transparent;\n",
              "      border-right-color: var(--fill-color);\n",
              "      border-bottom-color: var(--fill-color);\n",
              "    }\n",
              "    90% {\n",
              "      border-color: transparent;\n",
              "      border-bottom-color: var(--fill-color);\n",
              "    }\n",
              "  }\n",
              "</style>\n",
              "\n",
              "  <script>\n",
              "    async function quickchart(key) {\n",
              "      const quickchartButtonEl =\n",
              "        document.querySelector('#' + key + ' button');\n",
              "      quickchartButtonEl.disabled = true;  // To prevent multiple clicks.\n",
              "      quickchartButtonEl.classList.add('colab-df-spinner');\n",
              "      try {\n",
              "        const charts = await google.colab.kernel.invokeFunction(\n",
              "            'suggestCharts', [key], {});\n",
              "      } catch (error) {\n",
              "        console.error('Error during call to suggestCharts:', error);\n",
              "      }\n",
              "      quickchartButtonEl.classList.remove('colab-df-spinner');\n",
              "      quickchartButtonEl.classList.add('colab-df-quickchart-complete');\n",
              "    }\n",
              "    (() => {\n",
              "      let quickchartButtonEl =\n",
              "        document.querySelector('#df-973c123f-525d-4669-aa20-00e640dbc3f9 button');\n",
              "      quickchartButtonEl.style.display =\n",
              "        google.colab.kernel.accessAllowed ? 'block' : 'none';\n",
              "    })();\n",
              "  </script>\n",
              "</div>\n",
              "    </div>\n",
              "  </div>\n"
            ],
            "application/vnd.google.colaboratory.intrinsic+json": {
              "type": "dataframe",
              "summary": "{\n  \"name\": \"revenue_bycategory_df\",\n  \"rows\": 5,\n  \"fields\": [\n    {\n      \"column\": [\n        \"product_category_name_english\",\n        \"\"\n      ],\n      \"properties\": {\n        \"dtype\": \"string\",\n        \"num_unique_values\": 5,\n        \"samples\": [\n          \"small_appliances_home_oven_and_coffee\",\n          \"small_appliances\",\n          \"home_appliances_2\"\n        ],\n        \"semantic_type\": \"\",\n        \"description\": \"\"\n      }\n    },\n    {\n      \"column\": [\n        \"revenue\",\n        \"sum\"\n      ],\n      \"properties\": {\n        \"dtype\": \"number\",\n        \"std\": 78199.46910073668,\n        \"min\": 52526.66,\n        \"max\": 231394.32,\n        \"num_unique_values\": 5,\n        \"samples\": [\n          52526.66,\n          206909.75,\n          124298.64\n        ],\n        \"semantic_type\": \"\",\n        \"description\": \"\"\n      }\n    },\n    {\n      \"column\": [\n        \"revenue\",\n        \"min\"\n      ],\n      \"properties\": {\n        \"dtype\": \"number\",\n        \"std\": 20.616529048314607,\n        \"min\": 0.27,\n        \"max\": 50.0,\n        \"num_unique_values\": 5,\n        \"samples\": [\n          18.06,\n          0.27,\n          5.56\n        ],\n        \"semantic_type\": \"\",\n        \"description\": \"\"\n      }\n    },\n    {\n      \"column\": [\n        \"revenue\",\n        \"max\"\n      ],\n      \"properties\": {\n        \"dtype\": \"number\",\n        \"std\": 1934.7502292725023,\n        \"min\": 2455.12,\n        \"max\": 6922.21,\n        \"num_unique_values\": 5,\n        \"samples\": [\n          2960.05,\n          4950.34,\n          2455.12\n        ],\n        \"semantic_type\": \"\",\n        \"description\": \"\"\n      }\n    },\n    {\n      \"column\": [\n        \"revenue\",\n        \"mean\"\n      ],\n      \"properties\": {\n        \"dtype\": \"number\",\n        \"std\": 351.5157933956289,\n        \"min\": 314.4525075987842,\n        \"max\": 1180.5832653061225,\n        \"num_unique_values\": 5,\n        \"samples\": [\n          509.967572815534,\n          314.4525075987842,\n          467.28812030075187\n        ],\n        \"semantic_type\": \"\",\n        \"description\": \"\"\n      }\n    },\n    {\n      \"column\": [\n        \"quantity\",\n        \"sum\"\n      ],\n      \"properties\": {\n        \"dtype\": \"number\",\n        \"std\": 215.2073418821951,\n        \"min\": 103.0,\n        \"max\": 658.0,\n        \"num_unique_values\": 5,\n        \"samples\": [\n          103.0,\n          658.0,\n          266.0\n        ],\n        \"semantic_type\": \"\",\n        \"description\": \"\"\n      }\n    }\n  ]\n}"
            }
          },
          "metadata": {},
          "execution_count": 68
        }
      ]
    },
    {
      "cell_type": "markdown",
      "source": [
        "Pivot table untuk price pada setiap kategori produk. Pivot table ini menampilkan lima kategori produk dengan rata-rata harga tertinggi."
      ],
      "metadata": {
        "id": "r9J-3SkSz17J"
      }
    },
    {
      "cell_type": "code",
      "source": [
        "price_bycategory_df = gabungan1_df.groupby(by='product_category_name_english').agg({\n",
        "    'price':['min','max','mean']\n",
        "})\n",
        "\n",
        "price_bycategory_df.sort_values(by=[('price','mean')], ascending=False).head()"
      ],
      "metadata": {
        "colab": {
          "base_uri": "https://localhost:8080/",
          "height": 269
        },
        "id": "Xi84dbOhz722",
        "outputId": "32bd819e-9e7d-42a8-c677-694c6768dbd9"
      },
      "execution_count": 69,
      "outputs": [
        {
          "output_type": "execute_result",
          "data": {
            "text/plain": [
              "                                       price                     \n",
              "                                         min     max         mean\n",
              "product_category_name_english                                    \n",
              "computers                              34.50  6729.0  1143.942143\n",
              "small_appliances_home_oven_and_coffee  10.19  2899.0   484.770874\n",
              "home_appliances_2                      13.90  2350.0   463.862782\n",
              "agro_industry_and_commerce             10.50  2990.0   329.533148\n",
              "small_appliances                        6.50  4799.0   294.984909"
            ],
            "text/html": [
              "\n",
              "  <div id=\"df-d245a3f7-2394-497d-94bd-8a9f28871e72\" class=\"colab-df-container\">\n",
              "    <div>\n",
              "<style scoped>\n",
              "    .dataframe tbody tr th:only-of-type {\n",
              "        vertical-align: middle;\n",
              "    }\n",
              "\n",
              "    .dataframe tbody tr th {\n",
              "        vertical-align: top;\n",
              "    }\n",
              "\n",
              "    .dataframe thead tr th {\n",
              "        text-align: left;\n",
              "    }\n",
              "\n",
              "    .dataframe thead tr:last-of-type th {\n",
              "        text-align: right;\n",
              "    }\n",
              "</style>\n",
              "<table border=\"1\" class=\"dataframe\">\n",
              "  <thead>\n",
              "    <tr>\n",
              "      <th></th>\n",
              "      <th colspan=\"3\" halign=\"left\">price</th>\n",
              "    </tr>\n",
              "    <tr>\n",
              "      <th></th>\n",
              "      <th>min</th>\n",
              "      <th>max</th>\n",
              "      <th>mean</th>\n",
              "    </tr>\n",
              "    <tr>\n",
              "      <th>product_category_name_english</th>\n",
              "      <th></th>\n",
              "      <th></th>\n",
              "      <th></th>\n",
              "    </tr>\n",
              "  </thead>\n",
              "  <tbody>\n",
              "    <tr>\n",
              "      <th>computers</th>\n",
              "      <td>34.50</td>\n",
              "      <td>6729.0</td>\n",
              "      <td>1143.942143</td>\n",
              "    </tr>\n",
              "    <tr>\n",
              "      <th>small_appliances_home_oven_and_coffee</th>\n",
              "      <td>10.19</td>\n",
              "      <td>2899.0</td>\n",
              "      <td>484.770874</td>\n",
              "    </tr>\n",
              "    <tr>\n",
              "      <th>home_appliances_2</th>\n",
              "      <td>13.90</td>\n",
              "      <td>2350.0</td>\n",
              "      <td>463.862782</td>\n",
              "    </tr>\n",
              "    <tr>\n",
              "      <th>agro_industry_and_commerce</th>\n",
              "      <td>10.50</td>\n",
              "      <td>2990.0</td>\n",
              "      <td>329.533148</td>\n",
              "    </tr>\n",
              "    <tr>\n",
              "      <th>small_appliances</th>\n",
              "      <td>6.50</td>\n",
              "      <td>4799.0</td>\n",
              "      <td>294.984909</td>\n",
              "    </tr>\n",
              "  </tbody>\n",
              "</table>\n",
              "</div>\n",
              "    <div class=\"colab-df-buttons\">\n",
              "\n",
              "  <div class=\"colab-df-container\">\n",
              "    <button class=\"colab-df-convert\" onclick=\"convertToInteractive('df-d245a3f7-2394-497d-94bd-8a9f28871e72')\"\n",
              "            title=\"Convert this dataframe to an interactive table.\"\n",
              "            style=\"display:none;\">\n",
              "\n",
              "  <svg xmlns=\"http://www.w3.org/2000/svg\" height=\"24px\" viewBox=\"0 -960 960 960\">\n",
              "    <path d=\"M120-120v-720h720v720H120Zm60-500h600v-160H180v160Zm220 220h160v-160H400v160Zm0 220h160v-160H400v160ZM180-400h160v-160H180v160Zm440 0h160v-160H620v160ZM180-180h160v-160H180v160Zm440 0h160v-160H620v160Z\"/>\n",
              "  </svg>\n",
              "    </button>\n",
              "\n",
              "  <style>\n",
              "    .colab-df-container {\n",
              "      display:flex;\n",
              "      gap: 12px;\n",
              "    }\n",
              "\n",
              "    .colab-df-convert {\n",
              "      background-color: #E8F0FE;\n",
              "      border: none;\n",
              "      border-radius: 50%;\n",
              "      cursor: pointer;\n",
              "      display: none;\n",
              "      fill: #1967D2;\n",
              "      height: 32px;\n",
              "      padding: 0 0 0 0;\n",
              "      width: 32px;\n",
              "    }\n",
              "\n",
              "    .colab-df-convert:hover {\n",
              "      background-color: #E2EBFA;\n",
              "      box-shadow: 0px 1px 2px rgba(60, 64, 67, 0.3), 0px 1px 3px 1px rgba(60, 64, 67, 0.15);\n",
              "      fill: #174EA6;\n",
              "    }\n",
              "\n",
              "    .colab-df-buttons div {\n",
              "      margin-bottom: 4px;\n",
              "    }\n",
              "\n",
              "    [theme=dark] .colab-df-convert {\n",
              "      background-color: #3B4455;\n",
              "      fill: #D2E3FC;\n",
              "    }\n",
              "\n",
              "    [theme=dark] .colab-df-convert:hover {\n",
              "      background-color: #434B5C;\n",
              "      box-shadow: 0px 1px 3px 1px rgba(0, 0, 0, 0.15);\n",
              "      filter: drop-shadow(0px 1px 2px rgba(0, 0, 0, 0.3));\n",
              "      fill: #FFFFFF;\n",
              "    }\n",
              "  </style>\n",
              "\n",
              "    <script>\n",
              "      const buttonEl =\n",
              "        document.querySelector('#df-d245a3f7-2394-497d-94bd-8a9f28871e72 button.colab-df-convert');\n",
              "      buttonEl.style.display =\n",
              "        google.colab.kernel.accessAllowed ? 'block' : 'none';\n",
              "\n",
              "      async function convertToInteractive(key) {\n",
              "        const element = document.querySelector('#df-d245a3f7-2394-497d-94bd-8a9f28871e72');\n",
              "        const dataTable =\n",
              "          await google.colab.kernel.invokeFunction('convertToInteractive',\n",
              "                                                    [key], {});\n",
              "        if (!dataTable) return;\n",
              "\n",
              "        const docLinkHtml = 'Like what you see? Visit the ' +\n",
              "          '<a target=\"_blank\" href=https://colab.research.google.com/notebooks/data_table.ipynb>data table notebook</a>'\n",
              "          + ' to learn more about interactive tables.';\n",
              "        element.innerHTML = '';\n",
              "        dataTable['output_type'] = 'display_data';\n",
              "        await google.colab.output.renderOutput(dataTable, element);\n",
              "        const docLink = document.createElement('div');\n",
              "        docLink.innerHTML = docLinkHtml;\n",
              "        element.appendChild(docLink);\n",
              "      }\n",
              "    </script>\n",
              "  </div>\n",
              "\n",
              "\n",
              "<div id=\"df-c3af7f3f-b4c0-452e-a829-2ca5006f6eb0\">\n",
              "  <button class=\"colab-df-quickchart\" onclick=\"quickchart('df-c3af7f3f-b4c0-452e-a829-2ca5006f6eb0')\"\n",
              "            title=\"Suggest charts\"\n",
              "            style=\"display:none;\">\n",
              "\n",
              "<svg xmlns=\"http://www.w3.org/2000/svg\" height=\"24px\"viewBox=\"0 0 24 24\"\n",
              "     width=\"24px\">\n",
              "    <g>\n",
              "        <path d=\"M19 3H5c-1.1 0-2 .9-2 2v14c0 1.1.9 2 2 2h14c1.1 0 2-.9 2-2V5c0-1.1-.9-2-2-2zM9 17H7v-7h2v7zm4 0h-2V7h2v10zm4 0h-2v-4h2v4z\"/>\n",
              "    </g>\n",
              "</svg>\n",
              "  </button>\n",
              "\n",
              "<style>\n",
              "  .colab-df-quickchart {\n",
              "      --bg-color: #E8F0FE;\n",
              "      --fill-color: #1967D2;\n",
              "      --hover-bg-color: #E2EBFA;\n",
              "      --hover-fill-color: #174EA6;\n",
              "      --disabled-fill-color: #AAA;\n",
              "      --disabled-bg-color: #DDD;\n",
              "  }\n",
              "\n",
              "  [theme=dark] .colab-df-quickchart {\n",
              "      --bg-color: #3B4455;\n",
              "      --fill-color: #D2E3FC;\n",
              "      --hover-bg-color: #434B5C;\n",
              "      --hover-fill-color: #FFFFFF;\n",
              "      --disabled-bg-color: #3B4455;\n",
              "      --disabled-fill-color: #666;\n",
              "  }\n",
              "\n",
              "  .colab-df-quickchart {\n",
              "    background-color: var(--bg-color);\n",
              "    border: none;\n",
              "    border-radius: 50%;\n",
              "    cursor: pointer;\n",
              "    display: none;\n",
              "    fill: var(--fill-color);\n",
              "    height: 32px;\n",
              "    padding: 0;\n",
              "    width: 32px;\n",
              "  }\n",
              "\n",
              "  .colab-df-quickchart:hover {\n",
              "    background-color: var(--hover-bg-color);\n",
              "    box-shadow: 0 1px 2px rgba(60, 64, 67, 0.3), 0 1px 3px 1px rgba(60, 64, 67, 0.15);\n",
              "    fill: var(--button-hover-fill-color);\n",
              "  }\n",
              "\n",
              "  .colab-df-quickchart-complete:disabled,\n",
              "  .colab-df-quickchart-complete:disabled:hover {\n",
              "    background-color: var(--disabled-bg-color);\n",
              "    fill: var(--disabled-fill-color);\n",
              "    box-shadow: none;\n",
              "  }\n",
              "\n",
              "  .colab-df-spinner {\n",
              "    border: 2px solid var(--fill-color);\n",
              "    border-color: transparent;\n",
              "    border-bottom-color: var(--fill-color);\n",
              "    animation:\n",
              "      spin 1s steps(1) infinite;\n",
              "  }\n",
              "\n",
              "  @keyframes spin {\n",
              "    0% {\n",
              "      border-color: transparent;\n",
              "      border-bottom-color: var(--fill-color);\n",
              "      border-left-color: var(--fill-color);\n",
              "    }\n",
              "    20% {\n",
              "      border-color: transparent;\n",
              "      border-left-color: var(--fill-color);\n",
              "      border-top-color: var(--fill-color);\n",
              "    }\n",
              "    30% {\n",
              "      border-color: transparent;\n",
              "      border-left-color: var(--fill-color);\n",
              "      border-top-color: var(--fill-color);\n",
              "      border-right-color: var(--fill-color);\n",
              "    }\n",
              "    40% {\n",
              "      border-color: transparent;\n",
              "      border-right-color: var(--fill-color);\n",
              "      border-top-color: var(--fill-color);\n",
              "    }\n",
              "    60% {\n",
              "      border-color: transparent;\n",
              "      border-right-color: var(--fill-color);\n",
              "    }\n",
              "    80% {\n",
              "      border-color: transparent;\n",
              "      border-right-color: var(--fill-color);\n",
              "      border-bottom-color: var(--fill-color);\n",
              "    }\n",
              "    90% {\n",
              "      border-color: transparent;\n",
              "      border-bottom-color: var(--fill-color);\n",
              "    }\n",
              "  }\n",
              "</style>\n",
              "\n",
              "  <script>\n",
              "    async function quickchart(key) {\n",
              "      const quickchartButtonEl =\n",
              "        document.querySelector('#' + key + ' button');\n",
              "      quickchartButtonEl.disabled = true;  // To prevent multiple clicks.\n",
              "      quickchartButtonEl.classList.add('colab-df-spinner');\n",
              "      try {\n",
              "        const charts = await google.colab.kernel.invokeFunction(\n",
              "            'suggestCharts', [key], {});\n",
              "      } catch (error) {\n",
              "        console.error('Error during call to suggestCharts:', error);\n",
              "      }\n",
              "      quickchartButtonEl.classList.remove('colab-df-spinner');\n",
              "      quickchartButtonEl.classList.add('colab-df-quickchart-complete');\n",
              "    }\n",
              "    (() => {\n",
              "      let quickchartButtonEl =\n",
              "        document.querySelector('#df-c3af7f3f-b4c0-452e-a829-2ca5006f6eb0 button');\n",
              "      quickchartButtonEl.style.display =\n",
              "        google.colab.kernel.accessAllowed ? 'block' : 'none';\n",
              "    })();\n",
              "  </script>\n",
              "</div>\n",
              "    </div>\n",
              "  </div>\n"
            ],
            "application/vnd.google.colaboratory.intrinsic+json": {
              "type": "dataframe",
              "summary": "{\n  \"name\": \"price_bycategory_df\",\n  \"rows\": 5,\n  \"fields\": [\n    {\n      \"column\": [\n        \"product_category_name_english\",\n        \"\"\n      ],\n      \"properties\": {\n        \"dtype\": \"string\",\n        \"num_unique_values\": 5,\n        \"samples\": [\n          \"small_appliances_home_oven_and_coffee\",\n          \"small_appliances\",\n          \"home_appliances_2\"\n        ],\n        \"semantic_type\": \"\",\n        \"description\": \"\"\n      }\n    },\n    {\n      \"column\": [\n        \"price\",\n        \"min\"\n      ],\n      \"properties\": {\n        \"dtype\": \"number\",\n        \"std\": 11.147045348432023,\n        \"min\": 6.5,\n        \"max\": 34.5,\n        \"num_unique_values\": 5,\n        \"samples\": [\n          10.19,\n          6.5,\n          13.9\n        ],\n        \"semantic_type\": \"\",\n        \"description\": \"\"\n      }\n    },\n    {\n      \"column\": [\n        \"price\",\n        \"max\"\n      ],\n      \"properties\": {\n        \"dtype\": \"number\",\n        \"std\": 1804.8396881717777,\n        \"min\": 2350.0,\n        \"max\": 6729.0,\n        \"num_unique_values\": 5,\n        \"samples\": [\n          2899.0,\n          4799.0,\n          2350.0\n        ],\n        \"semantic_type\": \"\",\n        \"description\": \"\"\n      }\n    },\n    {\n      \"column\": [\n        \"price\",\n        \"mean\"\n      ],\n      \"properties\": {\n        \"dtype\": \"number\",\n        \"std\": 345.63835685955,\n        \"min\": 294.9849088145897,\n        \"max\": 1143.942142857143,\n        \"num_unique_values\": 5,\n        \"samples\": [\n          484.7708737864078,\n          294.9849088145897,\n          463.8627819548872\n        ],\n        \"semantic_type\": \"\",\n        \"description\": \"\"\n      }\n    }\n  ]\n}"
            }
          },
          "metadata": {},
          "execution_count": 69
        }
      ]
    },
    {
      "cell_type": "markdown",
      "source": [
        "Pivot table untuk menampilkan lima kota teratas dengan rata-rata revenue paling tinggi."
      ],
      "metadata": {
        "id": "1adPPtUs1SGI"
      }
    },
    {
      "cell_type": "code",
      "source": [
        "revenue_bycity_df = all_df.groupby('customer_city').agg({\n",
        "    'payment_value':['sum','min','max','mean']\n",
        "}).sort_values(by=[('payment_value','mean')], ascending=False).head()\n",
        "\n",
        "revenue_bycity_df.rename(columns={\n",
        "    'payment_value':'revenue'\n",
        "})"
      ],
      "metadata": {
        "colab": {
          "base_uri": "https://localhost:8080/",
          "height": 269
        },
        "id": "eZulxI481XUD",
        "outputId": "24c4b31b-cfc3-45ab-90a8-ed810e713844"
      },
      "execution_count": 70,
      "outputs": [
        {
          "output_type": "execute_result",
          "data": {
            "text/plain": [
              "                         revenue                           \n",
              "                             sum      min      max     mean\n",
              "customer_city                                              \n",
              "pianco                   2324.99  2324.99  2324.99  2324.99\n",
              "nova esperanca do piria  2252.66  2252.66  2252.66  2252.66\n",
              "engenheiro navarro       2106.55  2106.55  2106.55  2106.55\n",
              "mariental                1867.85  1867.85  1867.85  1867.85\n",
              "loreto                   1643.64  1643.64  1643.64  1643.64"
            ],
            "text/html": [
              "\n",
              "  <div id=\"df-109e53ee-ec88-47e9-937b-b7967510ebe4\" class=\"colab-df-container\">\n",
              "    <div>\n",
              "<style scoped>\n",
              "    .dataframe tbody tr th:only-of-type {\n",
              "        vertical-align: middle;\n",
              "    }\n",
              "\n",
              "    .dataframe tbody tr th {\n",
              "        vertical-align: top;\n",
              "    }\n",
              "\n",
              "    .dataframe thead tr th {\n",
              "        text-align: left;\n",
              "    }\n",
              "\n",
              "    .dataframe thead tr:last-of-type th {\n",
              "        text-align: right;\n",
              "    }\n",
              "</style>\n",
              "<table border=\"1\" class=\"dataframe\">\n",
              "  <thead>\n",
              "    <tr>\n",
              "      <th></th>\n",
              "      <th colspan=\"4\" halign=\"left\">revenue</th>\n",
              "    </tr>\n",
              "    <tr>\n",
              "      <th></th>\n",
              "      <th>sum</th>\n",
              "      <th>min</th>\n",
              "      <th>max</th>\n",
              "      <th>mean</th>\n",
              "    </tr>\n",
              "    <tr>\n",
              "      <th>customer_city</th>\n",
              "      <th></th>\n",
              "      <th></th>\n",
              "      <th></th>\n",
              "      <th></th>\n",
              "    </tr>\n",
              "  </thead>\n",
              "  <tbody>\n",
              "    <tr>\n",
              "      <th>pianco</th>\n",
              "      <td>2324.99</td>\n",
              "      <td>2324.99</td>\n",
              "      <td>2324.99</td>\n",
              "      <td>2324.99</td>\n",
              "    </tr>\n",
              "    <tr>\n",
              "      <th>nova esperanca do piria</th>\n",
              "      <td>2252.66</td>\n",
              "      <td>2252.66</td>\n",
              "      <td>2252.66</td>\n",
              "      <td>2252.66</td>\n",
              "    </tr>\n",
              "    <tr>\n",
              "      <th>engenheiro navarro</th>\n",
              "      <td>2106.55</td>\n",
              "      <td>2106.55</td>\n",
              "      <td>2106.55</td>\n",
              "      <td>2106.55</td>\n",
              "    </tr>\n",
              "    <tr>\n",
              "      <th>mariental</th>\n",
              "      <td>1867.85</td>\n",
              "      <td>1867.85</td>\n",
              "      <td>1867.85</td>\n",
              "      <td>1867.85</td>\n",
              "    </tr>\n",
              "    <tr>\n",
              "      <th>loreto</th>\n",
              "      <td>1643.64</td>\n",
              "      <td>1643.64</td>\n",
              "      <td>1643.64</td>\n",
              "      <td>1643.64</td>\n",
              "    </tr>\n",
              "  </tbody>\n",
              "</table>\n",
              "</div>\n",
              "    <div class=\"colab-df-buttons\">\n",
              "\n",
              "  <div class=\"colab-df-container\">\n",
              "    <button class=\"colab-df-convert\" onclick=\"convertToInteractive('df-109e53ee-ec88-47e9-937b-b7967510ebe4')\"\n",
              "            title=\"Convert this dataframe to an interactive table.\"\n",
              "            style=\"display:none;\">\n",
              "\n",
              "  <svg xmlns=\"http://www.w3.org/2000/svg\" height=\"24px\" viewBox=\"0 -960 960 960\">\n",
              "    <path d=\"M120-120v-720h720v720H120Zm60-500h600v-160H180v160Zm220 220h160v-160H400v160Zm0 220h160v-160H400v160ZM180-400h160v-160H180v160Zm440 0h160v-160H620v160ZM180-180h160v-160H180v160Zm440 0h160v-160H620v160Z\"/>\n",
              "  </svg>\n",
              "    </button>\n",
              "\n",
              "  <style>\n",
              "    .colab-df-container {\n",
              "      display:flex;\n",
              "      gap: 12px;\n",
              "    }\n",
              "\n",
              "    .colab-df-convert {\n",
              "      background-color: #E8F0FE;\n",
              "      border: none;\n",
              "      border-radius: 50%;\n",
              "      cursor: pointer;\n",
              "      display: none;\n",
              "      fill: #1967D2;\n",
              "      height: 32px;\n",
              "      padding: 0 0 0 0;\n",
              "      width: 32px;\n",
              "    }\n",
              "\n",
              "    .colab-df-convert:hover {\n",
              "      background-color: #E2EBFA;\n",
              "      box-shadow: 0px 1px 2px rgba(60, 64, 67, 0.3), 0px 1px 3px 1px rgba(60, 64, 67, 0.15);\n",
              "      fill: #174EA6;\n",
              "    }\n",
              "\n",
              "    .colab-df-buttons div {\n",
              "      margin-bottom: 4px;\n",
              "    }\n",
              "\n",
              "    [theme=dark] .colab-df-convert {\n",
              "      background-color: #3B4455;\n",
              "      fill: #D2E3FC;\n",
              "    }\n",
              "\n",
              "    [theme=dark] .colab-df-convert:hover {\n",
              "      background-color: #434B5C;\n",
              "      box-shadow: 0px 1px 3px 1px rgba(0, 0, 0, 0.15);\n",
              "      filter: drop-shadow(0px 1px 2px rgba(0, 0, 0, 0.3));\n",
              "      fill: #FFFFFF;\n",
              "    }\n",
              "  </style>\n",
              "\n",
              "    <script>\n",
              "      const buttonEl =\n",
              "        document.querySelector('#df-109e53ee-ec88-47e9-937b-b7967510ebe4 button.colab-df-convert');\n",
              "      buttonEl.style.display =\n",
              "        google.colab.kernel.accessAllowed ? 'block' : 'none';\n",
              "\n",
              "      async function convertToInteractive(key) {\n",
              "        const element = document.querySelector('#df-109e53ee-ec88-47e9-937b-b7967510ebe4');\n",
              "        const dataTable =\n",
              "          await google.colab.kernel.invokeFunction('convertToInteractive',\n",
              "                                                    [key], {});\n",
              "        if (!dataTable) return;\n",
              "\n",
              "        const docLinkHtml = 'Like what you see? Visit the ' +\n",
              "          '<a target=\"_blank\" href=https://colab.research.google.com/notebooks/data_table.ipynb>data table notebook</a>'\n",
              "          + ' to learn more about interactive tables.';\n",
              "        element.innerHTML = '';\n",
              "        dataTable['output_type'] = 'display_data';\n",
              "        await google.colab.output.renderOutput(dataTable, element);\n",
              "        const docLink = document.createElement('div');\n",
              "        docLink.innerHTML = docLinkHtml;\n",
              "        element.appendChild(docLink);\n",
              "      }\n",
              "    </script>\n",
              "  </div>\n",
              "\n",
              "\n",
              "<div id=\"df-eae283f4-44f5-4745-877a-f3d1e80507f6\">\n",
              "  <button class=\"colab-df-quickchart\" onclick=\"quickchart('df-eae283f4-44f5-4745-877a-f3d1e80507f6')\"\n",
              "            title=\"Suggest charts\"\n",
              "            style=\"display:none;\">\n",
              "\n",
              "<svg xmlns=\"http://www.w3.org/2000/svg\" height=\"24px\"viewBox=\"0 0 24 24\"\n",
              "     width=\"24px\">\n",
              "    <g>\n",
              "        <path d=\"M19 3H5c-1.1 0-2 .9-2 2v14c0 1.1.9 2 2 2h14c1.1 0 2-.9 2-2V5c0-1.1-.9-2-2-2zM9 17H7v-7h2v7zm4 0h-2V7h2v10zm4 0h-2v-4h2v4z\"/>\n",
              "    </g>\n",
              "</svg>\n",
              "  </button>\n",
              "\n",
              "<style>\n",
              "  .colab-df-quickchart {\n",
              "      --bg-color: #E8F0FE;\n",
              "      --fill-color: #1967D2;\n",
              "      --hover-bg-color: #E2EBFA;\n",
              "      --hover-fill-color: #174EA6;\n",
              "      --disabled-fill-color: #AAA;\n",
              "      --disabled-bg-color: #DDD;\n",
              "  }\n",
              "\n",
              "  [theme=dark] .colab-df-quickchart {\n",
              "      --bg-color: #3B4455;\n",
              "      --fill-color: #D2E3FC;\n",
              "      --hover-bg-color: #434B5C;\n",
              "      --hover-fill-color: #FFFFFF;\n",
              "      --disabled-bg-color: #3B4455;\n",
              "      --disabled-fill-color: #666;\n",
              "  }\n",
              "\n",
              "  .colab-df-quickchart {\n",
              "    background-color: var(--bg-color);\n",
              "    border: none;\n",
              "    border-radius: 50%;\n",
              "    cursor: pointer;\n",
              "    display: none;\n",
              "    fill: var(--fill-color);\n",
              "    height: 32px;\n",
              "    padding: 0;\n",
              "    width: 32px;\n",
              "  }\n",
              "\n",
              "  .colab-df-quickchart:hover {\n",
              "    background-color: var(--hover-bg-color);\n",
              "    box-shadow: 0 1px 2px rgba(60, 64, 67, 0.3), 0 1px 3px 1px rgba(60, 64, 67, 0.15);\n",
              "    fill: var(--button-hover-fill-color);\n",
              "  }\n",
              "\n",
              "  .colab-df-quickchart-complete:disabled,\n",
              "  .colab-df-quickchart-complete:disabled:hover {\n",
              "    background-color: var(--disabled-bg-color);\n",
              "    fill: var(--disabled-fill-color);\n",
              "    box-shadow: none;\n",
              "  }\n",
              "\n",
              "  .colab-df-spinner {\n",
              "    border: 2px solid var(--fill-color);\n",
              "    border-color: transparent;\n",
              "    border-bottom-color: var(--fill-color);\n",
              "    animation:\n",
              "      spin 1s steps(1) infinite;\n",
              "  }\n",
              "\n",
              "  @keyframes spin {\n",
              "    0% {\n",
              "      border-color: transparent;\n",
              "      border-bottom-color: var(--fill-color);\n",
              "      border-left-color: var(--fill-color);\n",
              "    }\n",
              "    20% {\n",
              "      border-color: transparent;\n",
              "      border-left-color: var(--fill-color);\n",
              "      border-top-color: var(--fill-color);\n",
              "    }\n",
              "    30% {\n",
              "      border-color: transparent;\n",
              "      border-left-color: var(--fill-color);\n",
              "      border-top-color: var(--fill-color);\n",
              "      border-right-color: var(--fill-color);\n",
              "    }\n",
              "    40% {\n",
              "      border-color: transparent;\n",
              "      border-right-color: var(--fill-color);\n",
              "      border-top-color: var(--fill-color);\n",
              "    }\n",
              "    60% {\n",
              "      border-color: transparent;\n",
              "      border-right-color: var(--fill-color);\n",
              "    }\n",
              "    80% {\n",
              "      border-color: transparent;\n",
              "      border-right-color: var(--fill-color);\n",
              "      border-bottom-color: var(--fill-color);\n",
              "    }\n",
              "    90% {\n",
              "      border-color: transparent;\n",
              "      border-bottom-color: var(--fill-color);\n",
              "    }\n",
              "  }\n",
              "</style>\n",
              "\n",
              "  <script>\n",
              "    async function quickchart(key) {\n",
              "      const quickchartButtonEl =\n",
              "        document.querySelector('#' + key + ' button');\n",
              "      quickchartButtonEl.disabled = true;  // To prevent multiple clicks.\n",
              "      quickchartButtonEl.classList.add('colab-df-spinner');\n",
              "      try {\n",
              "        const charts = await google.colab.kernel.invokeFunction(\n",
              "            'suggestCharts', [key], {});\n",
              "      } catch (error) {\n",
              "        console.error('Error during call to suggestCharts:', error);\n",
              "      }\n",
              "      quickchartButtonEl.classList.remove('colab-df-spinner');\n",
              "      quickchartButtonEl.classList.add('colab-df-quickchart-complete');\n",
              "    }\n",
              "    (() => {\n",
              "      let quickchartButtonEl =\n",
              "        document.querySelector('#df-eae283f4-44f5-4745-877a-f3d1e80507f6 button');\n",
              "      quickchartButtonEl.style.display =\n",
              "        google.colab.kernel.accessAllowed ? 'block' : 'none';\n",
              "    })();\n",
              "  </script>\n",
              "</div>\n",
              "    </div>\n",
              "  </div>\n"
            ],
            "application/vnd.google.colaboratory.intrinsic+json": {
              "type": "dataframe",
              "summary": "{\n  \"name\": \"})\",\n  \"rows\": 5,\n  \"fields\": [\n    {\n      \"column\": [\n        \"customer_city\",\n        \"\"\n      ],\n      \"properties\": {\n        \"dtype\": \"string\",\n        \"num_unique_values\": 5,\n        \"samples\": [\n          \"nova esperanca do piria\",\n          \"loreto\",\n          \"engenheiro navarro\"\n        ],\n        \"semantic_type\": \"\",\n        \"description\": \"\"\n      }\n    },\n    {\n      \"column\": [\n        \"revenue\",\n        \"sum\"\n      ],\n      \"properties\": {\n        \"dtype\": \"number\",\n        \"std\": 281.7825558298454,\n        \"min\": 1643.64,\n        \"max\": 2324.99,\n        \"num_unique_values\": 5,\n        \"samples\": [\n          2252.66,\n          1643.64,\n          2106.55\n        ],\n        \"semantic_type\": \"\",\n        \"description\": \"\"\n      }\n    },\n    {\n      \"column\": [\n        \"revenue\",\n        \"min\"\n      ],\n      \"properties\": {\n        \"dtype\": \"number\",\n        \"std\": 281.7825558298454,\n        \"min\": 1643.64,\n        \"max\": 2324.99,\n        \"num_unique_values\": 5,\n        \"samples\": [\n          2252.66,\n          1643.64,\n          2106.55\n        ],\n        \"semantic_type\": \"\",\n        \"description\": \"\"\n      }\n    },\n    {\n      \"column\": [\n        \"revenue\",\n        \"max\"\n      ],\n      \"properties\": {\n        \"dtype\": \"number\",\n        \"std\": 281.7825558298454,\n        \"min\": 1643.64,\n        \"max\": 2324.99,\n        \"num_unique_values\": 5,\n        \"samples\": [\n          2252.66,\n          1643.64,\n          2106.55\n        ],\n        \"semantic_type\": \"\",\n        \"description\": \"\"\n      }\n    },\n    {\n      \"column\": [\n        \"revenue\",\n        \"mean\"\n      ],\n      \"properties\": {\n        \"dtype\": \"number\",\n        \"std\": 281.7825558298454,\n        \"min\": 1643.64,\n        \"max\": 2324.99,\n        \"num_unique_values\": 5,\n        \"samples\": [\n          2252.66,\n          1643.64,\n          2106.55\n        ],\n        \"semantic_type\": \"\",\n        \"description\": \"\"\n      }\n    }\n  ]\n}"
            }
          },
          "metadata": {},
          "execution_count": 70
        }
      ]
    },
    {
      "cell_type": "markdown",
      "source": [
        "Pivot table untuk menampilkan lima state teratas beserta kategori produk berdasarkan revenue."
      ],
      "metadata": {
        "id": "qmpIfwFo3n15"
      }
    },
    {
      "cell_type": "code",
      "source": [
        "top_category_bystate_df = all_df.groupby(by=['customer_state','product_category_name_english']).agg({\n",
        "    'payment_value':'sum'\n",
        "})\n",
        "\n",
        "top_category_bystate_df.rename(columns={\n",
        "    'payment_value':'revenue'\n",
        "}, inplace=True)\n",
        "\n"
      ],
      "metadata": {
        "id": "xc2SdXn73puy"
      },
      "execution_count": 71,
      "outputs": []
    },
    {
      "cell_type": "code",
      "source": [
        "index = top_category_bystate_df.groupby('customer_state')['revenue'].idxmax()\n",
        "top_category_bystate_df.loc[index].sort_values(by='revenue', ascending=False).head()"
      ],
      "metadata": {
        "colab": {
          "base_uri": "https://localhost:8080/",
          "height": 237
        },
        "id": "j1cu8WPs8m2b",
        "outputId": "8b65a9c9-6a24-4112-910f-0459b7b2c12b"
      },
      "execution_count": 72,
      "outputs": [
        {
          "output_type": "execute_result",
          "data": {
            "text/plain": [
              "                                                revenue\n",
              "customer_state product_category_name_english           \n",
              "SP             bed_bath_table                 559957.34\n",
              "RJ             watches_gifts                  199359.27\n",
              "MG             health_beauty                  179378.47\n",
              "RS             bed_bath_table                  72797.61\n",
              "PR             sports_leisure                  67611.94"
            ],
            "text/html": [
              "\n",
              "  <div id=\"df-1492d9c0-4b77-473c-a977-fcc6b679096d\" class=\"colab-df-container\">\n",
              "    <div>\n",
              "<style scoped>\n",
              "    .dataframe tbody tr th:only-of-type {\n",
              "        vertical-align: middle;\n",
              "    }\n",
              "\n",
              "    .dataframe tbody tr th {\n",
              "        vertical-align: top;\n",
              "    }\n",
              "\n",
              "    .dataframe thead th {\n",
              "        text-align: right;\n",
              "    }\n",
              "</style>\n",
              "<table border=\"1\" class=\"dataframe\">\n",
              "  <thead>\n",
              "    <tr style=\"text-align: right;\">\n",
              "      <th></th>\n",
              "      <th></th>\n",
              "      <th>revenue</th>\n",
              "    </tr>\n",
              "    <tr>\n",
              "      <th>customer_state</th>\n",
              "      <th>product_category_name_english</th>\n",
              "      <th></th>\n",
              "    </tr>\n",
              "  </thead>\n",
              "  <tbody>\n",
              "    <tr>\n",
              "      <th>SP</th>\n",
              "      <th>bed_bath_table</th>\n",
              "      <td>559957.34</td>\n",
              "    </tr>\n",
              "    <tr>\n",
              "      <th>RJ</th>\n",
              "      <th>watches_gifts</th>\n",
              "      <td>199359.27</td>\n",
              "    </tr>\n",
              "    <tr>\n",
              "      <th>MG</th>\n",
              "      <th>health_beauty</th>\n",
              "      <td>179378.47</td>\n",
              "    </tr>\n",
              "    <tr>\n",
              "      <th>RS</th>\n",
              "      <th>bed_bath_table</th>\n",
              "      <td>72797.61</td>\n",
              "    </tr>\n",
              "    <tr>\n",
              "      <th>PR</th>\n",
              "      <th>sports_leisure</th>\n",
              "      <td>67611.94</td>\n",
              "    </tr>\n",
              "  </tbody>\n",
              "</table>\n",
              "</div>\n",
              "    <div class=\"colab-df-buttons\">\n",
              "\n",
              "  <div class=\"colab-df-container\">\n",
              "    <button class=\"colab-df-convert\" onclick=\"convertToInteractive('df-1492d9c0-4b77-473c-a977-fcc6b679096d')\"\n",
              "            title=\"Convert this dataframe to an interactive table.\"\n",
              "            style=\"display:none;\">\n",
              "\n",
              "  <svg xmlns=\"http://www.w3.org/2000/svg\" height=\"24px\" viewBox=\"0 -960 960 960\">\n",
              "    <path d=\"M120-120v-720h720v720H120Zm60-500h600v-160H180v160Zm220 220h160v-160H400v160Zm0 220h160v-160H400v160ZM180-400h160v-160H180v160Zm440 0h160v-160H620v160ZM180-180h160v-160H180v160Zm440 0h160v-160H620v160Z\"/>\n",
              "  </svg>\n",
              "    </button>\n",
              "\n",
              "  <style>\n",
              "    .colab-df-container {\n",
              "      display:flex;\n",
              "      gap: 12px;\n",
              "    }\n",
              "\n",
              "    .colab-df-convert {\n",
              "      background-color: #E8F0FE;\n",
              "      border: none;\n",
              "      border-radius: 50%;\n",
              "      cursor: pointer;\n",
              "      display: none;\n",
              "      fill: #1967D2;\n",
              "      height: 32px;\n",
              "      padding: 0 0 0 0;\n",
              "      width: 32px;\n",
              "    }\n",
              "\n",
              "    .colab-df-convert:hover {\n",
              "      background-color: #E2EBFA;\n",
              "      box-shadow: 0px 1px 2px rgba(60, 64, 67, 0.3), 0px 1px 3px 1px rgba(60, 64, 67, 0.15);\n",
              "      fill: #174EA6;\n",
              "    }\n",
              "\n",
              "    .colab-df-buttons div {\n",
              "      margin-bottom: 4px;\n",
              "    }\n",
              "\n",
              "    [theme=dark] .colab-df-convert {\n",
              "      background-color: #3B4455;\n",
              "      fill: #D2E3FC;\n",
              "    }\n",
              "\n",
              "    [theme=dark] .colab-df-convert:hover {\n",
              "      background-color: #434B5C;\n",
              "      box-shadow: 0px 1px 3px 1px rgba(0, 0, 0, 0.15);\n",
              "      filter: drop-shadow(0px 1px 2px rgba(0, 0, 0, 0.3));\n",
              "      fill: #FFFFFF;\n",
              "    }\n",
              "  </style>\n",
              "\n",
              "    <script>\n",
              "      const buttonEl =\n",
              "        document.querySelector('#df-1492d9c0-4b77-473c-a977-fcc6b679096d button.colab-df-convert');\n",
              "      buttonEl.style.display =\n",
              "        google.colab.kernel.accessAllowed ? 'block' : 'none';\n",
              "\n",
              "      async function convertToInteractive(key) {\n",
              "        const element = document.querySelector('#df-1492d9c0-4b77-473c-a977-fcc6b679096d');\n",
              "        const dataTable =\n",
              "          await google.colab.kernel.invokeFunction('convertToInteractive',\n",
              "                                                    [key], {});\n",
              "        if (!dataTable) return;\n",
              "\n",
              "        const docLinkHtml = 'Like what you see? Visit the ' +\n",
              "          '<a target=\"_blank\" href=https://colab.research.google.com/notebooks/data_table.ipynb>data table notebook</a>'\n",
              "          + ' to learn more about interactive tables.';\n",
              "        element.innerHTML = '';\n",
              "        dataTable['output_type'] = 'display_data';\n",
              "        await google.colab.output.renderOutput(dataTable, element);\n",
              "        const docLink = document.createElement('div');\n",
              "        docLink.innerHTML = docLinkHtml;\n",
              "        element.appendChild(docLink);\n",
              "      }\n",
              "    </script>\n",
              "  </div>\n",
              "\n",
              "\n",
              "<div id=\"df-1667bc64-9da4-4aa2-9409-680a5dc48402\">\n",
              "  <button class=\"colab-df-quickchart\" onclick=\"quickchart('df-1667bc64-9da4-4aa2-9409-680a5dc48402')\"\n",
              "            title=\"Suggest charts\"\n",
              "            style=\"display:none;\">\n",
              "\n",
              "<svg xmlns=\"http://www.w3.org/2000/svg\" height=\"24px\"viewBox=\"0 0 24 24\"\n",
              "     width=\"24px\">\n",
              "    <g>\n",
              "        <path d=\"M19 3H5c-1.1 0-2 .9-2 2v14c0 1.1.9 2 2 2h14c1.1 0 2-.9 2-2V5c0-1.1-.9-2-2-2zM9 17H7v-7h2v7zm4 0h-2V7h2v10zm4 0h-2v-4h2v4z\"/>\n",
              "    </g>\n",
              "</svg>\n",
              "  </button>\n",
              "\n",
              "<style>\n",
              "  .colab-df-quickchart {\n",
              "      --bg-color: #E8F0FE;\n",
              "      --fill-color: #1967D2;\n",
              "      --hover-bg-color: #E2EBFA;\n",
              "      --hover-fill-color: #174EA6;\n",
              "      --disabled-fill-color: #AAA;\n",
              "      --disabled-bg-color: #DDD;\n",
              "  }\n",
              "\n",
              "  [theme=dark] .colab-df-quickchart {\n",
              "      --bg-color: #3B4455;\n",
              "      --fill-color: #D2E3FC;\n",
              "      --hover-bg-color: #434B5C;\n",
              "      --hover-fill-color: #FFFFFF;\n",
              "      --disabled-bg-color: #3B4455;\n",
              "      --disabled-fill-color: #666;\n",
              "  }\n",
              "\n",
              "  .colab-df-quickchart {\n",
              "    background-color: var(--bg-color);\n",
              "    border: none;\n",
              "    border-radius: 50%;\n",
              "    cursor: pointer;\n",
              "    display: none;\n",
              "    fill: var(--fill-color);\n",
              "    height: 32px;\n",
              "    padding: 0;\n",
              "    width: 32px;\n",
              "  }\n",
              "\n",
              "  .colab-df-quickchart:hover {\n",
              "    background-color: var(--hover-bg-color);\n",
              "    box-shadow: 0 1px 2px rgba(60, 64, 67, 0.3), 0 1px 3px 1px rgba(60, 64, 67, 0.15);\n",
              "    fill: var(--button-hover-fill-color);\n",
              "  }\n",
              "\n",
              "  .colab-df-quickchart-complete:disabled,\n",
              "  .colab-df-quickchart-complete:disabled:hover {\n",
              "    background-color: var(--disabled-bg-color);\n",
              "    fill: var(--disabled-fill-color);\n",
              "    box-shadow: none;\n",
              "  }\n",
              "\n",
              "  .colab-df-spinner {\n",
              "    border: 2px solid var(--fill-color);\n",
              "    border-color: transparent;\n",
              "    border-bottom-color: var(--fill-color);\n",
              "    animation:\n",
              "      spin 1s steps(1) infinite;\n",
              "  }\n",
              "\n",
              "  @keyframes spin {\n",
              "    0% {\n",
              "      border-color: transparent;\n",
              "      border-bottom-color: var(--fill-color);\n",
              "      border-left-color: var(--fill-color);\n",
              "    }\n",
              "    20% {\n",
              "      border-color: transparent;\n",
              "      border-left-color: var(--fill-color);\n",
              "      border-top-color: var(--fill-color);\n",
              "    }\n",
              "    30% {\n",
              "      border-color: transparent;\n",
              "      border-left-color: var(--fill-color);\n",
              "      border-top-color: var(--fill-color);\n",
              "      border-right-color: var(--fill-color);\n",
              "    }\n",
              "    40% {\n",
              "      border-color: transparent;\n",
              "      border-right-color: var(--fill-color);\n",
              "      border-top-color: var(--fill-color);\n",
              "    }\n",
              "    60% {\n",
              "      border-color: transparent;\n",
              "      border-right-color: var(--fill-color);\n",
              "    }\n",
              "    80% {\n",
              "      border-color: transparent;\n",
              "      border-right-color: var(--fill-color);\n",
              "      border-bottom-color: var(--fill-color);\n",
              "    }\n",
              "    90% {\n",
              "      border-color: transparent;\n",
              "      border-bottom-color: var(--fill-color);\n",
              "    }\n",
              "  }\n",
              "</style>\n",
              "\n",
              "  <script>\n",
              "    async function quickchart(key) {\n",
              "      const quickchartButtonEl =\n",
              "        document.querySelector('#' + key + ' button');\n",
              "      quickchartButtonEl.disabled = true;  // To prevent multiple clicks.\n",
              "      quickchartButtonEl.classList.add('colab-df-spinner');\n",
              "      try {\n",
              "        const charts = await google.colab.kernel.invokeFunction(\n",
              "            'suggestCharts', [key], {});\n",
              "      } catch (error) {\n",
              "        console.error('Error during call to suggestCharts:', error);\n",
              "      }\n",
              "      quickchartButtonEl.classList.remove('colab-df-spinner');\n",
              "      quickchartButtonEl.classList.add('colab-df-quickchart-complete');\n",
              "    }\n",
              "    (() => {\n",
              "      let quickchartButtonEl =\n",
              "        document.querySelector('#df-1667bc64-9da4-4aa2-9409-680a5dc48402 button');\n",
              "      quickchartButtonEl.style.display =\n",
              "        google.colab.kernel.accessAllowed ? 'block' : 'none';\n",
              "    })();\n",
              "  </script>\n",
              "</div>\n",
              "    </div>\n",
              "  </div>\n"
            ],
            "application/vnd.google.colaboratory.intrinsic+json": {
              "type": "dataframe",
              "summary": "{\n  \"name\": \"top_category_bystate_df\",\n  \"rows\": 5,\n  \"fields\": [\n    {\n      \"column\": \"revenue\",\n      \"properties\": {\n        \"dtype\": \"number\",\n        \"std\": 201525.73198548224,\n        \"min\": 67611.94,\n        \"max\": 559957.34,\n        \"num_unique_values\": 5,\n        \"samples\": [\n          199359.27,\n          67611.94,\n          179378.47\n        ],\n        \"semantic_type\": \"\",\n        \"description\": \"\"\n      }\n    }\n  ]\n}"
            }
          },
          "metadata": {},
          "execution_count": 72
        }
      ]
    },
    {
      "cell_type": "markdown",
      "metadata": {
        "id": "MW7WF2kr8DC1"
      },
      "source": [
        "### Explore ..."
      ]
    },
    {
      "cell_type": "code",
      "execution_count": 72,
      "metadata": {
        "id": "e9CQCZjk8DC2"
      },
      "outputs": [],
      "source": []
    },
    {
      "cell_type": "markdown",
      "metadata": {
        "id": "zsyZjqak8DC2"
      },
      "source": [
        "## Visualization & Explanatory Analysis"
      ]
    },
    {
      "cell_type": "markdown",
      "metadata": {
        "id": "HZxOiQ6n8DC2"
      },
      "source": [
        "### Pertanyaan 1:"
      ]
    },
    {
      "cell_type": "markdown",
      "source": [
        "### Apa saja lima kota teratas dengan jumlah pelanggan paling banyak?"
      ],
      "metadata": {
        "id": "RrBhpTeMAxlO"
      }
    },
    {
      "cell_type": "code",
      "execution_count": 73,
      "metadata": {
        "id": "1swJUdAD8DC2",
        "colab": {
          "base_uri": "https://localhost:8080/",
          "height": 465
        },
        "outputId": "2d06af97-f565-4539-ca2e-97507506a367"
      },
      "outputs": [
        {
          "output_type": "display_data",
          "data": {
            "text/plain": [
              "<Figure size 1000x500 with 1 Axes>"
            ],
            "image/png": "[encoded data removed]"
          },
          "metadata": {}
        }
      ],
      "source": [
        "fig = plt.figure(figsize = (10,5))\n",
        "\n",
        "plt.bar(sorted_city['customer_city'], sorted_city['customer_id'])\n",
        "plt.xlabel(\"Nama Kota\")\n",
        "plt.ylabel(\"Jumlah Pelanggan\")\n",
        "plt.show()"
      ]
    },
    {
      "cell_type": "markdown",
      "metadata": {
        "id": "DgHI7CiU8DC2"
      },
      "source": [
        "### Pertanyaan 2:"
      ]
    },
    {
      "cell_type": "markdown",
      "source": [
        "### Apa saja lima state teratas dengan jumlah pelanggan terbanyak?"
      ],
      "metadata": {
        "id": "RJemr3T-Dn0n"
      }
    },
    {
      "cell_type": "code",
      "execution_count": 74,
      "metadata": {
        "id": "Go0lCsvO8DC2",
        "colab": {
          "base_uri": "https://localhost:8080/",
          "height": 449
        },
        "outputId": "ef93e029-cc26-4536-fb97-2cf8abed497f"
      },
      "outputs": [
        {
          "output_type": "display_data",
          "data": {
            "text/plain": [
              "<Figure size 640x480 with 1 Axes>"
            ],
            "image/png": "[encoded data removed]"
          },
          "metadata": {}
        }
      ],
      "source": [
        "plt.bar(sorted_state['customer_state'], sorted_state['customer_id'])\n",
        "plt.xlabel(\"Name State\")\n",
        "plt.ylabel(\"Jumlah Pelanggan\")\n",
        "plt.show()"
      ]
    },
    {
      "cell_type": "markdown",
      "source": [
        "## Pertanyaan 3:"
      ],
      "metadata": {
        "id": "dFpvja_xEOV1"
      }
    },
    {
      "cell_type": "markdown",
      "source": [
        "Kategori produk apa yang memiliki rata-rata pendapatan tertinggi?"
      ],
      "metadata": {
        "id": "DUhHRFcOEVfB"
      }
    },
    {
      "cell_type": "code",
      "source": [
        "revenue_category_df = all_df.groupby(by='product_category_name_english').payment_value.sum().sort_values(ascending=True).reset_index()"
      ],
      "metadata": {
        "id": "BEsL4MOgFC6Q"
      },
      "execution_count": 75,
      "outputs": []
    },
    {
      "cell_type": "code",
      "source": [
        "fig, ax = plt.subplots(nrows=1, ncols=2, figsize=(16,6))\n",
        "colors = ['#72BCD4', '#D3D3D3', '#D3D3D3', '#D3D3D3', '#D3D3D3']\n",
        "\n",
        "sns.barplot(x='payment_value', y='product_category_name_english', data=revenue_category_df.sort_values(by='payment_value', ascending=False).head(5), palette = colors, ax=ax[0])\n",
        "\n",
        "ax[0].set_ylabel(None)\n",
        "ax[0].set_xlabel(\"Dalam Juta\")\n",
        "ax[0].set_title(\"Kategori Performa Terbaik\", loc = 'center', fontsize = 15)\n",
        "ax[0].tick_params(axis = 'y', labelsize = 12)\n",
        "\n",
        "sns.barplot(x='payment_value', y='product_category_name_english', data=revenue_category_df.sort_values(by='payment_value', ascending=True).head(), palette=colors, ax=ax[1])\n",
        "ax[1].set_ylabel(None)\n",
        "ax[1].set_xlabel(None)\n",
        "ax[1].invert_xaxis()\n",
        "ax[1].yaxis.set_label_position('right')\n",
        "ax[1].yaxis.tick_right()\n",
        "ax[1].set_title(\"Kategori Performa Terburuk\", loc = 'center', fontsize = 15)\n",
        "ax[1].tick_params(axis='y', labelsize=12)\n",
        "\n",
        "plt.suptitle('Kategori dengan Performa Terbaik dan Terburuk', fontsize=20)\n",
        "plt.show()"
      ],
      "metadata": {
        "colab": {
          "base_uri": "https://localhost:8080/",
          "height": 605
        },
        "id": "1fnkLsCEEf3g",
        "outputId": "6cc62d7f-6e4c-4c44-eeb5-51da46fd6f57"
      },
      "execution_count": 76,
      "outputs": [
        {
          "output_type": "stream",
          "name": "stderr",
          "text": [
            "<ipython-input-76-56051e375ccf>:4: FutureWarning: \n",
            "\n",
            "Passing `palette` without assigning `hue` is deprecated and will be removed in v0.14.0. Assign the `y` variable to `hue` and set `legend=False` for the same effect.\n",
            "\n",
            "  sns.barplot(x='payment_value', y='product_category_name_english', data=revenue_category_df.sort_values(by='payment_value', ascending=False).head(5), palette = colors, ax=ax[0])\n",
            "<ipython-input-76-56051e375ccf>:11: FutureWarning: \n",
            "\n",
            "Passing `palette` without assigning `hue` is deprecated and will be removed in v0.14.0. Assign the `y` variable to `hue` and set `legend=False` for the same effect.\n",
            "\n",
            "  sns.barplot(x='payment_value', y='product_category_name_english', data=revenue_category_df.sort_values(by='payment_value', ascending=True).head(), palette=colors, ax=ax[1])\n"
          ]
        },
        {
          "output_type": "display_data",
          "data": {
            "text/plain": [
              "<Figure size 1600x600 with 2 Axes>"
            ],
            "image/png": "[encoded data removed]"
          },
          "metadata": {}
        }
      ]
    },
    {
      "cell_type": "markdown",
      "source": [
        "# Pertanyaan 4:"
      ],
      "metadata": {
        "id": "Ws9HmhBsH192"
      }
    },
    {
      "cell_type": "markdown",
      "source": [
        "Kategori produk apa dengan jumlah pendapatan paling tinggi berdasarkan state?"
      ],
      "metadata": {
        "id": "TE3zSL2gJPk-"
      }
    },
    {
      "cell_type": "code",
      "source": [
        "idx = top_category_bystate_df.groupby('customer_state')['revenue'].idxmax()\n",
        "top_category_bystate_df.loc[idx].sort_values(by='revenue', ascending=False).head(5).plot.barh()\n",
        "plt.ylabel(None)\n",
        "plt.xlabel(None)\n",
        "plt.title('Kategori Produk Berdasarkan State')\n",
        "plt.gca().invert_yaxis()\n",
        "\n",
        "plt.show()"
      ],
      "metadata": {
        "colab": {
          "base_uri": "https://localhost:8080/",
          "height": 452
        },
        "id": "KdcfFBOUJXcC",
        "outputId": "25d64fe6-c718-45bf-cd17-9311b2dfe0c0"
      },
      "execution_count": 77,
      "outputs": [
        {
          "output_type": "display_data",
          "data": {
            "text/plain": [
              "<Figure size 640x480 with 1 Axes>"
            ],
            "image/png": "[encoded data removed]"
          },
          "metadata": {}
        }
      ]
    },
    {
      "cell_type": "markdown",
      "source": [
        "# Pertanyaan 5:"
      ],
      "metadata": {
        "id": "ettC-UJ5S1H1"
      }
    },
    {
      "cell_type": "markdown",
      "source": [
        "Bagaimana performa penjualan dalam beberapa bulan terakhir?"
      ],
      "metadata": {
        "id": "nm9RupxYS56A"
      }
    },
    {
      "cell_type": "code",
      "source": [
        "monthly_orders_df = all_df.resample(rule='M', on='order_purchase_timestamp').agg({\n",
        "    'order_id':'nunique',\n",
        "    'payment_value':'sum'\n",
        "})\n",
        "\n",
        "monthly_orders_df.index = monthly_orders_df.index.strftime('%Y-%m')\n",
        "monthly_orders_df = monthly_orders_df.reset_index()\n",
        "monthly_orders_df.rename(columns={\n",
        "    'order_id':'order_count',\n",
        "    'payment_value':'revenue'\n",
        "}, inplace=True)\n",
        "\n",
        "last_sixmonths = monthly_orders_df.iloc[-6:]"
      ],
      "metadata": {
        "id": "tk1xR90TS0vr"
      },
      "execution_count": 78,
      "outputs": []
    },
    {
      "cell_type": "code",
      "source": [
        "plt.figure(figsize=(10,5))\n",
        "plt.plot(last_sixmonths['order_purchase_timestamp'], last_sixmonths['order_count'], marker='o', linewidth=3, color='#00f6a8')\n",
        "plt.title('Jumlah Pesanan 6 Bulan Terakhir', loc = 'center', fontsize=20)\n",
        "plt.xticks(fontsize=10)\n",
        "plt.yticks(fontsize=10)\n",
        "plt.show()"
      ],
      "metadata": {
        "colab": {
          "base_uri": "https://localhost:8080/",
          "height": 476
        },
        "id": "CCSEHKlaTq4Y",
        "outputId": "af3eff02-2501-487a-d833-8358b78eab89"
      },
      "execution_count": 79,
      "outputs": [
        {
          "output_type": "display_data",
          "data": {
            "text/plain": [
              "<Figure size 1000x500 with 1 Axes>"
            ],
            "image/png": "[encoded data removed]"
          },
          "metadata": {}
        }
      ]
    },
    {
      "cell_type": "code",
      "source": [
        "plt.figure(figsize=(10,5))\n",
        "plt.plot(last_sixmonths['order_purchase_timestamp'], last_sixmonths['revenue'], marker='o', linewidth=3, color='#00f6a8')\n",
        "plt.title('Pendapatan 6 Bulan Terakhir', loc = 'center', fontsize=20)\n",
        "plt.xticks(fontsize=10)\n",
        "plt.yticks(fontsize=10)\n",
        "plt.ylabel('Dalam Juta')\n",
        "plt.show()"
      ],
      "metadata": {
        "colab": {
          "base_uri": "https://localhost:8080/",
          "height": 476
        },
        "id": "9DJWPQw7Udv-",
        "outputId": "63e96b89-4980-4231-b881-89bb0799bd16"
      },
      "execution_count": 80,
      "outputs": [
        {
          "output_type": "display_data",
          "data": {
            "text/plain": [
              "<Figure size 1000x500 with 1 Axes>"
            ],
            "image/png": "[encoded data removed]"
          },
          "metadata": {}
        }
      ]
    },
    {
      "cell_type": "markdown",
      "source": [
        "# Pertanyaan 6:"
      ],
      "metadata": {
        "id": "OyvNBIrL93vw"
      }
    },
    {
      "cell_type": "markdown",
      "source": [
        "Berapa rata-rata harga tiap produk per kategori?"
      ],
      "metadata": {
        "id": "-YCQBij296Yl"
      }
    },
    {
      "cell_type": "code",
      "source": [
        "price_bycategory = gabungan1_df.groupby(by='product_category_name_english').price.mean().sort_values(ascending=False).reset_index()\n",
        "price_bycategory.head()"
      ],
      "metadata": {
        "colab": {
          "base_uri": "https://localhost:8080/",
          "height": 206
        },
        "id": "dX5UWVwE-DBx",
        "outputId": "36fdf6db-bfa0-40ab-f4f1-e4ad3d09ba0d"
      },
      "execution_count": 81,
      "outputs": [
        {
          "output_type": "execute_result",
          "data": {
            "text/plain": [
              "           product_category_name_english        price\n",
              "0                              computers  1143.942143\n",
              "1  small_appliances_home_oven_and_coffee   484.770874\n",
              "2                      home_appliances_2   463.862782\n",
              "3             agro_industry_and_commerce   329.533148\n",
              "4                       small_appliances   294.984909"
            ],
            "text/html": [
              "\n",
              "  <div id=\"df-e21a6f80-5a08-423d-9f92-d1b71fbac0b6\" class=\"colab-df-container\">\n",
              "    <div>\n",
              "<style scoped>\n",
              "    .dataframe tbody tr th:only-of-type {\n",
              "        vertical-align: middle;\n",
              "    }\n",
              "\n",
              "    .dataframe tbody tr th {\n",
              "        vertical-align: top;\n",
              "    }\n",
              "\n",
              "    .dataframe thead th {\n",
              "        text-align: right;\n",
              "    }\n",
              "</style>\n",
              "<table border=\"1\" class=\"dataframe\">\n",
              "  <thead>\n",
              "    <tr style=\"text-align: right;\">\n",
              "      <th></th>\n",
              "      <th>product_category_name_english</th>\n",
              "      <th>price</th>\n",
              "    </tr>\n",
              "  </thead>\n",
              "  <tbody>\n",
              "    <tr>\n",
              "      <th>0</th>\n",
              "      <td>computers</td>\n",
              "      <td>1143.942143</td>\n",
              "    </tr>\n",
              "    <tr>\n",
              "      <th>1</th>\n",
              "      <td>small_appliances_home_oven_and_coffee</td>\n",
              "      <td>484.770874</td>\n",
              "    </tr>\n",
              "    <tr>\n",
              "      <th>2</th>\n",
              "      <td>home_appliances_2</td>\n",
              "      <td>463.862782</td>\n",
              "    </tr>\n",
              "    <tr>\n",
              "      <th>3</th>\n",
              "      <td>agro_industry_and_commerce</td>\n",
              "      <td>329.533148</td>\n",
              "    </tr>\n",
              "    <tr>\n",
              "      <th>4</th>\n",
              "      <td>small_appliances</td>\n",
              "      <td>294.984909</td>\n",
              "    </tr>\n",
              "  </tbody>\n",
              "</table>\n",
              "</div>\n",
              "    <div class=\"colab-df-buttons\">\n",
              "\n",
              "  <div class=\"colab-df-container\">\n",
              "    <button class=\"colab-df-convert\" onclick=\"convertToInteractive('df-e21a6f80-5a08-423d-9f92-d1b71fbac0b6')\"\n",
              "            title=\"Convert this dataframe to an interactive table.\"\n",
              "            style=\"display:none;\">\n",
              "\n",
              "  <svg xmlns=\"http://www.w3.org/2000/svg\" height=\"24px\" viewBox=\"0 -960 960 960\">\n",
              "    <path d=\"M120-120v-720h720v720H120Zm60-500h600v-160H180v160Zm220 220h160v-160H400v160Zm0 220h160v-160H400v160ZM180-400h160v-160H180v160Zm440 0h160v-160H620v160ZM180-180h160v-160H180v160Zm440 0h160v-160H620v160Z\"/>\n",
              "  </svg>\n",
              "    </button>\n",
              "\n",
              "  <style>\n",
              "    .colab-df-container {\n",
              "      display:flex;\n",
              "      gap: 12px;\n",
              "    }\n",
              "\n",
              "    .colab-df-convert {\n",
              "      background-color: #E8F0FE;\n",
              "      border: none;\n",
              "      border-radius: 50%;\n",
              "      cursor: pointer;\n",
              "      display: none;\n",
              "      fill: #1967D2;\n",
              "      height: 32px;\n",
              "      padding: 0 0 0 0;\n",
              "      width: 32px;\n",
              "    }\n",
              "\n",
              "    .colab-df-convert:hover {\n",
              "      background-color: #E2EBFA;\n",
              "      box-shadow: 0px 1px 2px rgba(60, 64, 67, 0.3), 0px 1px 3px 1px rgba(60, 64, 67, 0.15);\n",
              "      fill: #174EA6;\n",
              "    }\n",
              "\n",
              "    .colab-df-buttons div {\n",
              "      margin-bottom: 4px;\n",
              "    }\n",
              "\n",
              "    [theme=dark] .colab-df-convert {\n",
              "      background-color: #3B4455;\n",
              "      fill: #D2E3FC;\n",
              "    }\n",
              "\n",
              "    [theme=dark] .colab-df-convert:hover {\n",
              "      background-color: #434B5C;\n",
              "      box-shadow: 0px 1px 3px 1px rgba(0, 0, 0, 0.15);\n",
              "      filter: drop-shadow(0px 1px 2px rgba(0, 0, 0, 0.3));\n",
              "      fill: #FFFFFF;\n",
              "    }\n",
              "  </style>\n",
              "\n",
              "    <script>\n",
              "      const buttonEl =\n",
              "        document.querySelector('#df-e21a6f80-5a08-423d-9f92-d1b71fbac0b6 button.colab-df-convert');\n",
              "      buttonEl.style.display =\n",
              "        google.colab.kernel.accessAllowed ? 'block' : 'none';\n",
              "\n",
              "      async function convertToInteractive(key) {\n",
              "        const element = document.querySelector('#df-e21a6f80-5a08-423d-9f92-d1b71fbac0b6');\n",
              "        const dataTable =\n",
              "          await google.colab.kernel.invokeFunction('convertToInteractive',\n",
              "                                                    [key], {});\n",
              "        if (!dataTable) return;\n",
              "\n",
              "        const docLinkHtml = 'Like what you see? Visit the ' +\n",
              "          '<a target=\"_blank\" href=https://colab.research.google.com/notebooks/data_table.ipynb>data table notebook</a>'\n",
              "          + ' to learn more about interactive tables.';\n",
              "        element.innerHTML = '';\n",
              "        dataTable['output_type'] = 'display_data';\n",
              "        await google.colab.output.renderOutput(dataTable, element);\n",
              "        const docLink = document.createElement('div');\n",
              "        docLink.innerHTML = docLinkHtml;\n",
              "        element.appendChild(docLink);\n",
              "      }\n",
              "    </script>\n",
              "  </div>\n",
              "\n",
              "\n",
              "<div id=\"df-58920c64-97b0-4187-b356-945ec7df05f2\">\n",
              "  <button class=\"colab-df-quickchart\" onclick=\"quickchart('df-58920c64-97b0-4187-b356-945ec7df05f2')\"\n",
              "            title=\"Suggest charts\"\n",
              "            style=\"display:none;\">\n",
              "\n",
              "<svg xmlns=\"http://www.w3.org/2000/svg\" height=\"24px\"viewBox=\"0 0 24 24\"\n",
              "     width=\"24px\">\n",
              "    <g>\n",
              "        <path d=\"M19 3H5c-1.1 0-2 .9-2 2v14c0 1.1.9 2 2 2h14c1.1 0 2-.9 2-2V5c0-1.1-.9-2-2-2zM9 17H7v-7h2v7zm4 0h-2V7h2v10zm4 0h-2v-4h2v4z\"/>\n",
              "    </g>\n",
              "</svg>\n",
              "  </button>\n",
              "\n",
              "<style>\n",
              "  .colab-df-quickchart {\n",
              "      --bg-color: #E8F0FE;\n",
              "      --fill-color: #1967D2;\n",
              "      --hover-bg-color: #E2EBFA;\n",
              "      --hover-fill-color: #174EA6;\n",
              "      --disabled-fill-color: #AAA;\n",
              "      --disabled-bg-color: #DDD;\n",
              "  }\n",
              "\n",
              "  [theme=dark] .colab-df-quickchart {\n",
              "      --bg-color: #3B4455;\n",
              "      --fill-color: #D2E3FC;\n",
              "      --hover-bg-color: #434B5C;\n",
              "      --hover-fill-color: #FFFFFF;\n",
              "      --disabled-bg-color: #3B4455;\n",
              "      --disabled-fill-color: #666;\n",
              "  }\n",
              "\n",
              "  .colab-df-quickchart {\n",
              "    background-color: var(--bg-color);\n",
              "    border: none;\n",
              "    border-radius: 50%;\n",
              "    cursor: pointer;\n",
              "    display: none;\n",
              "    fill: var(--fill-color);\n",
              "    height: 32px;\n",
              "    padding: 0;\n",
              "    width: 32px;\n",
              "  }\n",
              "\n",
              "  .colab-df-quickchart:hover {\n",
              "    background-color: var(--hover-bg-color);\n",
              "    box-shadow: 0 1px 2px rgba(60, 64, 67, 0.3), 0 1px 3px 1px rgba(60, 64, 67, 0.15);\n",
              "    fill: var(--button-hover-fill-color);\n",
              "  }\n",
              "\n",
              "  .colab-df-quickchart-complete:disabled,\n",
              "  .colab-df-quickchart-complete:disabled:hover {\n",
              "    background-color: var(--disabled-bg-color);\n",
              "    fill: var(--disabled-fill-color);\n",
              "    box-shadow: none;\n",
              "  }\n",
              "\n",
              "  .colab-df-spinner {\n",
              "    border: 2px solid var(--fill-color);\n",
              "    border-color: transparent;\n",
              "    border-bottom-color: var(--fill-color);\n",
              "    animation:\n",
              "      spin 1s steps(1) infinite;\n",
              "  }\n",
              "\n",
              "  @keyframes spin {\n",
              "    0% {\n",
              "      border-color: transparent;\n",
              "      border-bottom-color: var(--fill-color);\n",
              "      border-left-color: var(--fill-color);\n",
              "    }\n",
              "    20% {\n",
              "      border-color: transparent;\n",
              "      border-left-color: var(--fill-color);\n",
              "      border-top-color: var(--fill-color);\n",
              "    }\n",
              "    30% {\n",
              "      border-color: transparent;\n",
              "      border-left-color: var(--fill-color);\n",
              "      border-top-color: var(--fill-color);\n",
              "      border-right-color: var(--fill-color);\n",
              "    }\n",
              "    40% {\n",
              "      border-color: transparent;\n",
              "      border-right-color: var(--fill-color);\n",
              "      border-top-color: var(--fill-color);\n",
              "    }\n",
              "    60% {\n",
              "      border-color: transparent;\n",
              "      border-right-color: var(--fill-color);\n",
              "    }\n",
              "    80% {\n",
              "      border-color: transparent;\n",
              "      border-right-color: var(--fill-color);\n",
              "      border-bottom-color: var(--fill-color);\n",
              "    }\n",
              "    90% {\n",
              "      border-color: transparent;\n",
              "      border-bottom-color: var(--fill-color);\n",
              "    }\n",
              "  }\n",
              "</style>\n",
              "\n",
              "  <script>\n",
              "    async function quickchart(key) {\n",
              "      const quickchartButtonEl =\n",
              "        document.querySelector('#' + key + ' button');\n",
              "      quickchartButtonEl.disabled = true;  // To prevent multiple clicks.\n",
              "      quickchartButtonEl.classList.add('colab-df-spinner');\n",
              "      try {\n",
              "        const charts = await google.colab.kernel.invokeFunction(\n",
              "            'suggestCharts', [key], {});\n",
              "      } catch (error) {\n",
              "        console.error('Error during call to suggestCharts:', error);\n",
              "      }\n",
              "      quickchartButtonEl.classList.remove('colab-df-spinner');\n",
              "      quickchartButtonEl.classList.add('colab-df-quickchart-complete');\n",
              "    }\n",
              "    (() => {\n",
              "      let quickchartButtonEl =\n",
              "        document.querySelector('#df-58920c64-97b0-4187-b356-945ec7df05f2 button');\n",
              "      quickchartButtonEl.style.display =\n",
              "        google.colab.kernel.accessAllowed ? 'block' : 'none';\n",
              "    })();\n",
              "  </script>\n",
              "</div>\n",
              "    </div>\n",
              "  </div>\n"
            ],
            "application/vnd.google.colaboratory.intrinsic+json": {
              "type": "dataframe",
              "variable_name": "price_bycategory",
              "summary": "{\n  \"name\": \"price_bycategory\",\n  \"rows\": 71,\n  \"fields\": [\n    {\n      \"column\": \"product_category_name_english\",\n      \"properties\": {\n        \"dtype\": \"string\",\n        \"num_unique_values\": 71,\n        \"samples\": [\n          \"auto\",\n          \"computers\",\n          \"furniture_decor\"\n        ],\n        \"semantic_type\": \"\",\n        \"description\": \"\"\n      }\n    },\n    {\n      \"column\": \"price\",\n      \"properties\": {\n        \"dtype\": \"number\",\n        \"std\": 145.05515491638704,\n        \"min\": 29.12913043478261,\n        \"max\": 1143.942142857143,\n        \"num_unique_values\": 71,\n        \"samples\": [\n          142.47351152525746,\n          1143.942142857143,\n          94.7095956043956\n        ],\n        \"semantic_type\": \"\",\n        \"description\": \"\"\n      }\n    }\n  ]\n}"
            }
          },
          "metadata": {},
          "execution_count": 81
        }
      ]
    },
    {
      "cell_type": "code",
      "source": [
        "plt.figure(figsize=(10,5))\n",
        "colors_ = ['#72bcd4', '#d3d3d3', '#d3d3d3', '#d3d3d3', '#d3d3d3']\n",
        "\n",
        "sns.barplot(\n",
        "    y='product_category_name_english',\n",
        "    x='price',\n",
        "    data=price_bycategory.head().sort_values(by='price',ascending=False),\n",
        "    palette=colors_\n",
        ")\n",
        "\n",
        "plt.show()"
      ],
      "metadata": {
        "colab": {
          "base_uri": "https://localhost:8080/",
          "height": 569
        },
        "id": "a2Sq_5-v-pm4",
        "outputId": "b70427df-ac53-44d1-ce96-490cbfc814e8"
      },
      "execution_count": 82,
      "outputs": [
        {
          "output_type": "stream",
          "name": "stderr",
          "text": [
            "<ipython-input-82-a1b41f739335>:4: FutureWarning: \n",
            "\n",
            "Passing `palette` without assigning `hue` is deprecated and will be removed in v0.14.0. Assign the `y` variable to `hue` and set `legend=False` for the same effect.\n",
            "\n",
            "  sns.barplot(\n"
          ]
        },
        {
          "output_type": "display_data",
          "data": {
            "text/plain": [
              "<Figure size 1000x500 with 1 Axes>"
            ],
            "image/png": "[encoded data removed]"
          },
          "metadata": {}
        }
      ]
    },
    {
      "cell_type": "markdown",
      "metadata": {
        "id": "_WeHlCeX8DC2"
      },
      "source": [
        "## Conclusion"
      ]
    },
    {
      "cell_type": "markdown",
      "metadata": {
        "id": "ZTcyR48Y8DC2"
      },
      "source": [
        "#### 1. Apa saja lima kota teratas dengan jumlah pelanggan paling banyak?\n",
        "- Tampak bahwa Sao Paulo menduduki peringkat teratas sebagai kota dengan jumlah pelanggan paling banyak dengan jumlah di atas 14.000. Hal ini kemungkinan besar berkaitan dengan kedudukan kota ini sebagai salah satu kota paling pada penduduk di Brazil.\n",
        "\n",
        "#### 2. Apa saja lima state teratas dengan jumlah pelanggan terbanyak?\n",
        "- Data perolehan menunjukkan bahwa state SP atau state of Sao Paulo juga menunjukkann posisi tertinggi dalam perolehan jumlah pelanggan. Hal ini tidak dapat dilepaskan dari fakta bahwa state ini merupakan state yang padat penduduk.\n",
        "\n",
        "#### 3. Kategori produk apa yang memiliki rata-rata pendapatan tertinggi?\n",
        "- Kategori yang paling banyak menghasilkan pendapatan adalah **health_beauty** dengan nilai sebesar 1,461,833.86 dengan rata-rata pendapatan per transaksi sebesar 158.62. Apabila diamati dari nilai rata-rata pendapatan per transaksinya, kategori **computers** memiliki angka tertinggi.\n",
        "\n",
        "#### 4. Apa kategori produk dengan pendapatan terbesar di tiap state?\n",
        "- Kategori bed_bath_table di state Sao Paulo (SP) memiliki pendapatan terbesar senilai 559,957.34 kemudian disusul oleh state Rio de Janeiro (RJ) pada kategori watches_gifts dengan pendapatan sebesar 199,359.27.\n",
        "\n",
        "#### 5. Bagaimana performa penjualan dalam beberapa bulan terakhir?\n",
        "- Jumlah pesanan maupun pendapatan mengalami penurunan tajam sejak bulan September. Tampak pada bulan terakhir nilai jumlah pesanan dan pendapatan berbeda drastis dengan bulan-bulan sebelumnya.\n",
        "\n",
        "### 6. Berapa rata-rata harga tiap kategori produk?\n",
        "- Harga rata-rata kategori tertinggi adalah **computers** dengan nilai mencapai 1143.9421 dan yang terendah adalah kategori **home_comfort_2** dengan harga rata-rata 29.1."
      ]
    }
  ],
  "metadata": {
    "kernelspec": {
      "display_name": "Python 3",
      "language": "python",
      "name": "python3"
    },
    "language_info": {
      "name": "python",
      "version": "3.8.0 (tags/v3.8.0:fa919fd, Oct 14 2019, 19:21:23) [MSC v.1916 32 bit (Intel)]"
    },
    "orig_nbformat": 4,
    "vscode": {
      "interpreter": {
        "hash": "972b3bf27e332e87b5379f2791f6ef9dfc79c71018c370b0d7423235e20fe4d7"
      }
    },
    "colab": {
      "provenance": []
    }
  },
  "nbformat": 4,
  "nbformat_minor": 0
}